{
  "cells": [
    {
      "cell_type": "code",
      "source": [
        "%%capture\n",
        "# capture는 주렁주렁 출력 보여주지 않게끔\n",
        "# 그래프에서 한글이 깨지지 않게 폰트 설치..\n",
        "# *맨처음에 셀 한 번 실행하고 세션 다시 시작하고 또 실행해야 반영됨!!\n",
        "!sudo apt-get install -y fonts-nanum\n",
        "!sudo fc-cache -fv\n",
        "!rm ~/.cache/matplotlib -rf\n",
        "import matplotlib.pyplot as plt\n",
        "plt.rc('font', family='NanumBarunGothic')"
      ],
      "metadata": {
        "id": "jCfL6bLPsKfh"
      },
      "execution_count": 2,
      "outputs": []
    },
    {
      "cell_type": "code",
      "execution_count": 3,
      "metadata": {
        "id": "zLax66xAd6EE"
      },
      "outputs": [],
      "source": [
        "%%capture\n",
        "!pip install gdown\n",
        "!pip install transformers\n",
        "!pip install sentencepiece # MarianTokenizer 불러올 때 필요\n",
        "!pip install sacremoses # MarianMTModel 에서 불러올 때 warning 뜨는 것 방지\n",
        "!pip install einops # 지리는 einops 쓰기 (Einstein operations)"
      ]
    },
    {
      "cell_type": "code",
      "execution_count": 4,
      "metadata": {
        "id": "MTWYysoYmgVO",
        "colab": {
          "base_uri": "https://localhost:8080/"
        },
        "outputId": "c3991c1b-bafd-476e-a4cc-da8925d6c1b4"
      },
      "outputs": [
        {
          "output_type": "stream",
          "name": "stdout",
          "text": [
            "Mounted at /content/drive\n",
            "cpu\n"
          ]
        }
      ],
      "source": [
        "from google.colab import drive\n",
        "drive.mount('/content/drive')\n",
        "import torch\n",
        "from torch import nn, optim\n",
        "from torch.optim.lr_scheduler import CosineAnnealingWarmRestarts\n",
        "from transformers import MarianMTModel, MarianTokenizer # MT: Machine Translation\n",
        "import pandas as pd\n",
        "from tqdm import tqdm\n",
        "import math, random\n",
        "from einops import rearrange\n",
        "\n",
        "DEVICE = \"cuda\" if torch.cuda.is_available() else \"cpu\"\n",
        "print(DEVICE)"
      ]
    },
    {
      "cell_type": "code",
      "source": [
        "# for random seed\n",
        "random_seed = 0\n",
        "torch.manual_seed(random_seed)\n",
        "torch.cuda.manual_seed(random_seed)\n",
        "torch.cuda.manual_seed_all(random_seed) # if use multi-GPU\n",
        "torch.backends.cudnn.deterministic = True\n",
        "torch.backends.cudnn.benchmark = False\n",
        "random.seed(random_seed)"
      ],
      "metadata": {
        "id": "YJw6jp-jyWah"
      },
      "execution_count": 5,
      "outputs": []
    },
    {
      "cell_type": "code",
      "execution_count": 6,
      "metadata": {
        "id": "M91CMRBUxnOX",
        "colab": {
          "base_uri": "https://localhost:8080/",
          "height": 343,
          "referenced_widgets": [
            "a794d449b9e54d58afc4a00cc2805d67",
            "aaf61747d0f548deb208e3e8fb13b1b2",
            "291e750963694ff39bd72eb158f845e1",
            "fe701fb75ae743fe9b13786b92ee91f2",
            "59bd78336fe84d8387462f84b3de4a91",
            "28971cf55b594588a131b2392087c962",
            "2b29dccb54c3449dbcbed47cd7dd6d5d",
            "0b7dab5002994480ab111fd7f7cc9f2c",
            "3ccbdb440ccf4c7ba15f5340ba3132ee",
            "892d8125687740ee85a6ee722624b63a",
            "e3f12a2e6f8d4e07865ea99d8685bbf1",
            "1d95920c293c4c6ca407eae90d0dcee2",
            "d84fbb0172de4b54a302e87a0fcdca2c",
            "79262e254d5d4bb1a0cb482aca15455e",
            "15dcf25a31a8486f8a31414a166619c8",
            "13ba1f819a3c4275af6b00668c918d6a",
            "ee5ddcc6d5f248a9828e257346e864cc",
            "70db29a0a7e6439dbf1944a9a7d49ec4",
            "0bc97a684e9946dda826943eeebbd183",
            "98cd23cc6c574c04b90c8938c6d05825",
            "46d3abc9f5a44aee830f88b59ba75f2e",
            "eb0eb9ce54e444e697ff7daeb6546aec",
            "439a41c66cdd423cb86c95d5f964e5d7",
            "6d6f7cfbd20c4c8f9328028fda2f3317",
            "cde9bd8b85204d989f2904125bbe74dd",
            "90abbc7a91c3463db02723d2c325e730",
            "611cd4c529a843509b2f2c6db2d6714d",
            "b00aa340e25a4ab4bd6653bce49c028c",
            "804111ecd71c456b8d5259288ba57d44",
            "c22d2f06f7b64d508f9d869ff51f412d",
            "2c79a67e49e54961bb7b3ca03f8bf4a8",
            "7dc6939796944d2e9d47e41eba7948f8",
            "cd94f16a539841ab86eb5df98091ffa3",
            "337cf59a7e0e4b4680f55f877c819916",
            "ae629a8b25b24a63891972718e9e8d3d",
            "3108fff33cb044d5963bc8ee788bd251",
            "459e5564102c4385b83798f731fd281a",
            "f8433edd4c204167b5c78160fac6ac92",
            "a0158d2667024242b9c8ba099976cfc8",
            "b8f91b6ab42744ccb88f4a09f1987dc0",
            "15e88467a1e14df098c745630c8be6d4",
            "675d5726b7244ecd820e012c9a5eb4e3",
            "b7c85f4978ec435fa31765610a96110b",
            "b1ff6f4c6d9f43ff92a79658a1f8cb8f",
            "191b7d0e34d64d07b89bced4912c8f02",
            "3727333dc29f4003a97bcf03530569f9",
            "16d0daef07af4b26add3fee18c4420a3",
            "6f44ba11d3494b1083f60e15a0956252",
            "b11a9db357724ee0af9e2d497ab4afc0",
            "5bbd9d6ae8194c34ae33b8767734ffbe",
            "dc4238c726e64227837d63a99f42d278",
            "4bb391cbcc5f45c799991cf909133322",
            "ebb9cc6bec1e442bac264b7f50eeb075",
            "abb0a565fa6b401589cd4e8fe62bfffc",
            "e6988fd7a22f4a3d8ef2f050aea654e9",
            "4d4bbd95807f438bb4bfc08ac5b355ed",
            "17a113568e1045e088c623f9deb3c9d7",
            "08a29118acbc4e7bb523b10fb203f36a",
            "726b417607c547939524bcf1872cfdcb",
            "ea3a9431fdd24c17af9defb9891d1796",
            "68234c8930a746ea8ae89d35ae272e48",
            "7bf3ff664c4b4d33a77542b8dccb43ef",
            "ab03331383d54a9ba5caa1a3f26b6bdf",
            "da2a352f24f84da5b79e19a7b527bab7",
            "c7be9f3d2ccf4eeeab6a6dd1ae7b3be0",
            "ee7237e5664342be9e0500b0ad2878bb",
            "64768e4bcf6a4c0f9d9e4d8d8b0d77fd",
            "6a9dc94bc1514a1da706377a1555de4b",
            "1074e2fae67c44b89bb5b280fd8f175b",
            "b3505325b05e49bd995ae3a3eab3034b",
            "12f97965c31f49ed98b8ef2a1c1fd9a0",
            "774910aec387436cbce602dd0215c8d8",
            "ec83dac865da4eabbe22afe5e4fcb99b",
            "62fe461c6dcc40939d309108e7fb6567",
            "b8a531a20d584526a317b29e8a9f7fa6",
            "4594e838329348c484a8d4059c4c5ae1",
            "ea7acefda3e3456795e5f6a27452bdfe"
          ]
        },
        "outputId": "87348ecb-ad6c-4dbd-ad72-0ea8470e9eae"
      },
      "outputs": [
        {
          "output_type": "stream",
          "name": "stderr",
          "text": [
            "/usr/local/lib/python3.10/dist-packages/huggingface_hub/utils/_token.py:88: UserWarning: \n",
            "The secret `HF_TOKEN` does not exist in your Colab secrets.\n",
            "To authenticate with the Hugging Face Hub, create a token in your settings tab (https://huggingface.co/settings/tokens), set it as secret in your Google Colab and restart your session.\n",
            "You will be able to reuse this secret in all of your notebooks.\n",
            "Please note that authentication is recommended but still optional to access public models or datasets.\n",
            "  warnings.warn(\n"
          ]
        },
        {
          "output_type": "display_data",
          "data": {
            "text/plain": [
              "tokenizer_config.json:   0%|          | 0.00/44.0 [00:00<?, ?B/s]"
            ],
            "application/vnd.jupyter.widget-view+json": {
              "version_major": 2,
              "version_minor": 0,
              "model_id": "a794d449b9e54d58afc4a00cc2805d67"
            }
          },
          "metadata": {}
        },
        {
          "output_type": "display_data",
          "data": {
            "text/plain": [
              "source.spm:   0%|          | 0.00/842k [00:00<?, ?B/s]"
            ],
            "application/vnd.jupyter.widget-view+json": {
              "version_major": 2,
              "version_minor": 0,
              "model_id": "1d95920c293c4c6ca407eae90d0dcee2"
            }
          },
          "metadata": {}
        },
        {
          "output_type": "display_data",
          "data": {
            "text/plain": [
              "target.spm:   0%|          | 0.00/813k [00:00<?, ?B/s]"
            ],
            "application/vnd.jupyter.widget-view+json": {
              "version_major": 2,
              "version_minor": 0,
              "model_id": "439a41c66cdd423cb86c95d5f964e5d7"
            }
          },
          "metadata": {}
        },
        {
          "output_type": "display_data",
          "data": {
            "text/plain": [
              "vocab.json:   0%|          | 0.00/1.72M [00:00<?, ?B/s]"
            ],
            "application/vnd.jupyter.widget-view+json": {
              "version_major": 2,
              "version_minor": 0,
              "model_id": "337cf59a7e0e4b4680f55f877c819916"
            }
          },
          "metadata": {}
        },
        {
          "output_type": "display_data",
          "data": {
            "text/plain": [
              "config.json:   0%|          | 0.00/1.39k [00:00<?, ?B/s]"
            ],
            "application/vnd.jupyter.widget-view+json": {
              "version_major": 2,
              "version_minor": 0,
              "model_id": "191b7d0e34d64d07b89bced4912c8f02"
            }
          },
          "metadata": {}
        },
        {
          "output_type": "display_data",
          "data": {
            "text/plain": [
              "pytorch_model.bin:   0%|          | 0.00/312M [00:00<?, ?B/s]"
            ],
            "application/vnd.jupyter.widget-view+json": {
              "version_major": 2,
              "version_minor": 0,
              "model_id": "4d4bbd95807f438bb4bfc08ac5b355ed"
            }
          },
          "metadata": {}
        },
        {
          "output_type": "display_data",
          "data": {
            "text/plain": [
              "generation_config.json:   0%|          | 0.00/293 [00:00<?, ?B/s]"
            ],
            "application/vnd.jupyter.widget-view+json": {
              "version_major": 2,
              "version_minor": 0,
              "model_id": "64768e4bcf6a4c0f9d9e4d8d8b0d77fd"
            }
          },
          "metadata": {}
        }
      ],
      "source": [
        "# Load the tokenizer & input embedding layer & last fc layer\n",
        "tokenizer = MarianTokenizer.from_pretrained('Helsinki-NLP/opus-mt-ko-en')\n",
        "model = MarianMTModel.from_pretrained('Helsinki-NLP/opus-mt-ko-en') # MT: Machine Translation\n",
        "# input_embedding = model.get_input_embeddings() # 일부 사이즈 큰 놈들은 데려와서 나머지만 학습시키려는 시도\n",
        "# input_embedding.weight.requires_grad = False # freeze\n",
        "# fc_out = model.get_output_embeddings()\n",
        "# fc_out.weight.requires_grad = False"
      ]
    },
    {
      "cell_type": "code",
      "source": [
        "eos_idx = tokenizer.eos_token_id\n",
        "pad_idx = tokenizer.pad_token_id\n",
        "print(\"eos_idx = \", eos_idx)\n",
        "print(\"pad_idx = \", pad_idx)"
      ],
      "metadata": {
        "id": "7JVm2cLU7RFT",
        "colab": {
          "base_uri": "https://localhost:8080/"
        },
        "outputId": "bf8d4d31-e083-45fc-877d-bbb603a94bfd"
      },
      "execution_count": 7,
      "outputs": [
        {
          "output_type": "stream",
          "name": "stdout",
          "text": [
            "eos_idx =  0\n",
            "pad_idx =  65000\n"
          ]
        }
      ]
    },
    {
      "cell_type": "markdown",
      "metadata": {
        "id": "F5yc63mSLmhA"
      },
      "source": [
        "## 하이퍼파라미터 조정"
      ]
    },
    {
      "cell_type": "code",
      "execution_count": 8,
      "metadata": {
        "id": "LrCcO4lFbavF",
        "colab": {
          "base_uri": "https://localhost:8080/"
        },
        "outputId": "ccbe0df1-b125-493a-a5a3-040a39a9fe33"
      },
      "outputs": [
        {
          "output_type": "stream",
          "name": "stdout",
          "text": [
            "Downloading...\n",
            "From (original): https://drive.google.com/uc?id=1bjbeWgqlVKJ9gzDcL1hfD9cIItQy9_N2\n",
            "From (redirected): https://drive.google.com/uc?id=1bjbeWgqlVKJ9gzDcL1hfD9cIItQy9_N2&confirm=t&uuid=90419273-edbe-462e-bbfa-8fbd40aa3826\n",
            "To: /content/Transformer_small.pt\n",
            "100% 448M/448M [00:08<00:00, 51.1MB/s]\n",
            "Downloading...\n",
            "From: https://drive.google.com/uc?id=1M0yYP2umxlwaAbk_iq5G_Z5y3qLu9Wet\n",
            "To: /content/Transformer_small_history.pt\n",
            "100% 1.39k/1.39k [00:00<00:00, 4.66MB/s]\n"
          ]
        }
      ],
      "source": [
        "BATCH_SIZE = 64 # 논문에선 2.5만 token이 한 batch에 담기게 했다고 함.\n",
        "LAMBDA = 0 # l2-Regularization를 위한 hyperparam. # 저장된 모델\n",
        "EPOCH = 15 # 저장된 모델\n",
        "# max_len = 512 # model.model.encoder.embed_positions 를 보면 512로 했음을 알 수 있다.\n",
        "max_len = 100 # 너무 긴거 같아서 자름 (GPU 부담도 많이 덜어짐)\n",
        "criterion = nn.CrossEntropyLoss(ignore_index = pad_idx) # pad token 이 출력 나와야하는 시점의 loss는 무시 (즉, label이 <pad> 일 때는 무시) # 저장된 모델\n",
        "# criterion = nn.CrossEntropyLoss(ignore_index = pad_idx, label_smoothing = 0.1) # 막상 해보니 성능 안나옴 <- 데이터가 많아야 할 듯\n",
        "\n",
        "scheduler_name = 'Noam'\n",
        "# scheduler_name = 'Cos'\n",
        "#### Noam ####\n",
        "# warmup_steps = 4000 # 이건 논문에서 제시한 값 (총 10만 step의 4%)\n",
        "warmup_steps = 1000 # 데이터 수 * EPOCH / BS = 총 step 수 인것 고려 # 저장된 모델\n",
        "LR_scale = 0.5 # Noam scheduler에 peak LR 값 조절을 위해 곱해질 녀석 # 저장된 모델\n",
        "#### Cos ####\n",
        "LR_init = 5e-4\n",
        "T0 = 1500 # 첫 주기\n",
        "T_mult = 2 # 배 만큼 주기가 길어짐 (1보다 큰 정수여야 함)\n",
        "#############\n",
        "\n",
        "new_model_train = False\n",
        "hyuk_model_use = True # 여러분만의 모델 만들어서 사용하고 싶다면 False로\n",
        "\n",
        "if hyuk_model_use:\n",
        "    !gdown https://drive.google.com/uc?id=1bjbeWgqlVKJ9gzDcL1hfD9cIItQy9_N2 -O Transformer_small.pt\n",
        "    !gdown https://drive.google.com/uc?id=1M0yYP2umxlwaAbk_iq5G_Z5y3qLu9Wet -O Transformer_small_history.pt\n",
        "\n",
        "    save_model_path = 'Transformer_small.pt'\n",
        "    save_history_path = 'Transformer_small_history.pt'\n",
        "else:\n",
        "    save_model_path = '/content/drive/MyDrive/Colab Notebooks/results/Transformer_small2.pt'\n",
        "    save_history_path = '/content/drive/MyDrive/Colab Notebooks/results/Transformer_small2_history.pt'"
      ]
    },
    {
      "cell_type": "code",
      "execution_count": 9,
      "metadata": {
        "id": "z_s8XVEO0FJV",
        "colab": {
          "base_uri": "https://localhost:8080/"
        },
        "outputId": "28240e93-13eb-4a8f-ae84-f1fbe9d411ab"
      },
      "outputs": [
        {
          "output_type": "stream",
          "name": "stdout",
          "text": [
            "65001\n"
          ]
        }
      ],
      "source": [
        "vocab_size = tokenizer.vocab_size\n",
        "print(vocab_size)\n",
        "\n",
        "# 논문에 나오는 base 모델 (train loss를 많이 줄이려면 많은 Epoch이 요구됨, 또, test 성능도 좋으려면 더 많은 데이터 요구)\n",
        "# n_layers = 6\n",
        "# d_model = 512\n",
        "# d_ff = 2048\n",
        "# n_heads = 8\n",
        "# drop_p = 0.1\n",
        "\n",
        "# 좀 사이즈 줄인 모델 (훈련된 input_embedding, fc_out 사용하면 사용 불가)\n",
        "n_layers = 3\n",
        "d_model = 256\n",
        "d_ff = 512\n",
        "n_heads = 8\n",
        "drop_p = 0.1"
      ]
    },
    {
      "cell_type": "markdown",
      "source": [
        "## 토크나이저 & 학습된 모델 써보기"
      ],
      "metadata": {
        "id": "IW3yD7ps3GO7"
      }
    },
    {
      "cell_type": "code",
      "execution_count": 10,
      "metadata": {
        "id": "RDM4hb-m-p9R",
        "colab": {
          "base_uri": "https://localhost:8080/"
        },
        "outputId": "b656d69b-c562-4a91-bffd-7f930e27136a"
      },
      "outputs": [
        {
          "output_type": "stream",
          "name": "stdout",
          "text": [
            "['▁H', 'i', ',', '▁I', \"'\", 'm', '▁H', 'y', 'u', 'k', '.', '▁', '...', '▁a', '▁a', '?']\n",
            "['▁a', '/', 'b', '▁1', '+2', '+3', '▁2:', '1', '▁a', '>', 'b']\n",
            "['▁p', 're', 'tra', 'in', 'ed', '▁re', 'st', 'art']\n",
            "['▁ch', 'at', 'G', 'P', 'T']\n",
            "['▁The', '▁', 'ex', 'am', 'ple', '▁is', '▁', 'very', '▁good', '▁in', '▁', 'our', '▁', 'le', 'c', 'ture']\n",
            "['▁한', '글', '은', '▁어떻게', '▁할까', '?']\n",
            "['▁확실히', '▁띄', '어', '쓰기', '▁기준으로', '▁토', '크', '나이', '징', '을', '▁하는', '▁것', '▁같', '진', '▁않다', '.']\n",
            "['▁조사', '는', '?', '▁나는', '▁너는', '▁우리는', '▁강의', '는', '▁너와', '▁나의', '▁내가', '▁너가', '▁나무가', '▁', '헿']\n",
            "['▁마음대로', '▁추가', '▁문장']\n"
          ]
        }
      ],
      "source": [
        "# tokenizer 써보기 (_로 띄어쓰기를 나타낸다! 즉, _가 없으면 이어진 한 단어임을 나타냄 subword tokenizing)\n",
        "# 토크나이저에 대해 참고 자료: https://ratsgo.github.io/nlpbook/docs/preprocess/bpe/\n",
        "print(tokenizer.tokenize(\"Hi, I'm Hyuk. ...        a   a?\"))\n",
        "print(tokenizer.tokenize(\"a/b 1+2+3 2:1 a>b\"))\n",
        "print(tokenizer.tokenize(\"pretrained restart\"))\n",
        "print(tokenizer.tokenize(\"chatGPT\"))\n",
        "print(tokenizer.tokenize(\"The example is very good in our lecture\")) # 띄어쓰기도 tokenize 할 때가 있다.\n",
        "print(tokenizer.tokenize(\"한글은 어떻게 할까?\"))\n",
        "print(tokenizer.tokenize(\"확실히 띄어쓰기 기준으로 토크나이징을 하는 것 같진 않다.\"))\n",
        "print(tokenizer.tokenize(\"조사는? 나는 너는 우리는 강의는 너와 나의 내가 너가 나무가 헿\"))\n",
        "print(tokenizer.tokenize(\"마음대로 추가 문장\"))"
      ]
    },
    {
      "cell_type": "code",
      "execution_count": null,
      "metadata": {
        "id": "JW5RLzZCo0QT"
      },
      "outputs": [],
      "source": [
        "print(tokenizer.get_vocab())\n",
        "print(tokenizer.vocab_size)\n",
        "\n",
        "print(tokenizer.encode('지능', add_special_tokens=False)) # string to index\n",
        "print(tokenizer.encode('<pad>', add_special_tokens=False)) # <pad>는 65000\n",
        "print(tokenizer.encode('</s>', add_special_tokens=False)) # <sos> or <eos>는 0\n",
        "print(tokenizer.encode('He', add_special_tokens=False)) # add_special_tokens=False 는 <eos> 자동 붙여주는 것을 방지\n",
        "print(tokenizer.encode('he', add_special_tokens=False)) # 대소문자 다른 단어로 인식\n",
        "print(tokenizer.tokenize('문장을 넣으면 토크나이즈해서 숫자로 바꾼다'))\n",
        "print(tokenizer.encode('문장을 넣으면 토크나이즈해서 숫자로 바꾼다', add_special_tokens=False))\n",
        "print(tokenizer.decode([204]))\n",
        "print(tokenizer.decode([206]))\n",
        "print(tokenizer.decode([210]))\n",
        "print(tokenizer.decode(list(range(15)) + [65000,65001,65002,65003]))"
      ]
    },
    {
      "cell_type": "code",
      "execution_count": 12,
      "metadata": {
        "id": "bDKo6PAk-thZ",
        "colab": {
          "base_uri": "https://localhost:8080/"
        },
        "outputId": "badca974-07d9-4e4a-e8df-814b18ef3934"
      },
      "outputs": [
        {
          "output_type": "stream",
          "name": "stdout",
          "text": [
            "입력: 헐! 대박 쩐다!\n",
            "AI의 번역: Oh, my God! That's awesome!\n"
          ]
        }
      ],
      "source": [
        "# 사전 학습된 모델로 번역해보기 (생각보다 성능 좋네)\n",
        "input_text = \"헐! 대박 쩐다!\"\n",
        "\n",
        "input_tokens = tokenizer.encode(input_text, return_tensors=\"pt\")\n",
        "translated_tokens = model.generate(input_tokens, max_new_tokens=max_len)\n",
        "translated_text = tokenizer.decode(translated_tokens[0], skip_special_tokens=True)\n",
        "\n",
        "print(\"입력:\", input_text)\n",
        "print(\"AI의 번역:\", translated_text)"
      ]
    },
    {
      "cell_type": "markdown",
      "metadata": {
        "id": "BEdSAEdAYzBf"
      },
      "source": [
        "## DS, DL 생성 & 테스트"
      ]
    },
    {
      "cell_type": "code",
      "source": [
        "# data 다운\n",
        "# %%capture\n",
        "# https://aihub.or.kr/aihubdata/data/view.do?currMenu=115&topMenu=100&aihubDataSe=realm&dataSetSn=126 에서 받을 수 있어요\n",
        "!gdown https://drive.google.com/uc?id=1r4ZnFJOStyBlNRx7snBQ-Iq2GNyJKL6t -O '대화체.xlsx'\n",
        "data = pd.read_excel('대화체.xlsx')"
      ],
      "metadata": {
        "id": "VmDVZxIOdnKJ",
        "colab": {
          "base_uri": "https://localhost:8080/"
        },
        "outputId": "df052dc1-3841-44ad-a077-f70366fbbf47"
      },
      "execution_count": 13,
      "outputs": [
        {
          "output_type": "stream",
          "name": "stdout",
          "text": [
            "Downloading...\n",
            "From: https://drive.google.com/uc?id=1r4ZnFJOStyBlNRx7snBQ-Iq2GNyJKL6t\n",
            "To: /content/대화체.xlsx\n",
            "100% 9.57M/9.57M [00:00<00:00, 16.4MB/s]\n"
          ]
        }
      ]
    },
    {
      "cell_type": "code",
      "execution_count": 14,
      "metadata": {
        "id": "LO8CDAgiFzgW",
        "colab": {
          "base_uri": "https://localhost:8080/"
        },
        "outputId": "94d068fa-f5c2-4a72-e5c7-52c55c25a358"
      },
      "outputs": [
        {
          "output_type": "stream",
          "name": "stdout",
          "text": [
            "97000\n",
            "2000\n",
            "1000\n"
          ]
        }
      ],
      "source": [
        "class CustomDataset(torch.utils.data.Dataset):\n",
        "    def __init__(self, data):\n",
        "        self.data = data\n",
        "\n",
        "    def __len__(self):\n",
        "        return self.data.shape[0]\n",
        "\n",
        "    def __getitem__(self, idx):\n",
        "        return self.data.loc[idx, '원문'], self.data.loc[idx, '번역문']\n",
        "\n",
        "custom_DS = CustomDataset(data)\n",
        "\n",
        "train_DS, val_DS, test_DS, _ = torch.utils.data.random_split(custom_DS, [97000, 2000, 1000, len(custom_DS)-97000-2000-1000])\n",
        "# 논문에서는 450만개 영,독 문장 pair 사용\n",
        "\n",
        "train_DL = torch.utils.data.DataLoader(train_DS, batch_size=BATCH_SIZE, shuffle=True)\n",
        "val_DL = torch.utils.data.DataLoader(val_DS, batch_size=BATCH_SIZE, shuffle=True)\n",
        "test_DL = torch.utils.data.DataLoader(test_DS, batch_size=BATCH_SIZE, shuffle=True)\n",
        "\n",
        "print(len(train_DS))\n",
        "print(len(val_DS))\n",
        "print(len(test_DS))"
      ]
    },
    {
      "cell_type": "code",
      "execution_count": 15,
      "metadata": {
        "id": "cStafJLkxb6E",
        "colab": {
          "base_uri": "https://localhost:8080/"
        },
        "outputId": "f927d1f6-faa4-41b1-c969-1dca873940e1"
      },
      "outputs": [
        {
          "output_type": "stream",
          "name": "stdout",
          "text": [
            "19993\n",
            "나도 그랬으면 좋겠지만 겨울까지 휴가 못 가.\n",
            "I wish I could, but I can't go on vacation until winter.\n"
          ]
        }
      ],
      "source": [
        "# test_DS 테스트\n",
        "i = 5\n",
        "idx = test_DS.indices[i]\n",
        "print(idx) # 엑셀 파일에서 idx번째 문장에 들어있음을 확인할 수 있다\n",
        "src_text, trg_text = custom_DS.__getitem__(idx)\n",
        "print(src_text)\n",
        "print(trg_text)"
      ]
    },
    {
      "cell_type": "code",
      "execution_count": 16,
      "metadata": {
        "id": "g1eSFkg9pYkl",
        "colab": {
          "base_uri": "https://localhost:8080/"
        },
        "outputId": "456f4c4e-7cd4-4f76-92de-2f6b6102e9b8"
      },
      "outputs": [
        {
          "output_type": "stream",
          "name": "stdout",
          "text": [
            "('아메리카노 1잔과 샌드위치 1개를 내일 아침 제 방으로 가져다주세요.', '아닙니다, 바로 다음에 나올 음식을 손님께 드리도록 할게요.', '2인분 추가 주문하면 음식이 나오는 데 얼마나 걸릴까요?', '일러스트 프로그램은 추가로 설치를 하셔야 하는데, 30분 정도 시간이 걸릴 것입니다.', '여기 이 부분이요, 아까 설명해주신 거랑 좀 다른 것 같은데요?', '그 제품은 품절되어 현재 남은 물량이 없습니다.', '새 상품과 기존에 받으셨던 상품의 맞교환으로 진행해드리겠습니다.', '그러게, 심지어 더치페이를 얼마를 해야 하는지 계산도 해줘.', '판매하는 핸드폰 케이스 종류를 늘려야 할인지도 모르겠어요.', '응, 식구들도 일찍 집에서 나가서 나를 깨워줄 사람이 없었어.', '하지만 꼭 인기 있는 주인공만 출연하는 것 같아.', '혹시 기내에서 카드 결제도 가능한가요?', '이 수박은 먹을 수도 없으니 환불 부탁드립니다.', '생각보다 음료가 너무 써서 그런데 시럽을 좀 추가할 수 있을까요?', '새로 계약하기로 했던 거 어떻게 되어가고 있어요?', '신경이 많이 쓰여서 웃을 때도 크게 안 웃거든요.', '마음에 드셨다니 다행이네요, 20분 정도 걸리는데 괜찮으세요?', '지금 퇴근하는 시간이라 차가 많이 막히지 않을까?', '그러면 저희 방으로 치킨을 시켜주실 수 있나요?', '한 팩에 물티슈가 100매 정도 들어 있습니다.', '체크인 시간은 11시까지인데, 혹시 언제 오세요?', '11일은 저희 쪽에서 힘들 것 같으니, 12일로 할 수 있을까요?', '장대리, 이번 우수실적 명단에 포함된 것 축하해.', '이 절에 가려면 버스를 타고 한 시간을 가야 해.', '다른 지점보다 훨씬 저렴하네요. 오늘 아무 때나 방문해도 될까요?', '몇 년간 꾸준히 SNS 활동을 했으며 이전에 상품 리뷰를 작성한 경험이 있는 사람들을 우선순위로 뽑았습니다.', '그러게, 아까 길 물어봤을 때 거기서 5분만 걸어가면 보인다고 했는데 말이지.', '요즘은 로봇 청소기보다 무선 청소기가 인기가 많습니다.', '3박 4일인데, 지금 남은 걸로 되지 않겠어?', '하지만 공이 팔에 닿을 때 너무 아파서 겁을 내게 돼.', '안녕하세요, 제가 연락드렸던 한국철강의 김민수 과장입니다.', '고속도로로 가면 요금이 더 추가되는데 괜찮으세요?', '일단 우리가 만날 회사 팀장님과 이사님의 정보가 필요해.', '제가 계속 일을 해야 해서요, 담당자분은 지금 바로 오실 수 있나요?', '앱을 확인하시면 제품 주문 상태가 보이실 겁니다.', '여기로 돌아올 수 없다니 대체 그게 무슨 말이야?', '본사 홍보팀과의 미팅건은 어떻게 진행해야 할까요?', '안타깝군요. 그냥 다른 팀 보러 가시는 건 어떠세요?', '제가 필요한 건 헤어 제품들인데, 헤어 제품들 관련 이벤트도 있다고 들었어요.', '면세 제한이 너무 많아서 힘드네요.', '9월부터는 1년 정도 광고가 가능하니 주문서 작성 바랍니다.', '홈페이지에 들어가셔서 메시지 작성하는 칸에 내용을 작성해 주세요.', '네, 하지만 그렇다면 사이즈를 저희 가게에서 측정해드릴 수 있습니다.', '뭐 음식도 아니고 그냥 껌일 뿐인데 왜 뱉어야 하는데?', '청소할 수 있는 봉투를 하나만 주시면 저희가 정리를 할 수 있을 것 같아요.', '네, 발목까지만 딱 맞는 상품이면 좋겠어요.', '액자를 구매하려고 하는데 세트 안에 벽에 걸 수 있는 여분의 못이 들어있나요?', '곧 저녁 시간이니까 밥이라도 먹으면서 얘기 나누자.', '어떤 부품인지 사진 찍어 보내주시면 확인 후 처리해드리겠습니다.', '그냥 사줘도 괜찮은데, 정말 네가 직접 만든 거야?', '샤부샤부 고기에 포함된 금액이 아니고, 무제한으로 먹을 수 있는 채소인 줄 알았는데요.', '중고 책이라면 2층으로 올라가셔야 하는데, 찾는 제품이 있나요?', '이쯤에 있다고 했는데 왜 버스정류장 표시가 안 보이지?', '클림트였군요, 정말 그림이 화려하고 아름답습니다.', '저기요, 주문한 음식이 아직도 나오지 않았어요.', '꼭 밥을 먹고 먹어야 하나요, 바쁘면 못 먹을 때도 있어서요.', '항상 그랬던 것처럼 넉넉하게 하는 게 좋지 않겠어?', '아니야, 너무 맛있는데 점심에 먹은 소화가 잘 안 됐나 봐.', '제가 젓가락을 잘 못 써서요, 포크만 있다면 괜찮습니다.', '네, 양식에 맞춰서 모든 비용을 기록하였습니다.', '우리 근처 어디 가서 커피 좀 마시자, 목마르다.', '아쉽네요, 그럼 피자 대신 완자로 변경할 수 있나요?', '아이 성별은 어떻게 되고, 들어가는 모습은 보셨나요?', '고객사의 요청이 있어서 이번에 해상 배송 말고 항공 배송을 해야 할 거 같아요.')\n",
            "('Please bring me a cup of Americano and a sandwich to my room tomorrow morning.', 'No, I will get you the dish that comes out next.', 'How long will it take to get the food served if I order an additional two servings?', 'For the illustration program, additional installation is required, which will take about 30 minutes.', 'This part here, it looks like it is a bit different from what you explained to me.', 'The product is out of stock fully at the present.', 'I will exchange it for the new product with the ones you received.', 'Yeah, it even calculates how much we should go dutch.', 'We might have to increase the variety of cell phone cases we sell.', 'Yes, and my family members all left the house early so there was nobody to wake me up.', 'But I think only the most popular characters appear.', 'Can I pay with a credit card onboard?', \"I can't even eat this watermelon so please refund it.\", \"The drink is more bitter than I thought it'd be, good I get a syrup shot?\", 'How is the new contract we agreed to make going?', 'It really bothers me, so I don’t laugh with my mouth open wide when I laugh.', \"I'm glad you enjoyed it, it'll take around 20 minutes if that’s ok?\", \"It's rush hour, so wouldn't there be bad traffic?\", 'Then, can you order some chicken to our room?', 'There are about 100 sheets in one pack of wet tissues.', 'The check-in time is 11 am, so when will you be arriving?', 'I think the 11th would be hard for us, so can we do it on the 12th?', 'Mr. Jang, Congratulations on being included on the excellent performance list.', \"To get into this temple, you'll need to take a bus for an hour.\", \"It's much cheaper than other stores. May I visit anytime today?\", \"They've been continuously active on social networking sites for years, and we've chosen people who have previously written product reviews as a priority.\", \"The last time we asked, they said that we'll find the restaurant if we walk for 5 minutes.\", 'Nowadays, wireless vacuum cleaners are more popular than robotic vacuum cleaners.', \"It's only for 3 nights and 4 days, so wouldn't what we have now be enough?\", \"But it hurts too much when the ball hits my arm, so I'm scared.\", \"Hello, I'm Min-Soo Kim, the manger of Korean Steel and I contacted earlier.\", \"It'll cost extra on the highway, are you alright with that?\", 'First, I need information on the Head of Department and the Director of the company we are meeting.', 'I have to continue working, can the person come right away?', \"If you check the app, you'll see the status of your product order.\", 'What on earth do you mean by that?', 'How should we conduct the meeting with the HQ promotion team?', \"That's too bad. Why don't you just go see another team?\", \"I'm looking for hair products and I heard there is a hair product event, as well.\", \"It's tough because there are too many duty-free restrictions.\", '1 year of advertising would be possible from September so please write an order request form.', 'Go to the web page and write the contents in the box for the message.', 'Yes, but if so, we can measure your size in our store.', \"It's not even food and just a gum so why do I need to spit it out?\", 'I think we can tidy up things a little bit if you can just give us one cleaning bag.', 'Okay, I hope the pants come right to my ankles.', 'I would like to buy a picture frame, and are there extra nails in the set to hang it on the wall?', \"It's soon to be dinner, so let's grab some food and talk it over.\", 'Please send us a picture of the part and I will take care of it after checking.', 'You could have just bought me one, Do you really make this?', 'I thought it was not included in the Shabu-shabu meat but could have unlimited vegetables.', \"If you're looking for used books, you have to go up to the 2nd floor, was there a book you were looking for?\", \"I was told that it's should be here somewhere, but how come I can't see the bus stop sign?\", \"It's Klimt, the painting is really gorgeous and beautiful.\", \"Excuse me, the food we ordered still hasn't come out.\", \"Do I have to take it after a meal? Because I don't get to eat when I am busy.\", \"Wouldn't it be good to leave enough days like always?\", \"No, it's really good, but I think I haven't been able to digest my lunch well.\", \"I am not good at using chopsticks, it's fine as long as there are forks.\", 'Yes, I wrote down all the expenses according to the form.', \"Let's go somewhere nearby to get some coffee since I am thirsty.\", 'Too bad, then can I change to meatball instead of pizza?', 'Whats your childs gender, and when did you see him go in?', 'There was a request from the client company so I think we will have to send it by plane instead of by ship.')\n",
            "64\n",
            "64\n",
            "tensor([[11943,  1088,   132,  3699,   162, 35280,   132, 14291,  4050,  3547,\n",
            "           303, 34412, 17832,  6339,     2, 65000, 65000, 65000, 65000, 65000,\n",
            "         65000, 65000, 65000, 65000, 65000, 65000],\n",
            "        [ 2069,     3,   642,  7076,  9198, 13496,  2479, 19676,  7335,   581,\n",
            "         14159,     2, 65000, 65000, 65000, 65000, 65000, 65000, 65000, 65000,\n",
            "         65000, 65000, 65000, 65000, 65000, 65000]])\n",
            "tensor([[    0,  1068,  1516, 17871,   575,  9630,    75,    11,  1487,  3185,\n",
            "             6,     9, 23346,   965,     8,    11,   979,  1732,  2196, 17110,\n",
            "             5,    84,     9,  2839,  6081,     5,   107,   992, 12163,  1495,\n",
            "           992,   649,   130,     2,     0, 65000, 65000, 65000, 65000, 65000,\n",
            "         65000, 65000, 65000, 65000, 65000, 65000, 65000, 65000, 65000, 65000,\n",
            "         65000, 65000, 65000, 65000, 65000, 65000, 65000, 65000, 65000, 65000,\n",
            "         65000, 65000, 65000, 65000, 65000, 65000, 65000, 65000],\n",
            "        [    0,   254,     3,    16,    61,   167,    18,     4,  4225,  3965,\n",
            "            15, 16373,   833,     9,  4503,  3898, 30959,     2,     0, 65000,\n",
            "         65000, 65000, 65000, 65000, 65000, 65000, 65000, 65000, 65000, 65000,\n",
            "         65000, 65000, 65000, 65000, 65000, 65000, 65000, 65000, 65000, 65000,\n",
            "         65000, 65000, 65000, 65000, 65000, 65000, 65000, 65000, 65000, 65000,\n",
            "         65000, 65000, 65000, 65000, 65000, 65000, 65000, 65000, 65000, 65000,\n",
            "         65000, 65000, 65000, 65000, 65000, 65000, 65000, 65000]])\n",
            "torch.Size([64, 26])\n",
            "torch.Size([64, 68])\n",
            "tensor([65000, 65000, 65000, 65000, 65000, 65000, 65000, 65000, 65000, 65000,\n",
            "        65000, 65000, 65000, 65000, 65000, 65000, 65000, 65000, 65000, 65000,\n",
            "        65000, 65000, 65000, 65000, 65000,     0, 65000, 65000, 65000, 65000,\n",
            "        65000, 65000, 65000, 65000, 65000, 65000, 65000, 65000, 65000, 65000,\n",
            "        65000, 65000, 65000, 65000, 65000, 65000, 65000, 65000, 65000, 65000,\n",
            "        65000, 65000, 65000, 65000, 65000, 65000, 65000, 65000, 65000, 65000,\n",
            "        65000, 65000, 65000, 65000])\n",
            "</s> They've been continuously active on social networking sites for years, and we've chosen people who have previously written product reviews as a priority.</s>\n",
            "tensor([    0,    57,  5502, 10510,   897,    49,    20,     9,  4503,     6,\n",
            "         7226,  9438,  1731, 40773,   350,     9,  2253,     4,  1835, 27342,\n",
            "         3166,     2,     0, 65000, 65000, 65000, 65000, 65000, 65000, 65000,\n",
            "        65000, 65000, 65000, 65000, 65000, 65000, 65000, 65000, 65000, 65000,\n",
            "        65000, 65000, 65000, 65000, 65000, 65000, 65000, 65000, 65000, 65000,\n",
            "        65000, 65000, 65000, 65000, 65000, 65000, 65000, 65000, 65000, 65000,\n",
            "        65000, 65000, 65000, 65000, 65000, 65000, 65000])\n",
            "tensor([   57,  5502, 10510,   897,    49,    20,     9,  4503,     6,  7226,\n",
            "         9438,  1731, 40773,   350,     9,  2253,     4,  1835, 27342,  3166,\n",
            "            2,     0, 65000, 65000, 65000, 65000, 65000, 65000, 65000, 65000,\n",
            "        65000, 65000, 65000, 65000, 65000, 65000, 65000, 65000, 65000, 65000,\n",
            "        65000, 65000, 65000, 65000, 65000, 65000, 65000, 65000, 65000, 65000,\n",
            "        65000, 65000, 65000, 65000, 65000, 65000, 65000, 65000, 65000, 65000,\n",
            "        65000, 65000, 65000, 65000, 65000, 65000, 65000])\n"
          ]
        }
      ],
      "source": [
        "# train_DL 테스트\n",
        "for src_texts, trg_texts in train_DL:\n",
        "\n",
        "    print(src_texts)\n",
        "    print(trg_texts)\n",
        "    print(len(src_texts))\n",
        "    print(len(trg_texts))\n",
        "\n",
        "    # 여러 문장에 대해서는 tokenizer.encode() 가 아닌 그냥 tokenizer()\n",
        "    src = tokenizer(src_texts, padding=True, truncation=True, max_length = max_len, return_tensors='pt', add_special_tokens = False).input_ids # pt: pytorch tensor로 변환\n",
        "    # add_special_tokens = True (default)면 마지막에 <eos> 를 붙임\n",
        "    # truncation = True: max_len 보다 길면 끊고 <eos> 집어넣어버림\n",
        "    trg_texts = ['</s> ' + s for s in trg_texts]\n",
        "    # <sos>가 토크나이저에 따로 없길래 </s> 를 <sos> 로 사용\n",
        "    trg = tokenizer(trg_texts, padding=True, truncation=True, max_length = max_len, return_tensors='pt').input_ids\n",
        "\n",
        "    print(src[:2])\n",
        "    print(trg[:2])\n",
        "    print(src.shape)\n",
        "    print(trg.shape)\n",
        "    print(trg[:,-1]) # 가장 마지막 단어를 보니 어떤 문장은 <eos> 로 끝이 났고 나머지는 <pad> 로 끝이 났다는 걸 볼 수 있음\n",
        "    print(tokenizer.decode(trg[trg[:,-1]==eos_idx,:][0])) # 가장 긴 문장 중 첫 번째 문장 관찰\n",
        "    print(trg[5,:-1]) # 디코더 입력\n",
        "    print(trg[5,1:]) # 디코더 출력\n",
        "    # 그런데 [:,:-1] 로 주면 패딩된 문장은 eos도 넣는 셈 아닌가? 맞다! 하지만 괜찮다. 어차피 출력으로 pad token이 기다리고 있으니.. (loss에서 ignore됨)\n",
        "\n",
        "    break"
      ]
    },
    {
      "cell_type": "code",
      "source": [
        "# 내가 쓸 train data 에 대해서 MarianMTmodel이 잘 번역하는지 확인\n",
        "i = 5\n",
        "idx = train_DS.indices[i]\n",
        "src_text, trg_text = custom_DS.__getitem__(idx)\n",
        "print(f\"입력: {src_text}\")\n",
        "print(f\"정답: {trg_text}\")\n",
        "\n",
        "src = tokenizer.encode(src_text, return_tensors='pt', add_special_tokens = True)\n",
        "# add_special_tokens = False 해보면 뭔가 이상하게 번역함 (학습 때 source에도 <eos>를 넣었단 증거?)\n",
        "translated_tokens = model.generate(src, max_new_tokens=max_len)\n",
        "translated_text = tokenizer.decode(translated_tokens[0], skip_special_tokens=False)\n",
        "\n",
        "print(f\"AI의 번역: {translated_text}\") # 디코더 첫 입력으로 <pad> 토큰을 넣었음. (<pad>를 <sos>로 사용)"
      ],
      "metadata": {
        "id": "ESCEFb8uEFg6",
        "colab": {
          "base_uri": "https://localhost:8080/"
        },
        "outputId": "2c59eed3-9f8c-4063-d975-c0fd5b37e531"
      },
      "execution_count": 17,
      "outputs": [
        {
          "output_type": "stream",
          "name": "stdout",
          "text": [
            "입력: 점심 먹고 오후 3시에 세미나실로 오시면 돼요.\n",
            "정답: Please come to the seminar room at 3 pm after you have lunch.\n",
            "AI의 번역: <pad> You can come to the seminar at 3:00 p.m. after lunch.</s>\n"
          ]
        }
      ]
    },
    {
      "cell_type": "markdown",
      "metadata": {
        "id": "u1QI9ylaH8jN"
      },
      "source": [
        "## 모델 구현"
      ]
    },
    {
      "cell_type": "markdown",
      "source": [
        "### Multi-Head Attention"
      ],
      "metadata": {
        "id": "YmYru6y0efTM"
      }
    },
    {
      "cell_type": "code",
      "execution_count": 18,
      "metadata": {
        "id": "KHjUdTFQl4sW"
      },
      "outputs": [],
      "source": [
        "class MHA(nn.Module):\n",
        "    def __init__(self, d_model, n_heads):\n",
        "        super().__init__()\n",
        "\n",
        "        self.n_heads = n_heads\n",
        "\n",
        "        self.fc_q = nn.Linear(d_model, d_model) # 차 or 개x차 or 개x개x차 로 입력해줘야\n",
        "        self.fc_k = nn.Linear(d_model, d_model)\n",
        "        self.fc_v = nn.Linear(d_model, d_model)\n",
        "        self.fc_o = nn.Linear(d_model, d_model)\n",
        "\n",
        "        self.scale = torch.sqrt(torch.tensor(d_model / n_heads))\n",
        "\n",
        "    def forward(self, Q, K, V, mask = None):\n",
        "\n",
        "        Q = self.fc_q(Q) # 개단차\n",
        "        K = self.fc_k(K)\n",
        "        V = self.fc_v(V)\n",
        "\n",
        "        Q = rearrange(Q, '개 단 (헤 차) -> 개 헤 단 차', 헤 = self.n_heads) # 개단차 -> 개헤단차\n",
        "        K = rearrange(K, '개 단 (헤 차) -> 개 헤 단 차', 헤 = self.n_heads)\n",
        "        V = rearrange(V, '개 단 (헤 차) -> 개 헤 단 차', 헤 = self.n_heads)\n",
        "\n",
        "        attention_score = Q @ K.transpose(-2,-1)/self.scale # 개헤단단\n",
        "\n",
        "        if mask is not None:\n",
        "            attention_score[mask] = -1e10\n",
        "\n",
        "        attention_weights = torch.softmax(attention_score, dim=-1) # 개헤단단\n",
        "\n",
        "        attention = attention_weights @ V # 개헤단차\n",
        "\n",
        "        x = rearrange(attention, '개 헤 단 차 -> 개 단 (헤 차)') # 개헤단차 -> 개단차\n",
        "        x = self.fc_o(x) # 개단차\n",
        "\n",
        "        return x, attention_weights\n",
        "\n",
        "        # einops를 알기전\n",
        "        # batch_size = Q.shape[0]\n",
        "\n",
        "        # Q = self.fc_q(Q) # 개단차\n",
        "        # K = self.fc_k(K)\n",
        "        # V = self.fc_v(V)\n",
        "\n",
        "        # Q = Q.reshape(batch_size, -1, self.n_heads, self.head_dim).permute(0,2,1,3) # 개헤단차를 만들어줘야 한다 (QK^TV 연산을 위해)\n",
        "        # K = K.reshape(batch_size, -1, self.n_heads, self.head_dim).permute(0,2,1,3) # 이 때, 개단차 -> 개단헤차 -> 개헤단차\n",
        "        # V = V.reshape(batch_size, -1, self.n_heads, self.head_dim).permute(0,2,1,3) # 이 순서로 해야 reshape할 때 512를 8개로 쪼갬!!!\n",
        "\n",
        "        # attention_score = Q@K.permute(0,1,3,2)/self.scale # 개헤단단\n",
        "\n",
        "        # if mask is not None:\n",
        "        #     attention_score[mask] = -1e10 # mask.shape = 개헤단단\n",
        "        # attention_weights = torch.softmax(attention_score, dim=-1) # 개헤단단\n",
        "\n",
        "        # attention = attention_weights @ V # 개헤단차\n",
        "\n",
        "        # x = attention.permute(0,2,1,3) # 개단헤차\n",
        "        # x = x.reshape(batch_size, -1, self.d_model) # 개단차\n",
        "\n",
        "        # x = self.fc_o(x) # 개단차\n",
        "\n",
        "        # return x, attention_weights\n",
        "\n",
        "class FeedForward(nn.Module):\n",
        "    def __init__(self, d_model, d_ff, drop_p):\n",
        "        super().__init__()\n",
        "\n",
        "        self.linear = nn.Sequential(nn.Linear(d_model, d_ff),\n",
        "                                    nn.ReLU(),\n",
        "                                    nn.Dropout(drop_p), # 논문에는 명시되어 있지 않지만.. overfitting 취약한 부분이라\n",
        "                                    nn.Linear(d_ff, d_model))\n",
        "\n",
        "    def forward(self, x):\n",
        "        x = self.linear(x)\n",
        "        return x"
      ]
    },
    {
      "cell_type": "markdown",
      "source": [
        "#### rearrange, scaling 실험"
      ],
      "metadata": {
        "id": "GpNQ96PXeTMc"
      }
    },
    {
      "cell_type": "code",
      "source": [
        "Q = torch.randn(1, 4, 6) # 개단차\n",
        "print(Q)\n",
        "\n",
        "Q = rearrange(Q, '개 단 (헤 차) -> 개 헤 단 차', 헤 = 3) # 개단차 -> 개헤단차\n",
        "# 주의! (차 헤) 로 해보면 또 다름. 차원의 수 6을 헤드의 수 3으로 쪼개는 것이므로 (헤 차) 가 맞다\n",
        "print(Q)\n",
        "print(Q.shape)\n",
        "\n",
        "x = rearrange(Q, '개 헤 단 차 -> 개 단 (헤 차)') # 개헤단차 -> 개단차,\n",
        "print(x)\n",
        "print(x.shape)"
      ],
      "metadata": {
        "id": "IissYFn5xgYo",
        "colab": {
          "base_uri": "https://localhost:8080/"
        },
        "outputId": "68582d02-736e-4b32-9d4c-5a3c5074b42a"
      },
      "execution_count": 19,
      "outputs": [
        {
          "output_type": "stream",
          "name": "stdout",
          "text": [
            "tensor([[[ 0.2595, -0.4927, -0.4737, -0.2074, -1.9427, -1.7322],\n",
            "         [-0.5939, -1.1785, -0.7656, -1.9260, -0.8876, -0.6519],\n",
            "         [ 0.1413, -1.7858,  0.2259, -0.0683, -0.4737, -1.9399],\n",
            "         [-1.4287, -0.6150,  0.4548,  0.8434,  1.2168, -0.7239]]])\n",
            "tensor([[[[ 0.2595, -0.4927],\n",
            "          [-0.5939, -1.1785],\n",
            "          [ 0.1413, -1.7858],\n",
            "          [-1.4287, -0.6150]],\n",
            "\n",
            "         [[-0.4737, -0.2074],\n",
            "          [-0.7656, -1.9260],\n",
            "          [ 0.2259, -0.0683],\n",
            "          [ 0.4548,  0.8434]],\n",
            "\n",
            "         [[-1.9427, -1.7322],\n",
            "          [-0.8876, -0.6519],\n",
            "          [-0.4737, -1.9399],\n",
            "          [ 1.2168, -0.7239]]]])\n",
            "torch.Size([1, 3, 4, 2])\n",
            "tensor([[[ 0.2595, -0.4927, -0.4737, -0.2074, -1.9427, -1.7322],\n",
            "         [-0.5939, -1.1785, -0.7656, -1.9260, -0.8876, -0.6519],\n",
            "         [ 0.1413, -1.7858,  0.2259, -0.0683, -0.4737, -1.9399],\n",
            "         [-1.4287, -0.6150,  0.4548,  0.8434,  1.2168, -0.7239]]])\n",
            "torch.Size([1, 4, 6])\n"
          ]
        }
      ]
    },
    {
      "cell_type": "code",
      "source": [
        "# Q = torch.randn(1, 4, 6) # 개단차\n",
        "# print(Q)\n",
        "\n",
        "# Q = Q.reshape(1, -1, 3, 2).permute(0,2,1,3) # 개헤단차를 만들어줘야 한다 (QK^TV 연산을 위해)\n",
        "# 이 때, 개단차 -> 개단헤차 -> 개헤단차\n",
        "# 이 순서로 해야 reshape할 때 512를 8개로 쪼갬!!!\n",
        "# print(Q)\n",
        "\n",
        "# x = Q.permute(0,2,1,3) # 개단헤차\n",
        "# x = x.reshape(1, -1, 6) # 개단차\n",
        "# print(x)"
      ],
      "metadata": {
        "id": "_CI30fky-EEU"
      },
      "execution_count": 20,
      "outputs": []
    },
    {
      "cell_type": "code",
      "execution_count": 21,
      "metadata": {
        "id": "t026BQxhtw0d",
        "colab": {
          "base_uri": "https://localhost:8080/",
          "height": 1000
        },
        "outputId": "64621ae0-5282-40ca-b949-24a515201364"
      },
      "outputs": [
        {
          "output_type": "execute_result",
          "data": {
            "text/plain": [
              "[<matplotlib.lines.Line2D at 0x7e0330a41000>]"
            ]
          },
          "metadata": {},
          "execution_count": 21
        },
        {
          "output_type": "stream",
          "name": "stderr",
          "text": [
            "WARNING:matplotlib.font_manager:findfont: Font family 'NanumBarunGothic' not found.\n",
            "WARNING:matplotlib.font_manager:findfont: Font family 'NanumBarunGothic' not found.\n",
            "WARNING:matplotlib.font_manager:findfont: Font family 'NanumBarunGothic' not found.\n",
            "WARNING:matplotlib.font_manager:findfont: Font family 'NanumBarunGothic' not found.\n",
            "WARNING:matplotlib.font_manager:findfont: Font family 'NanumBarunGothic' not found.\n",
            "WARNING:matplotlib.font_manager:findfont: Font family 'NanumBarunGothic' not found.\n",
            "WARNING:matplotlib.font_manager:findfont: Font family 'NanumBarunGothic' not found.\n",
            "WARNING:matplotlib.font_manager:findfont: Font family 'NanumBarunGothic' not found.\n",
            "WARNING:matplotlib.font_manager:findfont: Font family 'NanumBarunGothic' not found.\n",
            "WARNING:matplotlib.font_manager:findfont: Font family 'NanumBarunGothic' not found.\n",
            "WARNING:matplotlib.font_manager:findfont: Font family 'NanumBarunGothic' not found.\n",
            "WARNING:matplotlib.font_manager:findfont: Font family 'NanumBarunGothic' not found.\n",
            "WARNING:matplotlib.font_manager:findfont: Font family 'NanumBarunGothic' not found.\n",
            "WARNING:matplotlib.font_manager:findfont: Font family 'NanumBarunGothic' not found.\n",
            "WARNING:matplotlib.font_manager:findfont: Font family 'NanumBarunGothic' not found.\n",
            "WARNING:matplotlib.font_manager:findfont: Font family 'NanumBarunGothic' not found.\n",
            "WARNING:matplotlib.font_manager:findfont: Font family 'NanumBarunGothic' not found.\n",
            "WARNING:matplotlib.font_manager:findfont: Font family 'NanumBarunGothic' not found.\n",
            "WARNING:matplotlib.font_manager:findfont: Font family 'NanumBarunGothic' not found.\n",
            "WARNING:matplotlib.font_manager:findfont: Font family 'NanumBarunGothic' not found.\n",
            "WARNING:matplotlib.font_manager:findfont: Font family 'NanumBarunGothic' not found.\n",
            "WARNING:matplotlib.font_manager:findfont: Font family 'NanumBarunGothic' not found.\n",
            "WARNING:matplotlib.font_manager:findfont: Font family 'NanumBarunGothic' not found.\n",
            "WARNING:matplotlib.font_manager:findfont: Font family 'NanumBarunGothic' not found.\n",
            "WARNING:matplotlib.font_manager:findfont: Font family 'NanumBarunGothic' not found.\n",
            "WARNING:matplotlib.font_manager:findfont: Font family 'NanumBarunGothic' not found.\n",
            "WARNING:matplotlib.font_manager:findfont: Font family 'NanumBarunGothic' not found.\n",
            "WARNING:matplotlib.font_manager:findfont: Font family 'NanumBarunGothic' not found.\n",
            "WARNING:matplotlib.font_manager:findfont: Font family 'NanumBarunGothic' not found.\n",
            "WARNING:matplotlib.font_manager:findfont: Font family 'NanumBarunGothic' not found.\n",
            "WARNING:matplotlib.font_manager:findfont: Font family 'NanumBarunGothic' not found.\n",
            "WARNING:matplotlib.font_manager:findfont: Font family 'NanumBarunGothic' not found.\n",
            "WARNING:matplotlib.font_manager:findfont: Font family 'NanumBarunGothic' not found.\n",
            "WARNING:matplotlib.font_manager:findfont: Font family 'NanumBarunGothic' not found.\n",
            "WARNING:matplotlib.font_manager:findfont: Font family 'NanumBarunGothic' not found.\n",
            "WARNING:matplotlib.font_manager:findfont: Font family 'NanumBarunGothic' not found.\n",
            "WARNING:matplotlib.font_manager:findfont: Font family 'NanumBarunGothic' not found.\n",
            "WARNING:matplotlib.font_manager:findfont: Font family 'NanumBarunGothic' not found.\n"
          ]
        },
        {
          "output_type": "display_data",
          "data": {
            "text/plain": [
              "<Figure size 640x480 with 1 Axes>"
            ],
            "image/png": "[encoded data removed]"
          },
          "metadata": {}
        }
      ],
      "source": [
        "# 왜 scaling을 sqrt(dk) 로? <- 일단 나누는 이유: 안나누면 softmax로 들어갈때 분산이 크면 grad가 작아짐\n",
        "n=torch.arange(1,513)\n",
        "N=1000\n",
        "result=[]\n",
        "for ni in n:\n",
        "    inner_prod = torch.zeros(N)\n",
        "    for i in range(N):\n",
        "        inner_prod[i] = torch.randn(ni,1).T@torch.randn(ni,1) # 내적값을 N번 구해서 var 구해보자\n",
        "    result += [torch.var(inner_prod)]\n",
        "\n",
        "plt.plot(n,result)\n",
        "plt.plot(n,n,'r') # variance 가 점점커지니까 std로 나눠서 unit variance로 만들자는 것!"
      ]
    },
    {
      "cell_type": "markdown",
      "source": [
        "### Encoder"
      ],
      "metadata": {
        "id": "k_h-MNJoeN9C"
      }
    },
    {
      "cell_type": "code",
      "execution_count": 22,
      "metadata": {
        "id": "phbQS65u8sre"
      },
      "outputs": [],
      "source": [
        "class EncoderLayer(nn.Module):\n",
        "    def __init__(self, d_model, d_ff, n_heads, drop_p):\n",
        "        super().__init__()\n",
        "\n",
        "        self.self_atten = MHA(d_model, n_heads)\n",
        "        self.self_atten_LN = nn.LayerNorm(d_model)\n",
        "\n",
        "        self.FF = FeedForward(d_model, d_ff, drop_p)\n",
        "        self.FF_LN = nn.LayerNorm(d_model)\n",
        "\n",
        "        self.dropout = nn.Dropout(drop_p)\n",
        "\n",
        "    def forward(self, x, enc_mask):\n",
        "\n",
        "        residual, atten_enc = self.self_atten(x, x, x, enc_mask) # 인코더에도 마스크가?!\n",
        "        residual = self.dropout(residual)\n",
        "        x = self.self_atten_LN(x + residual)\n",
        "\n",
        "        residual = self.FF(x)\n",
        "        residual = self.dropout(residual)\n",
        "        x = self.FF_LN(x + residual)\n",
        "\n",
        "        return x, atten_enc\n",
        "\n",
        "class Encoder(nn.Module):\n",
        "    def __init__(self, input_embedding, max_len, n_layers, d_model, d_ff, n_heads, drop_p):\n",
        "        super().__init__()\n",
        "\n",
        "        self.scale = torch.sqrt(torch.tensor(d_model))\n",
        "        self.input_embedding = input_embedding\n",
        "        self.pos_embedding = nn.Embedding(max_len, d_model)\n",
        "\n",
        "        self.dropout = nn.Dropout(drop_p)\n",
        "\n",
        "        self.layers = nn.ModuleList([EncoderLayer(d_model, d_ff, n_heads, drop_p) for _ in range(n_layers)])\n",
        "\n",
        "    def forward(self, src, mask, atten_map_save = False): # src.shape = 개단, mask.shape = 개헤단단\n",
        "\n",
        "        pos = torch.arange(src.shape[1]).expand_as(src).to(DEVICE) # 개단\n",
        "\n",
        "        x = self.scale*self.input_embedding(src) + self.pos_embedding(pos) # 개단차\n",
        "        # self.scale 을 곱해주면 position 보다 token 정보를 더 보게 된다 (gradient에 self.scale 만큼이 더 곱해짐)\n",
        "        x = self.dropout(x)\n",
        "\n",
        "        atten_encs = torch.tensor([]).to(DEVICE)\n",
        "        for layer in self.layers:\n",
        "            x, atten_enc = layer(x, mask)\n",
        "            if atten_map_save is True:\n",
        "                atten_encs = torch.cat([atten_encs , atten_enc[0].unsqueeze(0)], dim=0) # 층헤단단 ㅋ\n",
        "\n",
        "        return x, atten_encs"
      ]
    },
    {
      "cell_type": "markdown",
      "source": [
        "#### expand_as, nn.embedding 실험"
      ],
      "metadata": {
        "id": "YWVnXSIpd2Au"
      }
    },
    {
      "cell_type": "code",
      "source": [
        "src = torch.randint(0,65000,(3,5)) # 개단\n",
        "pos = torch.arange(5).expand_as(src).to(DEVICE)\n",
        "print(src)\n",
        "print(pos)"
      ],
      "metadata": {
        "colab": {
          "base_uri": "https://localhost:8080/"
        },
        "id": "JJ82B97Ufj9o",
        "outputId": "4e203d36-6f73-4329-ba7e-38d97771bffd"
      },
      "execution_count": 23,
      "outputs": [
        {
          "output_type": "stream",
          "name": "stdout",
          "text": [
            "tensor([[17852, 30557, 14802,   783,  2753],\n",
            "        [13780,  2814, 59476, 54905, 10648],\n",
            "        [21454, 17110, 22480,  4393, 46681]])\n",
            "tensor([[0, 1, 2, 3, 4],\n",
            "        [0, 1, 2, 3, 4],\n",
            "        [0, 1, 2, 3, 4]])\n"
          ]
        }
      ]
    },
    {
      "cell_type": "code",
      "execution_count": 24,
      "metadata": {
        "id": "0OKjkrQo6IJk",
        "colab": {
          "base_uri": "https://localhost:8080/"
        },
        "outputId": "af004ddc-8cec-41e9-981c-62ca58dc39c0"
      },
      "outputs": [
        {
          "output_type": "stream",
          "name": "stdout",
          "text": [
            "torch.Size([10, 5])\n",
            "tensor([-1.6781, -0.4184,  0.3999,  1.5914,  0.1325],\n",
            "       grad_fn=<EmbeddingBackward0>)\n",
            "tensor([[[-0.2685, -0.1505, -0.4780,  1.2038,  3.6673],\n",
            "         [-0.5822, -0.3072, -0.9433, -2.7531, -0.0236],\n",
            "         [-1.6781, -0.4184,  0.3999,  1.5914,  0.1325]],\n",
            "\n",
            "        [[-1.6781, -0.4184,  0.3999,  1.5914,  0.1325],\n",
            "         [-0.5822, -0.3072, -0.9433, -2.7531, -0.0236],\n",
            "         [-0.0108,  0.2441,  2.3384, -0.9031, -0.9961]]],\n",
            "       grad_fn=<EmbeddingBackward0>)\n",
            "torch.Size([2, 3, 5])\n"
          ]
        }
      ],
      "source": [
        "# nn.Embedding 실험\n",
        "emb=nn.Embedding(10,5) # one-hot encoding 된 벡터가 통과된다는 것이 약속된 상태의 FC layer 인 것\n",
        "print(emb.weight.shape) # weight 개수는 nn.Linear(10,5) 과 동일! 동작 방식이 다른 것\n",
        "print(emb(torch.tensor(2)))\n",
        "\n",
        "print(emb(torch.tensor([[6,1,2],[2,1,7]]))) # 2 개 문장, 3개 단어\n",
        "print(emb(torch.tensor([[6,1,2],[2,1,7]])).shape)"
      ]
    },
    {
      "cell_type": "markdown",
      "source": [
        "### Decoder, 모델 전체"
      ],
      "metadata": {
        "id": "mHBzHMlbd991"
      }
    },
    {
      "cell_type": "code",
      "execution_count": 25,
      "metadata": {
        "id": "ESEcHhs9ugSk"
      },
      "outputs": [],
      "source": [
        "class DecoderLayer(nn.Module):\n",
        "    def __init__(self, d_model, d_ff, n_heads, drop_p):\n",
        "        super().__init__()\n",
        "\n",
        "        self.self_atten = MHA(d_model, n_heads)\n",
        "        self.self_atten_LN = nn.LayerNorm(d_model)\n",
        "\n",
        "        self.enc_dec_atten = MHA(d_model, n_heads)\n",
        "        self.enc_dec_atten_LN = nn.LayerNorm(d_model)\n",
        "\n",
        "        self.FF = FeedForward(d_model, d_ff, drop_p)\n",
        "        self.FF_LN = nn.LayerNorm(d_model)\n",
        "\n",
        "        self.dropout = nn.Dropout(drop_p)\n",
        "\n",
        "    def forward(self, x, enc_out, dec_mask, enc_dec_mask):\n",
        "\n",
        "        residual, atten_dec = self.self_atten(x, x, x, dec_mask)\n",
        "        residual = self.dropout(residual)\n",
        "        x = self.self_atten_LN(x + residual)\n",
        "\n",
        "        residual, atten_enc_dec = self.enc_dec_atten(x, enc_out, enc_out, enc_dec_mask) # Q는 디코더로부터 K,V는 인코더로부터!!\n",
        "        residual = self.dropout(residual)\n",
        "        x = self.enc_dec_atten_LN(x + residual)\n",
        "\n",
        "        residual = self.FF(x)\n",
        "        residual = self.dropout(residual)\n",
        "        x = self.FF_LN(x + residual)\n",
        "\n",
        "        return x, atten_dec, atten_enc_dec\n",
        "\n",
        "class Decoder(nn.Module):\n",
        "    def __init__(self, input_embedding, max_len, n_layers, d_model, d_ff, n_heads, drop_p):\n",
        "        super().__init__()\n",
        "\n",
        "        self.scale = torch.sqrt(torch.tensor(d_model))\n",
        "        self.input_embedding = input_embedding\n",
        "        self.pos_embedding = nn.Embedding(max_len, d_model)\n",
        "\n",
        "        self.dropout = nn.Dropout(drop_p)\n",
        "\n",
        "        self.layers = nn.ModuleList([DecoderLayer(d_model, d_ff, n_heads, drop_p) for _ in range(n_layers)])\n",
        "\n",
        "        self.fc_out = nn.Linear(d_model, vocab_size)\n",
        "\n",
        "    def forward(self, trg, enc_out, dec_mask, enc_dec_mask, atten_map_save = False): # trg.shape = 개단, enc_out.shape = 개단차, dec_mask.shape = 개헤단단\n",
        "\n",
        "        pos = torch.arange(trg.shape[1]).expand_as(trg).to(DEVICE) # 개단\n",
        "\n",
        "        x = self.scale*self.input_embedding(trg) + self.pos_embedding(pos) # 개단차\n",
        "        # self.scale 을 곱해주면 position 보다 token 정보를 더 보게 된다 (gradient에 self.scale 만큼이 더 곱해짐)\n",
        "        x = self.dropout(x)\n",
        "\n",
        "        atten_decs = torch.tensor([]).to(DEVICE)\n",
        "        atten_enc_decs = torch.tensor([]).to(DEVICE)\n",
        "        for layer in self.layers:\n",
        "            x, atten_dec, atten_enc_dec = layer(x, enc_out, dec_mask, enc_dec_mask)\n",
        "            if atten_map_save is True:\n",
        "                atten_decs = torch.cat([atten_decs , atten_dec[0].unsqueeze(0)], dim=0) # 층헤단단 ㅋ\n",
        "                atten_enc_decs = torch.cat([atten_enc_decs , atten_enc_dec[0].unsqueeze(0)], dim=0) # 층헤단단 ㅋ\n",
        "\n",
        "        x = self.fc_out(x)\n",
        "\n",
        "        return x, atten_decs, atten_enc_decs"
      ]
    },
    {
      "cell_type": "code",
      "execution_count": 26,
      "metadata": {
        "id": "80cXz80GYnrM"
      },
      "outputs": [],
      "source": [
        "class Transformer(nn.Module):\n",
        "    def __init__(self, vocab_size, max_len, n_layers, d_model, d_ff, n_heads, drop_p):\n",
        "        super().__init__()\n",
        "\n",
        "        self.input_embedding = nn.Embedding(vocab_size, d_model)\n",
        "        self.encoder = Encoder(self.input_embedding, max_len, n_layers, d_model, d_ff, n_heads, drop_p)\n",
        "        self.decoder = Decoder(self.input_embedding, max_len, n_layers, d_model, d_ff, n_heads, drop_p)\n",
        "\n",
        "        self.n_heads = n_heads\n",
        "\n",
        "        # for m in self.modules():\n",
        "        #     if hasattr(m,'weight') and m.weight.dim() > 1: # layer norm에 대해선 initial 안하겠다는 뜻\n",
        "        #         nn.init.kaiming_uniform_(m.weight) # Kaiming의 분산은 2/Nin\n",
        "\n",
        "        for m in self.modules():\n",
        "            if hasattr(m,'weight') and m.weight.dim() > 1: # 인풋 임베딩은 그대로 쓰기 위함\n",
        "                nn.init.xavier_uniform_(m.weight) # xavier의 분산은 2/(Nin+Nout) 즉, 분산이 더 작다. => 그래서 sigmoid/tanh에 적합한 것! (vanishing gradient 막기 위해)\n",
        "\n",
        "    def make_enc_mask(self, src): # src.shape = 개단\n",
        "\n",
        "        enc_mask = (src == pad_idx).unsqueeze(1).unsqueeze(2) # 개11단\n",
        "        enc_mask = enc_mask.expand(src.shape[0], self.n_heads, src.shape[1], src.shape[1]) # 개헤단단\n",
        "        \"\"\" src pad mask (문장 마다 다르게 생김. 이건 한 문장에 대한 pad 행렬)\n",
        "        F F T T\n",
        "        F F T T\n",
        "        F F T T\n",
        "        F F T T\n",
        "        \"\"\"\n",
        "        return enc_mask\n",
        "\n",
        "    def make_dec_mask(self, trg): # trg.shape = 개단\n",
        "\n",
        "        trg_pad_mask = (trg == pad_idx).unsqueeze(1).unsqueeze(2) # 개11단\n",
        "        trg_pad_mask = trg_pad_mask.expand(trg.shape[0], self.n_heads, trg.shape[1], trg.shape[1]) # 개헤단단\n",
        "        \"\"\" trg pad mask\n",
        "        F F F T T\n",
        "        F F F T T\n",
        "        F F F T T\n",
        "        F F F T T\n",
        "        F F F T T\n",
        "        \"\"\"\n",
        "        trg_future_mask = torch.tril(torch.ones(trg.shape[0], self.n_heads, trg.shape[1], trg.shape[1]))==0 # 개헤단단\n",
        "        trg_future_mask = trg_future_mask.to(DEVICE) # pad_mask | future_mask 할 때 같은 DEVICE 여야\n",
        "        \"\"\" trg future mask\n",
        "        F T T T T\n",
        "        F F T T T\n",
        "        F F F T T\n",
        "        F F F F T\n",
        "        F F F F F\n",
        "        \"\"\"\n",
        "        dec_mask = trg_pad_mask | trg_future_mask # dec_mask.shape = 개헤단단\n",
        "        \"\"\" decoder mask\n",
        "        F T T T T\n",
        "        F F T T T\n",
        "        F F F T T\n",
        "        F F F T T\n",
        "        F F F T T\n",
        "        \"\"\"\n",
        "        return dec_mask\n",
        "\n",
        "    def make_enc_dec_mask(self, src, trg):\n",
        "\n",
        "        enc_dec_mask = (src == pad_idx).unsqueeze(1).unsqueeze(2) # 개11단\n",
        "        enc_dec_mask = enc_dec_mask.expand(trg.shape[0], self.n_heads, trg.shape[1], src.shape[1]) # 개헤단단\n",
        "        \"\"\" src pad mask\n",
        "        F F T T\n",
        "        F F T T\n",
        "        F F T T\n",
        "        F F T T\n",
        "        F F T T\n",
        "        \"\"\"\n",
        "        return enc_dec_mask\n",
        "\n",
        "    def forward(self, src, trg):\n",
        "\n",
        "        enc_mask = self.make_enc_mask(src)\n",
        "        dec_mask = self.make_dec_mask(trg)\n",
        "        enc_dec_mask = self.make_enc_dec_mask(src, trg)\n",
        "\n",
        "        enc_out, atten_encs = self.encoder(src, enc_mask)\n",
        "        out, atten_decs, atten_enc_decs = self.decoder(trg, enc_out, dec_mask, enc_dec_mask)\n",
        "\n",
        "        return out, atten_encs, atten_decs, atten_enc_decs"
      ]
    },
    {
      "cell_type": "markdown",
      "source": [
        "#### tril, initialization 실험"
      ],
      "metadata": {
        "id": "L2G753XXdpvi"
      }
    },
    {
      "cell_type": "code",
      "execution_count": 27,
      "metadata": {
        "id": "Nm_q7iriCSSq",
        "colab": {
          "base_uri": "https://localhost:8080/"
        },
        "outputId": "6889b713-8699-4c44-b66d-019d718bbcd3"
      },
      "outputs": [
        {
          "output_type": "stream",
          "name": "stdout",
          "text": [
            "Parameter containing:\n",
            "tensor([1., 1., 1., 1., 1., 1., 1., 1., 1., 1.], requires_grad=True)\n",
            "1\n"
          ]
        }
      ],
      "source": [
        "# 즉, Layer norm은 initialization에서 제외!\n",
        "print(nn.LayerNorm(10).weight)\n",
        "print(nn.LayerNorm(10).weight.dim())"
      ]
    },
    {
      "cell_type": "code",
      "execution_count": 28,
      "metadata": {
        "id": "5z_pydaOWadP",
        "colab": {
          "base_uri": "https://localhost:8080/"
        },
        "outputId": "ce5dcbe9-dd0c-44f8-fef4-7b0569da72ab"
      },
      "outputs": [
        {
          "output_type": "stream",
          "name": "stdout",
          "text": [
            "Parameter containing:\n",
            "tensor([[-0.3944,  0.6439],\n",
            "        [ 0.5155, -0.2986],\n",
            "        [ 0.3603, -0.1287],\n",
            "        [ 0.1776,  0.1751],\n",
            "        [-0.4228,  0.0257],\n",
            "        [-0.3353, -0.6263],\n",
            "        [-0.0948,  0.0423],\n",
            "        [ 0.4657,  0.4260],\n",
            "        [ 0.5745,  0.1126],\n",
            "        [-0.4502, -0.3011]], requires_grad=True)\n",
            "Parameter containing:\n",
            "tensor([[ 1.3684, -0.6090],\n",
            "        [-0.6438, -1.2935],\n",
            "        [ 1.2556,  0.4329],\n",
            "        [-1.4143, -1.3268],\n",
            "        [ 0.8475, -0.7028],\n",
            "        [ 0.3444, -0.5987],\n",
            "        [-0.5752, -1.3120],\n",
            "        [ 0.9593, -0.2170],\n",
            "        [ 0.7855, -0.1299],\n",
            "        [-0.5891,  0.4474]], requires_grad=True)\n",
            "Parameter containing:\n",
            "tensor([[ 0.2238, -0.6880],\n",
            "        [-0.2719,  0.3142],\n",
            "        [-0.3369, -0.6052],\n",
            "        [ 0.0813,  0.5083],\n",
            "        [ 0.2164,  0.2459],\n",
            "        [ 0.6930, -0.2376],\n",
            "        [ 0.6302, -0.2040],\n",
            "        [ 0.5373,  0.4957],\n",
            "        [-0.6869,  0.1311],\n",
            "        [ 0.0326, -0.4407]], requires_grad=True)\n"
          ]
        }
      ],
      "source": [
        "# Kaiming vs Xavier\n",
        "layer = nn.Linear(2,10)\n",
        "print(layer.weight)\n",
        "nn.init.kaiming_uniform_(layer.weight)\n",
        "print(layer.weight) # in 만 보니까 분산 크다\n",
        "nn.init.xavier_uniform_(layer.weight)\n",
        "print(layer.weight) # in out 둘다 보니까 분산 작다"
      ]
    },
    {
      "cell_type": "code",
      "source": [
        "x = torch.ones(2,3,5,5)\n",
        "x = torch.tril(x) # tril: lower triangular\n",
        "print(x)"
      ],
      "metadata": {
        "id": "eXGhOlZDaRti",
        "colab": {
          "base_uri": "https://localhost:8080/"
        },
        "outputId": "bad9730a-4c18-46c0-e6d5-39b796983468"
      },
      "execution_count": 29,
      "outputs": [
        {
          "output_type": "stream",
          "name": "stdout",
          "text": [
            "tensor([[[[1., 0., 0., 0., 0.],\n",
            "          [1., 1., 0., 0., 0.],\n",
            "          [1., 1., 1., 0., 0.],\n",
            "          [1., 1., 1., 1., 0.],\n",
            "          [1., 1., 1., 1., 1.]],\n",
            "\n",
            "         [[1., 0., 0., 0., 0.],\n",
            "          [1., 1., 0., 0., 0.],\n",
            "          [1., 1., 1., 0., 0.],\n",
            "          [1., 1., 1., 1., 0.],\n",
            "          [1., 1., 1., 1., 1.]],\n",
            "\n",
            "         [[1., 0., 0., 0., 0.],\n",
            "          [1., 1., 0., 0., 0.],\n",
            "          [1., 1., 1., 0., 0.],\n",
            "          [1., 1., 1., 1., 0.],\n",
            "          [1., 1., 1., 1., 1.]]],\n",
            "\n",
            "\n",
            "        [[[1., 0., 0., 0., 0.],\n",
            "          [1., 1., 0., 0., 0.],\n",
            "          [1., 1., 1., 0., 0.],\n",
            "          [1., 1., 1., 1., 0.],\n",
            "          [1., 1., 1., 1., 1.]],\n",
            "\n",
            "         [[1., 0., 0., 0., 0.],\n",
            "          [1., 1., 0., 0., 0.],\n",
            "          [1., 1., 1., 0., 0.],\n",
            "          [1., 1., 1., 1., 0.],\n",
            "          [1., 1., 1., 1., 1.]],\n",
            "\n",
            "         [[1., 0., 0., 0., 0.],\n",
            "          [1., 1., 0., 0., 0.],\n",
            "          [1., 1., 1., 0., 0.],\n",
            "          [1., 1., 1., 1., 0.],\n",
            "          [1., 1., 1., 1., 1.]]]])\n"
          ]
        }
      ]
    },
    {
      "cell_type": "markdown",
      "metadata": {
        "id": "Ha5rYiwSIBz6"
      },
      "source": [
        "## 모델 생성"
      ]
    },
    {
      "cell_type": "code",
      "execution_count": 30,
      "metadata": {
        "id": "1XyuIUlwKm8B",
        "colab": {
          "base_uri": "https://localhost:8080/"
        },
        "outputId": "5bac780f-e67c-4016-f6c7-6f40fef3f366"
      },
      "outputs": [
        {
          "output_type": "stream",
          "name": "stdout",
          "text": [
            "torch.Size([2, 7])\n",
            "torch.Size([2, 7, 65001])\n"
          ]
        }
      ],
      "source": [
        "model = Transformer(vocab_size, max_len, n_layers, d_model, d_ff, n_heads, drop_p).to(DEVICE)\n",
        "\n",
        "src = torch.tensor([[4,6,5,1,1,1],[7,7,1,1,1,1]]).to(DEVICE)\n",
        "trg = torch.tensor([[2,5,4,4,3,1,1],[2,9,6,7,3,1,1]]).to(DEVICE)\n",
        "\n",
        "model.eval()\n",
        "with torch.no_grad():\n",
        "    x = model(src, trg)[0]\n",
        "print(trg.shape)\n",
        "print(x.shape)"
      ]
    },
    {
      "cell_type": "markdown",
      "metadata": {
        "id": "GGTrDJKUIO7Q"
      },
      "source": [
        "## Train, Test, loss_epoch 함수"
      ]
    },
    {
      "cell_type": "code",
      "execution_count": 31,
      "metadata": {
        "id": "9zx5gmVYkhFv"
      },
      "outputs": [],
      "source": [
        "def Train(model, train_DL, val_DL, criterion, optimizer, scheduler = None):\n",
        "    loss_history = {\"train\": [], \"val\": []}\n",
        "    best_loss = 9999\n",
        "    for ep in range(EPOCH):\n",
        "        model.train() # train mode로 전환\n",
        "        train_loss = loss_epoch(model, train_DL, criterion, optimizer = optimizer, scheduler = scheduler)\n",
        "        loss_history[\"train\"] += [train_loss]\n",
        "\n",
        "        model.eval() # test mode로 전환\n",
        "        with torch.no_grad():\n",
        "            val_loss = loss_epoch(model, val_DL, criterion)\n",
        "            loss_history[\"val\"] += [val_loss]\n",
        "            if val_loss < best_loss:\n",
        "                best_loss = val_loss\n",
        "                torch.save({\"model\": model,\n",
        "                            \"ep\": ep,\n",
        "                            \"optimizer\": optimizer,\n",
        "                            \"scheduler\": scheduler,}, save_model_path)\n",
        "        # print loss\n",
        "        print(f\"Epoch {ep+1}: train loss: {train_loss:.5f}   val loss: {val_loss:.5f}   current_LR: {optimizer.param_groups[0]['lr']:.8f}\")\n",
        "        print(\"-\" * 20)\n",
        "\n",
        "    torch.save({\"loss_history\": loss_history,\n",
        "                \"EPOCH\": EPOCH,\n",
        "                \"BATCH_SIZE\": BATCH_SIZE}, save_history_path)\n",
        "\n",
        "def Test(model, test_DL, criterion):\n",
        "    model.eval() # test mode로 전환\n",
        "    with torch.no_grad():\n",
        "        test_loss = loss_epoch(model, test_DL, criterion)\n",
        "    print(f\"Test loss: {test_loss:.3f} | Test PPL: {math.exp(test_loss):.3f}\")\n",
        "\n",
        "def loss_epoch(model, DL, criterion, optimizer = None, scheduler = None):\n",
        "    N = len(DL.dataset) # the number of data\n",
        "\n",
        "    rloss=0\n",
        "    for src_texts, trg_texts in tqdm(DL, leave=False):\n",
        "        src = tokenizer(src_texts, padding=True, truncation=True, max_length = max_len, return_tensors='pt', add_special_tokens = False).input_ids.to(DEVICE)\n",
        "        trg_texts = ['</s> ' + s for s in trg_texts]\n",
        "        trg = tokenizer(trg_texts, padding=True, truncation=True, max_length = max_len, return_tensors='pt').input_ids.to(DEVICE)\n",
        "        # inference\n",
        "        y_hat = model(src, trg[:,:-1])[0] # 모델 통과 시킬 땐 trg의 마지막 토큰은 제외!\n",
        "        # y_hat.shape = 개단차 즉, 훈련 땐 문장이 한번에 튀어나옴\n",
        "        # loss\n",
        "        loss = criterion(y_hat.permute(0,2,1), trg[:,1:]) # loss 계산 시엔 <sos> 는 제외!\n",
        "        \"\"\"\n",
        "        개단차 -> 개차단으로 바꿔줌 (1D segmentation으로 생각)\n",
        "        개채행열(예측), 개행열(정답)으로 주거나 개채1열, 개1열로 주거나 개채열, 개열로 줘야하도록 함수를 만들어놔서\n",
        "        우리 상황에서는 개차단, 개단 으로 줘야 한다.\n",
        "        이렇게 함수를 만들어놔야 1D, 2D segmentation 등등으로 확장가능하기 때문\n",
        "        다 필요없고, 그냥 y_hat=개차단, trg=개단으로 줘야만 계산 제대로 된다고 생각하시면 됩니다!\n",
        "        \"\"\"\n",
        "        # update\n",
        "        if optimizer is not None:\n",
        "            optimizer.zero_grad()\n",
        "            loss.backward()\n",
        "            optimizer.step()\n",
        "        if scheduler is not None:\n",
        "            scheduler.step()\n",
        "        # loss accumulation\n",
        "        loss_b = loss.item() * src.shape[0]\n",
        "        rloss += loss_b\n",
        "    loss_e = rloss/N\n",
        "    return loss_e\n",
        "\n",
        "def count_params(model):\n",
        "    num = sum([p.numel() for p in model.parameters() if p.requires_grad])\n",
        "    return num\n",
        "\n",
        "class NoamScheduler:\n",
        "    def __init__(self, optimizer, d_model, warmup_steps, LR_scale = 1):\n",
        "        self.optimizer = optimizer\n",
        "        self.current_step = 0\n",
        "        self.d_model = d_model\n",
        "        self.warmup_steps = warmup_steps\n",
        "        self.LR_scale = LR_scale\n",
        "\n",
        "    def step(self):\n",
        "        self.current_step += 1\n",
        "        lrate = self.LR_scale * (self.d_model ** -0.5) * min(self.current_step ** -0.5, self.current_step * self.warmup_steps ** -1.5)\n",
        "        self.optimizer.param_groups[0]['lr'] = lrate\n",
        "\n",
        "def plot_scheduler(scheduler_name, optimizer, scheduler, total_steps): # LR curve 보기\n",
        "    lr_history = []\n",
        "    steps = range(1, total_steps)\n",
        "\n",
        "    for _ in steps: # base model -> 10만 steps (12시간), big model -> 30만 steps (3.5일) 로 훈련했다고 함\n",
        "        lr_history += [optimizer.param_groups[0]['lr']]\n",
        "        scheduler.step()\n",
        "\n",
        "    plt.figure()\n",
        "    if scheduler_name == 'Noam':\n",
        "        if total_steps == 100000:\n",
        "            plt.plot(steps, (512 ** -0.5) * torch.tensor(steps) ** -0.5, 'g--', linewidth=1, label=r\"$d_{\\mathrm{model}}^{-0.5} \\cdot \\mathrm{step}^{-0.5}$\")\n",
        "            plt.plot(steps, (512 ** -0.5) * torch.tensor(steps) * 4000 ** -1.5, 'r--', linewidth=1, label=r\"$d_{\\mathrm{model}}^{-0.5} \\cdot \\mathrm{step} \\cdot \\mathrm{warmup\\_steps}^{-1.5}$\")\n",
        "        plt.plot(steps, lr_history, 'b', linewidth=2, alpha=0.8, label=\"Learning Rate\")\n",
        "    elif scheduler_name == 'Cos':\n",
        "        plt.plot(steps, lr_history, 'b', linewidth=2, alpha=0.8, label=\"Learning Rate\")\n",
        "    plt.ylim([-0.1*max(lr_history), 1.2*max(lr_history)])\n",
        "    plt.xlabel('Step')\n",
        "    plt.ylabel('Learning Rate')\n",
        "    plt.grid()\n",
        "    plt.legend()\n",
        "    plt.show()"
      ]
    },
    {
      "cell_type": "code",
      "execution_count": 32,
      "metadata": {
        "id": "Slx6NMtjYrPv",
        "colab": {
          "base_uri": "https://localhost:8080/",
          "height": 1000
        },
        "outputId": "499f2aea-58a4-4ba4-83d9-29a351ba3115"
      },
      "outputs": [
        {
          "output_type": "stream",
          "name": "stderr",
          "text": [
            "WARNING:matplotlib.font_manager:findfont: Font family 'NanumBarunGothic' not found.\n",
            "WARNING:matplotlib.font_manager:findfont: Font family 'NanumBarunGothic' not found.\n",
            "WARNING:matplotlib.font_manager:findfont: Font family 'NanumBarunGothic' not found.\n",
            "WARNING:matplotlib.font_manager:findfont: Font family 'NanumBarunGothic' not found.\n",
            "WARNING:matplotlib.font_manager:findfont: Font family 'NanumBarunGothic' not found.\n",
            "WARNING:matplotlib.font_manager:findfont: Font family 'NanumBarunGothic' not found.\n",
            "WARNING:matplotlib.font_manager:findfont: Font family 'NanumBarunGothic' not found.\n",
            "WARNING:matplotlib.font_manager:findfont: Font family 'NanumBarunGothic' not found.\n",
            "WARNING:matplotlib.font_manager:findfont: Font family 'NanumBarunGothic' not found.\n",
            "WARNING:matplotlib.font_manager:findfont: Font family 'NanumBarunGothic' not found.\n",
            "WARNING:matplotlib.font_manager:findfont: Font family 'NanumBarunGothic' not found.\n",
            "WARNING:matplotlib.font_manager:findfont: Font family 'NanumBarunGothic' not found.\n",
            "WARNING:matplotlib.font_manager:findfont: Font family 'NanumBarunGothic' not found.\n",
            "WARNING:matplotlib.font_manager:findfont: Font family 'NanumBarunGothic' not found.\n",
            "WARNING:matplotlib.font_manager:findfont: Font family 'NanumBarunGothic' not found.\n",
            "WARNING:matplotlib.font_manager:findfont: Font family ['NanumBarunGothic'] not found. Falling back to DejaVu Sans.\n",
            "WARNING:matplotlib.font_manager:findfont: Font family 'NanumBarunGothic' not found.\n",
            "WARNING:matplotlib.font_manager:findfont: Font family 'NanumBarunGothic' not found.\n",
            "WARNING:matplotlib.font_manager:findfont: Font family 'NanumBarunGothic' not found.\n",
            "WARNING:matplotlib.font_manager:findfont: Font family 'NanumBarunGothic' not found.\n",
            "WARNING:matplotlib.font_manager:findfont: Font family 'NanumBarunGothic' not found.\n",
            "WARNING:matplotlib.font_manager:findfont: Font family 'NanumBarunGothic' not found.\n",
            "WARNING:matplotlib.font_manager:findfont: Font family 'NanumBarunGothic' not found.\n",
            "WARNING:matplotlib.font_manager:findfont: Font family 'NanumBarunGothic' not found.\n",
            "WARNING:matplotlib.font_manager:findfont: Font family 'NanumBarunGothic' not found.\n",
            "WARNING:matplotlib.font_manager:findfont: Font family 'NanumBarunGothic' not found.\n",
            "WARNING:matplotlib.font_manager:findfont: Font family 'NanumBarunGothic' not found.\n",
            "WARNING:matplotlib.font_manager:findfont: Font family 'NanumBarunGothic' not found.\n",
            "WARNING:matplotlib.font_manager:findfont: Font family 'NanumBarunGothic' not found.\n",
            "WARNING:matplotlib.font_manager:findfont: Font family 'NanumBarunGothic' not found.\n",
            "WARNING:matplotlib.font_manager:findfont: Font family 'NanumBarunGothic' not found.\n",
            "WARNING:matplotlib.font_manager:findfont: Font family 'NanumBarunGothic' not found.\n",
            "WARNING:matplotlib.font_manager:findfont: Font family 'NanumBarunGothic' not found.\n",
            "WARNING:matplotlib.font_manager:findfont: Font family 'NanumBarunGothic' not found.\n",
            "WARNING:matplotlib.font_manager:findfont: Font family 'NanumBarunGothic' not found.\n",
            "WARNING:matplotlib.font_manager:findfont: Font family 'NanumBarunGothic' not found.\n",
            "WARNING:matplotlib.font_manager:findfont: Font family 'NanumBarunGothic' not found.\n",
            "WARNING:matplotlib.font_manager:findfont: Font family 'NanumBarunGothic' not found.\n",
            "WARNING:matplotlib.font_manager:findfont: Font family 'NanumBarunGothic' not found.\n",
            "WARNING:matplotlib.font_manager:findfont: Font family 'NanumBarunGothic' not found.\n",
            "WARNING:matplotlib.font_manager:findfont: Font family 'NanumBarunGothic' not found.\n",
            "WARNING:matplotlib.font_manager:findfont: Font family 'NanumBarunGothic' not found.\n",
            "WARNING:matplotlib.font_manager:findfont: Font family 'NanumBarunGothic' not found.\n",
            "WARNING:matplotlib.font_manager:findfont: Font family 'NanumBarunGothic' not found.\n",
            "WARNING:matplotlib.font_manager:findfont: Font family 'NanumBarunGothic' not found.\n",
            "WARNING:matplotlib.font_manager:findfont: Font family 'NanumBarunGothic' not found.\n",
            "WARNING:matplotlib.font_manager:findfont: Font family 'NanumBarunGothic' not found.\n",
            "WARNING:matplotlib.font_manager:findfont: Font family 'NanumBarunGothic' not found.\n",
            "WARNING:matplotlib.font_manager:findfont: Font family 'NanumBarunGothic' not found.\n",
            "WARNING:matplotlib.font_manager:findfont: Font family 'NanumBarunGothic' not found.\n",
            "WARNING:matplotlib.font_manager:findfont: Font family 'NanumBarunGothic' not found.\n",
            "WARNING:matplotlib.font_manager:findfont: Font family 'NanumBarunGothic' not found.\n",
            "WARNING:matplotlib.font_manager:findfont: Font family 'NanumBarunGothic' not found.\n",
            "WARNING:matplotlib.font_manager:findfont: Font family 'NanumBarunGothic' not found.\n",
            "WARNING:matplotlib.font_manager:findfont: Font family 'NanumBarunGothic' not found.\n",
            "WARNING:matplotlib.font_manager:findfont: Font family 'NanumBarunGothic' not found.\n",
            "WARNING:matplotlib.font_manager:findfont: Font family 'NanumBarunGothic' not found.\n",
            "WARNING:matplotlib.font_manager:findfont: Font family 'NanumBarunGothic' not found.\n",
            "WARNING:matplotlib.font_manager:findfont: Font family 'NanumBarunGothic' not found.\n",
            "WARNING:matplotlib.font_manager:findfont: Font family 'NanumBarunGothic' not found.\n",
            "WARNING:matplotlib.font_manager:findfont: Font family 'NanumBarunGothic' not found.\n",
            "WARNING:matplotlib.font_manager:findfont: Font family 'NanumBarunGothic' not found.\n",
            "WARNING:matplotlib.font_manager:findfont: Font family 'NanumBarunGothic' not found.\n",
            "WARNING:matplotlib.font_manager:findfont: Font family 'NanumBarunGothic' not found.\n",
            "WARNING:matplotlib.font_manager:findfont: Font family 'NanumBarunGothic' not found.\n",
            "WARNING:matplotlib.font_manager:findfont: Font family 'NanumBarunGothic' not found.\n",
            "WARNING:matplotlib.font_manager:findfont: Font family 'NanumBarunGothic' not found.\n",
            "WARNING:matplotlib.font_manager:findfont: Font family 'NanumBarunGothic' not found.\n",
            "WARNING:matplotlib.font_manager:findfont: Font family 'NanumBarunGothic' not found.\n",
            "WARNING:matplotlib.font_manager:findfont: Font family 'NanumBarunGothic' not found.\n",
            "WARNING:matplotlib.font_manager:findfont: Font family 'NanumBarunGothic' not found.\n",
            "WARNING:matplotlib.font_manager:findfont: Font family 'NanumBarunGothic' not found.\n",
            "WARNING:matplotlib.font_manager:findfont: Font family 'NanumBarunGothic' not found.\n",
            "WARNING:matplotlib.font_manager:findfont: Font family 'NanumBarunGothic' not found.\n",
            "WARNING:matplotlib.font_manager:findfont: Font family 'NanumBarunGothic' not found.\n",
            "WARNING:matplotlib.font_manager:findfont: Font family 'NanumBarunGothic' not found.\n",
            "WARNING:matplotlib.font_manager:findfont: Font family 'NanumBarunGothic' not found.\n",
            "WARNING:matplotlib.font_manager:findfont: Font family 'NanumBarunGothic' not found.\n",
            "WARNING:matplotlib.font_manager:findfont: Font family 'NanumBarunGothic' not found.\n",
            "WARNING:matplotlib.font_manager:findfont: Font family 'NanumBarunGothic' not found.\n",
            "WARNING:matplotlib.font_manager:findfont: Font family 'NanumBarunGothic' not found.\n",
            "WARNING:matplotlib.font_manager:findfont: Font family 'NanumBarunGothic' not found.\n"
          ]
        },
        {
          "output_type": "display_data",
          "data": {
            "text/plain": [
              "<Figure size 640x480 with 1 Axes>"
            ],
            "image/png": "[encoded data removed]"
          },
          "metadata": {}
        },
        {
          "output_type": "stream",
          "name": "stderr",
          "text": [
            "WARNING:matplotlib.font_manager:findfont: Font family 'NanumBarunGothic' not found.\n",
            "WARNING:matplotlib.font_manager:findfont: Font family 'NanumBarunGothic' not found.\n",
            "WARNING:matplotlib.font_manager:findfont: Font family 'NanumBarunGothic' not found.\n",
            "WARNING:matplotlib.font_manager:findfont: Font family 'NanumBarunGothic' not found.\n",
            "WARNING:matplotlib.font_manager:findfont: Font family 'NanumBarunGothic' not found.\n",
            "WARNING:matplotlib.font_manager:findfont: Font family 'NanumBarunGothic' not found.\n",
            "WARNING:matplotlib.font_manager:findfont: Font family 'NanumBarunGothic' not found.\n",
            "WARNING:matplotlib.font_manager:findfont: Font family 'NanumBarunGothic' not found.\n",
            "WARNING:matplotlib.font_manager:findfont: Font family 'NanumBarunGothic' not found.\n",
            "WARNING:matplotlib.font_manager:findfont: Font family 'NanumBarunGothic' not found.\n",
            "WARNING:matplotlib.font_manager:findfont: Font family 'NanumBarunGothic' not found.\n",
            "WARNING:matplotlib.font_manager:findfont: Font family 'NanumBarunGothic' not found.\n",
            "WARNING:matplotlib.font_manager:findfont: Font family 'NanumBarunGothic' not found.\n",
            "WARNING:matplotlib.font_manager:findfont: Font family 'NanumBarunGothic' not found.\n",
            "WARNING:matplotlib.font_manager:findfont: Font family 'NanumBarunGothic' not found.\n",
            "WARNING:matplotlib.font_manager:findfont: Font family 'NanumBarunGothic' not found.\n",
            "WARNING:matplotlib.font_manager:findfont: Font family 'NanumBarunGothic' not found.\n",
            "WARNING:matplotlib.font_manager:findfont: Font family 'NanumBarunGothic' not found.\n",
            "WARNING:matplotlib.font_manager:findfont: Font family 'NanumBarunGothic' not found.\n",
            "WARNING:matplotlib.font_manager:findfont: Font family 'NanumBarunGothic' not found.\n",
            "WARNING:matplotlib.font_manager:findfont: Font family 'NanumBarunGothic' not found.\n",
            "WARNING:matplotlib.font_manager:findfont: Font family 'NanumBarunGothic' not found.\n",
            "WARNING:matplotlib.font_manager:findfont: Font family 'NanumBarunGothic' not found.\n",
            "WARNING:matplotlib.font_manager:findfont: Font family 'NanumBarunGothic' not found.\n",
            "WARNING:matplotlib.font_manager:findfont: Font family 'NanumBarunGothic' not found.\n",
            "WARNING:matplotlib.font_manager:findfont: Font family 'NanumBarunGothic' not found.\n",
            "WARNING:matplotlib.font_manager:findfont: Font family 'NanumBarunGothic' not found.\n",
            "WARNING:matplotlib.font_manager:findfont: Font family 'NanumBarunGothic' not found.\n",
            "WARNING:matplotlib.font_manager:findfont: Font family 'NanumBarunGothic' not found.\n",
            "WARNING:matplotlib.font_manager:findfont: Font family 'NanumBarunGothic' not found.\n",
            "WARNING:matplotlib.font_manager:findfont: Font family 'NanumBarunGothic' not found.\n",
            "WARNING:matplotlib.font_manager:findfont: Font family 'NanumBarunGothic' not found.\n",
            "WARNING:matplotlib.font_manager:findfont: Font family 'NanumBarunGothic' not found.\n",
            "WARNING:matplotlib.font_manager:findfont: Font family 'NanumBarunGothic' not found.\n",
            "WARNING:matplotlib.font_manager:findfont: Font family 'NanumBarunGothic' not found.\n",
            "WARNING:matplotlib.font_manager:findfont: Font family 'NanumBarunGothic' not found.\n",
            "WARNING:matplotlib.font_manager:findfont: Font family 'NanumBarunGothic' not found.\n",
            "WARNING:matplotlib.font_manager:findfont: Font family 'NanumBarunGothic' not found.\n",
            "WARNING:matplotlib.font_manager:findfont: Font family 'NanumBarunGothic' not found.\n",
            "WARNING:matplotlib.font_manager:findfont: Font family 'NanumBarunGothic' not found.\n",
            "WARNING:matplotlib.font_manager:findfont: Font family 'NanumBarunGothic' not found.\n",
            "WARNING:matplotlib.font_manager:findfont: Font family 'NanumBarunGothic' not found.\n",
            "WARNING:matplotlib.font_manager:findfont: Font family 'NanumBarunGothic' not found.\n",
            "WARNING:matplotlib.font_manager:findfont: Font family 'NanumBarunGothic' not found.\n",
            "WARNING:matplotlib.font_manager:findfont: Font family 'NanumBarunGothic' not found.\n",
            "WARNING:matplotlib.font_manager:findfont: Font family 'NanumBarunGothic' not found.\n",
            "WARNING:matplotlib.font_manager:findfont: Font family 'NanumBarunGothic' not found.\n",
            "WARNING:matplotlib.font_manager:findfont: Font family 'NanumBarunGothic' not found.\n",
            "WARNING:matplotlib.font_manager:findfont: Font family 'NanumBarunGothic' not found.\n",
            "WARNING:matplotlib.font_manager:findfont: Font family 'NanumBarunGothic' not found.\n",
            "WARNING:matplotlib.font_manager:findfont: Font family 'NanumBarunGothic' not found.\n",
            "WARNING:matplotlib.font_manager:findfont: Font family 'NanumBarunGothic' not found.\n",
            "WARNING:matplotlib.font_manager:findfont: Font family 'NanumBarunGothic' not found.\n",
            "WARNING:matplotlib.font_manager:findfont: Font family 'NanumBarunGothic' not found.\n",
            "WARNING:matplotlib.font_manager:findfont: Font family 'NanumBarunGothic' not found.\n"
          ]
        },
        {
          "output_type": "display_data",
          "data": {
            "text/plain": [
              "<Figure size 640x480 with 1 Axes>"
            ],
            "image/png": "[encoded data removed]"
          },
          "metadata": {}
        },
        {
          "output_type": "stream",
          "name": "stderr",
          "text": [
            "WARNING:matplotlib.font_manager:findfont: Font family 'NanumBarunGothic' not found.\n",
            "WARNING:matplotlib.font_manager:findfont: Font family 'NanumBarunGothic' not found.\n",
            "WARNING:matplotlib.font_manager:findfont: Font family 'NanumBarunGothic' not found.\n",
            "WARNING:matplotlib.font_manager:findfont: Font family 'NanumBarunGothic' not found.\n",
            "WARNING:matplotlib.font_manager:findfont: Font family 'NanumBarunGothic' not found.\n",
            "WARNING:matplotlib.font_manager:findfont: Font family 'NanumBarunGothic' not found.\n",
            "WARNING:matplotlib.font_manager:findfont: Font family 'NanumBarunGothic' not found.\n",
            "WARNING:matplotlib.font_manager:findfont: Font family 'NanumBarunGothic' not found.\n",
            "WARNING:matplotlib.font_manager:findfont: Font family 'NanumBarunGothic' not found.\n",
            "WARNING:matplotlib.font_manager:findfont: Font family 'NanumBarunGothic' not found.\n",
            "WARNING:matplotlib.font_manager:findfont: Font family 'NanumBarunGothic' not found.\n",
            "WARNING:matplotlib.font_manager:findfont: Font family 'NanumBarunGothic' not found.\n",
            "WARNING:matplotlib.font_manager:findfont: Font family 'NanumBarunGothic' not found.\n",
            "WARNING:matplotlib.font_manager:findfont: Font family 'NanumBarunGothic' not found.\n",
            "WARNING:matplotlib.font_manager:findfont: Font family 'NanumBarunGothic' not found.\n",
            "WARNING:matplotlib.font_manager:findfont: Font family 'NanumBarunGothic' not found.\n",
            "WARNING:matplotlib.font_manager:findfont: Font family 'NanumBarunGothic' not found.\n",
            "WARNING:matplotlib.font_manager:findfont: Font family 'NanumBarunGothic' not found.\n",
            "WARNING:matplotlib.font_manager:findfont: Font family 'NanumBarunGothic' not found.\n",
            "WARNING:matplotlib.font_manager:findfont: Font family 'NanumBarunGothic' not found.\n",
            "WARNING:matplotlib.font_manager:findfont: Font family 'NanumBarunGothic' not found.\n",
            "WARNING:matplotlib.font_manager:findfont: Font family 'NanumBarunGothic' not found.\n",
            "WARNING:matplotlib.font_manager:findfont: Font family 'NanumBarunGothic' not found.\n",
            "WARNING:matplotlib.font_manager:findfont: Font family 'NanumBarunGothic' not found.\n",
            "WARNING:matplotlib.font_manager:findfont: Font family 'NanumBarunGothic' not found.\n",
            "WARNING:matplotlib.font_manager:findfont: Font family 'NanumBarunGothic' not found.\n",
            "WARNING:matplotlib.font_manager:findfont: Font family 'NanumBarunGothic' not found.\n",
            "WARNING:matplotlib.font_manager:findfont: Font family 'NanumBarunGothic' not found.\n",
            "WARNING:matplotlib.font_manager:findfont: Font family 'NanumBarunGothic' not found.\n",
            "WARNING:matplotlib.font_manager:findfont: Font family 'NanumBarunGothic' not found.\n",
            "WARNING:matplotlib.font_manager:findfont: Font family 'NanumBarunGothic' not found.\n",
            "WARNING:matplotlib.font_manager:findfont: Font family 'NanumBarunGothic' not found.\n",
            "WARNING:matplotlib.font_manager:findfont: Font family 'NanumBarunGothic' not found.\n",
            "WARNING:matplotlib.font_manager:findfont: Font family 'NanumBarunGothic' not found.\n",
            "WARNING:matplotlib.font_manager:findfont: Font family 'NanumBarunGothic' not found.\n",
            "WARNING:matplotlib.font_manager:findfont: Font family 'NanumBarunGothic' not found.\n",
            "WARNING:matplotlib.font_manager:findfont: Font family 'NanumBarunGothic' not found.\n",
            "WARNING:matplotlib.font_manager:findfont: Font family 'NanumBarunGothic' not found.\n",
            "WARNING:matplotlib.font_manager:findfont: Font family 'NanumBarunGothic' not found.\n",
            "WARNING:matplotlib.font_manager:findfont: Font family 'NanumBarunGothic' not found.\n",
            "WARNING:matplotlib.font_manager:findfont: Font family 'NanumBarunGothic' not found.\n",
            "WARNING:matplotlib.font_manager:findfont: Font family 'NanumBarunGothic' not found.\n",
            "WARNING:matplotlib.font_manager:findfont: Font family 'NanumBarunGothic' not found.\n",
            "WARNING:matplotlib.font_manager:findfont: Font family 'NanumBarunGothic' not found.\n",
            "WARNING:matplotlib.font_manager:findfont: Font family 'NanumBarunGothic' not found.\n",
            "WARNING:matplotlib.font_manager:findfont: Font family 'NanumBarunGothic' not found.\n",
            "WARNING:matplotlib.font_manager:findfont: Font family 'NanumBarunGothic' not found.\n",
            "WARNING:matplotlib.font_manager:findfont: Font family 'NanumBarunGothic' not found.\n",
            "WARNING:matplotlib.font_manager:findfont: Font family 'NanumBarunGothic' not found.\n",
            "WARNING:matplotlib.font_manager:findfont: Font family 'NanumBarunGothic' not found.\n",
            "WARNING:matplotlib.font_manager:findfont: Font family 'NanumBarunGothic' not found.\n",
            "WARNING:matplotlib.font_manager:findfont: Font family 'NanumBarunGothic' not found.\n",
            "WARNING:matplotlib.font_manager:findfont: Font family 'NanumBarunGothic' not found.\n",
            "WARNING:matplotlib.font_manager:findfont: Font family 'NanumBarunGothic' not found.\n",
            "WARNING:matplotlib.font_manager:findfont: Font family 'NanumBarunGothic' not found.\n",
            "WARNING:matplotlib.font_manager:findfont: Font family 'NanumBarunGothic' not found.\n",
            "WARNING:matplotlib.font_manager:findfont: Font family 'NanumBarunGothic' not found.\n",
            "WARNING:matplotlib.font_manager:findfont: Font family 'NanumBarunGothic' not found.\n"
          ]
        },
        {
          "output_type": "display_data",
          "data": {
            "text/plain": [
              "<Figure size 640x480 with 1 Axes>"
            ],
            "image/png": "[encoded data removed]"
          },
          "metadata": {}
        }
      ],
      "source": [
        "optimizer = optim.Adam(nn.Linear(1, 1).parameters(), lr=0) # 테스트용 optimizer\n",
        "scheduler = NoamScheduler(optimizer, d_model=512, warmup_steps=4000) # 논문 값\n",
        "plot_scheduler(scheduler_name = 'Noam', optimizer = optimizer, scheduler = scheduler, total_steps = 100000)\n",
        "\n",
        "optimizer = optim.Adam(nn.Linear(1, 1).parameters(), lr=0)\n",
        "scheduler = NoamScheduler(optimizer, d_model=d_model, warmup_steps=warmup_steps, LR_scale=LR_scale)\n",
        "plot_scheduler(scheduler_name = 'Noam', optimizer = optimizer, scheduler = scheduler, total_steps = int(len(train_DS)*EPOCH/BATCH_SIZE)) # 내 상황\n",
        "\n",
        "optimizer = optim.Adam(nn.Linear(1, 1).parameters(), lr=LR_init)\n",
        "scheduler = CosineAnnealingWarmRestarts(optimizer, T0, T_mult)\n",
        "plot_scheduler(scheduler_name = 'Cos', optimizer = optimizer, scheduler = scheduler, total_steps = int(len(train_DS)*EPOCH/BATCH_SIZE))"
      ]
    },
    {
      "cell_type": "markdown",
      "metadata": {
        "id": "l_G1AoumLOVA"
      },
      "source": [
        "## 모델 학습"
      ]
    },
    {
      "cell_type": "code",
      "execution_count": 33,
      "metadata": {
        "id": "Nfg_BYSFmy6w"
      },
      "outputs": [],
      "source": [
        "if new_model_train:\n",
        "    params = [p for p in model.parameters() if p.requires_grad] # 사전 학습된 layer를 사용할 경우\n",
        "    if scheduler_name == 'Noam':\n",
        "        optimizer = optim.Adam(params, lr=0,\n",
        "                               betas=(0.9, 0.98), eps=1e-9,\n",
        "                               weight_decay=LAMBDA) # 논문에서 제시한 beta와 eps 사용, l2-Regularization은 한번 써봄 & 맨 처음 step 의 LR=0으로 출발 (warm-up)\n",
        "        scheduler = NoamScheduler(optimizer, d_model=d_model, warmup_steps=warmup_steps, LR_scale=LR_scale)\n",
        "\n",
        "    elif scheduler_name == 'Cos':\n",
        "        optimizer = optim.Adam(params, lr=LR_init,  # cos restart sheduling\n",
        "                               betas=(0.9, 0.98), eps=1e-9,\n",
        "                               weight_decay=LAMBDA)\n",
        "        scheduler = CosineAnnealingWarmRestarts(optimizer, T0, T_mult)\n",
        "\n",
        "    Train(model, train_DL, val_DL, criterion, optimizer, scheduler)"
      ]
    },
    {
      "cell_type": "markdown",
      "metadata": {
        "id": "1S70EQLBIUR8"
      },
      "source": [
        "## 로드 모델"
      ]
    },
    {
      "cell_type": "code",
      "execution_count": 34,
      "metadata": {
        "id": "OQh9irraw_fd",
        "colab": {
          "base_uri": "https://localhost:8080/"
        },
        "outputId": "c0c58c54-437d-4add-d9bf-c8f36cec99c6"
      },
      "outputs": [
        {
          "output_type": "stream",
          "name": "stdout",
          "text": [
            "12\n",
            "Adam (\n",
            "Parameter Group 0\n",
            "    amsgrad: False\n",
            "    betas: (0.9, 0.98)\n",
            "    capturable: False\n",
            "    differentiable: False\n",
            "    eps: 1e-09\n",
            "    foreach: None\n",
            "    fused: None\n",
            "    lr: 0.00022260183745731945\n",
            "    maximize: False\n",
            "    weight_decay: 0\n",
            ")\n"
          ]
        }
      ],
      "source": [
        "loaded = torch.load(save_model_path, map_location=DEVICE)\n",
        "load_model = loaded[\"model\"]\n",
        "ep = loaded[\"ep\"]\n",
        "optimizer = loaded[\"optimizer\"]\n",
        "\n",
        "loaded = torch.load(save_history_path, map_location=DEVICE)\n",
        "loss_history = loaded[\"loss_history\"]\n",
        "\n",
        "print(ep)\n",
        "print(optimizer)"
      ]
    },
    {
      "cell_type": "code",
      "execution_count": 35,
      "metadata": {
        "id": "W8eVKmFpxBA9",
        "colab": {
          "base_uri": "https://localhost:8080/",
          "height": 1000
        },
        "outputId": "d8e13bc9-ec76-4b5e-b50f-70d8eaa7a1ce"
      },
      "outputs": [
        {
          "output_type": "execute_result",
          "data": {
            "text/plain": [
              "<matplotlib.legend.Legend at 0x7e032e2cbeb0>"
            ]
          },
          "metadata": {},
          "execution_count": 35
        },
        {
          "output_type": "stream",
          "name": "stderr",
          "text": [
            "WARNING:matplotlib.font_manager:findfont: Font family 'NanumBarunGothic' not found.\n",
            "WARNING:matplotlib.font_manager:findfont: Font family 'NanumBarunGothic' not found.\n",
            "WARNING:matplotlib.font_manager:findfont: Font family 'NanumBarunGothic' not found.\n",
            "WARNING:matplotlib.font_manager:findfont: Font family 'NanumBarunGothic' not found.\n",
            "WARNING:matplotlib.font_manager:findfont: Font family 'NanumBarunGothic' not found.\n",
            "WARNING:matplotlib.font_manager:findfont: Font family 'NanumBarunGothic' not found.\n",
            "WARNING:matplotlib.font_manager:findfont: Font family 'NanumBarunGothic' not found.\n",
            "WARNING:matplotlib.font_manager:findfont: Font family 'NanumBarunGothic' not found.\n",
            "WARNING:matplotlib.font_manager:findfont: Font family 'NanumBarunGothic' not found.\n",
            "WARNING:matplotlib.font_manager:findfont: Font family 'NanumBarunGothic' not found.\n",
            "WARNING:matplotlib.font_manager:findfont: Font family 'NanumBarunGothic' not found.\n",
            "WARNING:matplotlib.font_manager:findfont: Font family 'NanumBarunGothic' not found.\n",
            "WARNING:matplotlib.font_manager:findfont: Font family 'NanumBarunGothic' not found.\n",
            "WARNING:matplotlib.font_manager:findfont: Font family 'NanumBarunGothic' not found.\n",
            "WARNING:matplotlib.font_manager:findfont: Font family 'NanumBarunGothic' not found.\n",
            "WARNING:matplotlib.font_manager:findfont: Font family 'NanumBarunGothic' not found.\n",
            "WARNING:matplotlib.font_manager:findfont: Font family 'NanumBarunGothic' not found.\n",
            "WARNING:matplotlib.font_manager:findfont: Font family 'NanumBarunGothic' not found.\n",
            "WARNING:matplotlib.font_manager:findfont: Font family 'NanumBarunGothic' not found.\n",
            "WARNING:matplotlib.font_manager:findfont: Font family 'NanumBarunGothic' not found.\n",
            "WARNING:matplotlib.font_manager:findfont: Font family 'NanumBarunGothic' not found.\n",
            "WARNING:matplotlib.font_manager:findfont: Font family 'NanumBarunGothic' not found.\n",
            "WARNING:matplotlib.font_manager:findfont: Font family 'NanumBarunGothic' not found.\n",
            "WARNING:matplotlib.font_manager:findfont: Font family 'NanumBarunGothic' not found.\n",
            "WARNING:matplotlib.font_manager:findfont: Font family 'NanumBarunGothic' not found.\n",
            "WARNING:matplotlib.font_manager:findfont: Font family 'NanumBarunGothic' not found.\n",
            "WARNING:matplotlib.font_manager:findfont: Font family 'NanumBarunGothic' not found.\n",
            "WARNING:matplotlib.font_manager:findfont: Font family 'NanumBarunGothic' not found.\n",
            "WARNING:matplotlib.font_manager:findfont: Font family 'NanumBarunGothic' not found.\n",
            "WARNING:matplotlib.font_manager:findfont: Font family 'NanumBarunGothic' not found.\n",
            "WARNING:matplotlib.font_manager:findfont: Font family 'NanumBarunGothic' not found.\n",
            "WARNING:matplotlib.font_manager:findfont: Font family 'NanumBarunGothic' not found.\n",
            "WARNING:matplotlib.font_manager:findfont: Font family 'NanumBarunGothic' not found.\n",
            "WARNING:matplotlib.font_manager:findfont: Font family 'NanumBarunGothic' not found.\n",
            "WARNING:matplotlib.font_manager:findfont: Font family 'NanumBarunGothic' not found.\n",
            "WARNING:matplotlib.font_manager:findfont: Font family 'NanumBarunGothic' not found.\n",
            "WARNING:matplotlib.font_manager:findfont: Font family 'NanumBarunGothic' not found.\n",
            "WARNING:matplotlib.font_manager:findfont: Font family 'NanumBarunGothic' not found.\n",
            "WARNING:matplotlib.font_manager:findfont: Font family 'NanumBarunGothic' not found.\n",
            "WARNING:matplotlib.font_manager:findfont: Font family 'NanumBarunGothic' not found.\n",
            "WARNING:matplotlib.font_manager:findfont: Font family 'NanumBarunGothic' not found.\n",
            "WARNING:matplotlib.font_manager:findfont: Font family 'NanumBarunGothic' not found.\n",
            "WARNING:matplotlib.font_manager:findfont: Font family 'NanumBarunGothic' not found.\n",
            "WARNING:matplotlib.font_manager:findfont: Font family 'NanumBarunGothic' not found.\n",
            "WARNING:matplotlib.font_manager:findfont: Font family 'NanumBarunGothic' not found.\n",
            "WARNING:matplotlib.font_manager:findfont: Font family 'NanumBarunGothic' not found.\n",
            "WARNING:matplotlib.font_manager:findfont: Font family 'NanumBarunGothic' not found.\n",
            "WARNING:matplotlib.font_manager:findfont: Font family 'NanumBarunGothic' not found.\n",
            "WARNING:matplotlib.font_manager:findfont: Font family 'NanumBarunGothic' not found.\n",
            "WARNING:matplotlib.font_manager:findfont: Font family 'NanumBarunGothic' not found.\n",
            "WARNING:matplotlib.font_manager:findfont: Font family 'NanumBarunGothic' not found.\n",
            "WARNING:matplotlib.font_manager:findfont: Font family 'NanumBarunGothic' not found.\n",
            "WARNING:matplotlib.font_manager:findfont: Font family 'NanumBarunGothic' not found.\n",
            "WARNING:matplotlib.font_manager:findfont: Font family 'NanumBarunGothic' not found.\n",
            "WARNING:matplotlib.font_manager:findfont: Font family 'NanumBarunGothic' not found.\n",
            "WARNING:matplotlib.font_manager:findfont: Font family 'NanumBarunGothic' not found.\n",
            "WARNING:matplotlib.font_manager:findfont: Font family 'NanumBarunGothic' not found.\n",
            "WARNING:matplotlib.font_manager:findfont: Font family 'NanumBarunGothic' not found.\n",
            "WARNING:matplotlib.font_manager:findfont: Font family 'NanumBarunGothic' not found.\n",
            "WARNING:matplotlib.font_manager:findfont: Font family 'NanumBarunGothic' not found.\n",
            "WARNING:matplotlib.font_manager:findfont: Font family 'NanumBarunGothic' not found.\n",
            "WARNING:matplotlib.font_manager:findfont: Font family 'NanumBarunGothic' not found.\n",
            "WARNING:matplotlib.font_manager:findfont: Font family 'NanumBarunGothic' not found.\n",
            "WARNING:matplotlib.font_manager:findfont: Font family 'NanumBarunGothic' not found.\n",
            "WARNING:matplotlib.font_manager:findfont: Font family 'NanumBarunGothic' not found.\n",
            "WARNING:matplotlib.font_manager:findfont: Font family 'NanumBarunGothic' not found.\n",
            "WARNING:matplotlib.font_manager:findfont: Font family 'NanumBarunGothic' not found.\n",
            "WARNING:matplotlib.font_manager:findfont: Font family 'NanumBarunGothic' not found.\n",
            "WARNING:matplotlib.font_manager:findfont: Font family 'NanumBarunGothic' not found.\n",
            "WARNING:matplotlib.font_manager:findfont: Font family 'NanumBarunGothic' not found.\n",
            "WARNING:matplotlib.font_manager:findfont: Font family 'NanumBarunGothic' not found.\n",
            "WARNING:matplotlib.font_manager:findfont: Font family 'NanumBarunGothic' not found.\n",
            "WARNING:matplotlib.font_manager:findfont: Font family 'NanumBarunGothic' not found.\n",
            "WARNING:matplotlib.font_manager:findfont: Font family 'NanumBarunGothic' not found.\n",
            "WARNING:matplotlib.font_manager:findfont: Font family 'NanumBarunGothic' not found.\n",
            "WARNING:matplotlib.font_manager:findfont: Font family 'NanumBarunGothic' not found.\n",
            "WARNING:matplotlib.font_manager:findfont: Font family 'NanumBarunGothic' not found.\n",
            "WARNING:matplotlib.font_manager:findfont: Font family 'NanumBarunGothic' not found.\n",
            "WARNING:matplotlib.font_manager:findfont: Font family 'NanumBarunGothic' not found.\n",
            "WARNING:matplotlib.font_manager:findfont: Font family 'NanumBarunGothic' not found.\n",
            "WARNING:matplotlib.font_manager:findfont: Font family 'NanumBarunGothic' not found.\n",
            "WARNING:matplotlib.font_manager:findfont: Font family 'NanumBarunGothic' not found.\n",
            "WARNING:matplotlib.font_manager:findfont: Font family 'NanumBarunGothic' not found.\n",
            "WARNING:matplotlib.font_manager:findfont: Font family 'NanumBarunGothic' not found.\n",
            "WARNING:matplotlib.font_manager:findfont: Font family 'NanumBarunGothic' not found.\n",
            "WARNING:matplotlib.font_manager:findfont: Font family 'NanumBarunGothic' not found.\n",
            "WARNING:matplotlib.font_manager:findfont: Font family 'NanumBarunGothic' not found.\n",
            "WARNING:matplotlib.font_manager:findfont: Font family 'NanumBarunGothic' not found.\n",
            "WARNING:matplotlib.font_manager:findfont: Font family 'NanumBarunGothic' not found.\n",
            "WARNING:matplotlib.font_manager:findfont: Font family 'NanumBarunGothic' not found.\n",
            "WARNING:matplotlib.font_manager:findfont: Font family 'NanumBarunGothic' not found.\n",
            "WARNING:matplotlib.font_manager:findfont: Font family 'NanumBarunGothic' not found.\n",
            "WARNING:matplotlib.font_manager:findfont: Font family 'NanumBarunGothic' not found.\n",
            "WARNING:matplotlib.font_manager:findfont: Font family 'NanumBarunGothic' not found.\n",
            "WARNING:matplotlib.font_manager:findfont: Font family 'NanumBarunGothic' not found.\n",
            "WARNING:matplotlib.font_manager:findfont: Font family 'NanumBarunGothic' not found.\n",
            "WARNING:matplotlib.font_manager:findfont: Font family 'NanumBarunGothic' not found.\n",
            "WARNING:matplotlib.font_manager:findfont: Font family 'NanumBarunGothic' not found.\n",
            "WARNING:matplotlib.font_manager:findfont: Font family 'NanumBarunGothic' not found.\n",
            "WARNING:matplotlib.font_manager:findfont: Font family 'NanumBarunGothic' not found.\n",
            "WARNING:matplotlib.font_manager:findfont: Font family 'NanumBarunGothic' not found.\n",
            "WARNING:matplotlib.font_manager:findfont: Font family 'NanumBarunGothic' not found.\n",
            "WARNING:matplotlib.font_manager:findfont: Font family 'NanumBarunGothic' not found.\n",
            "WARNING:matplotlib.font_manager:findfont: Font family 'NanumBarunGothic' not found.\n",
            "WARNING:matplotlib.font_manager:findfont: Font family 'NanumBarunGothic' not found.\n",
            "WARNING:matplotlib.font_manager:findfont: Font family 'NanumBarunGothic' not found.\n",
            "WARNING:matplotlib.font_manager:findfont: Font family 'NanumBarunGothic' not found.\n",
            "WARNING:matplotlib.font_manager:findfont: Font family 'NanumBarunGothic' not found.\n",
            "WARNING:matplotlib.font_manager:findfont: Font family 'NanumBarunGothic' not found.\n",
            "WARNING:matplotlib.font_manager:findfont: Font family 'NanumBarunGothic' not found.\n",
            "WARNING:matplotlib.font_manager:findfont: Font family 'NanumBarunGothic' not found.\n",
            "WARNING:matplotlib.font_manager:findfont: Font family 'NanumBarunGothic' not found.\n",
            "WARNING:matplotlib.font_manager:findfont: Font family 'NanumBarunGothic' not found.\n",
            "WARNING:matplotlib.font_manager:findfont: Font family 'NanumBarunGothic' not found.\n",
            "WARNING:matplotlib.font_manager:findfont: Font family 'NanumBarunGothic' not found.\n",
            "WARNING:matplotlib.font_manager:findfont: Font family 'NanumBarunGothic' not found.\n"
          ]
        },
        {
          "output_type": "display_data",
          "data": {
            "text/plain": [
              "<Figure size 640x480 with 1 Axes>"
            ],
            "image/png": "[encoded data removed]"
          },
          "metadata": {}
        }
      ],
      "source": [
        "plt.figure()\n",
        "plt.plot(range(1,EPOCH+1),loss_history[\"train\"], label=\"train\")\n",
        "plt.plot(range(1,EPOCH+1),loss_history[\"val\"], label=\"val\")\n",
        "plt.xlabel(\"Epoch\")\n",
        "plt.ylabel(\"Loss\")\n",
        "plt.title(\"Train, Val Loss\")\n",
        "plt.grid()\n",
        "plt.legend()"
      ]
    },
    {
      "cell_type": "code",
      "execution_count": 36,
      "metadata": {
        "id": "xkMe28pnma4R",
        "colab": {
          "base_uri": "https://localhost:8080/"
        },
        "outputId": "fc723c44-d621-4832-c7dd-915971bd8beb"
      },
      "outputs": [
        {
          "output_type": "stream",
          "name": "stderr",
          "text": [
            "                                               "
          ]
        },
        {
          "output_type": "stream",
          "name": "stdout",
          "text": [
            "Test loss: 1.325 | Test PPL: 3.761\n"
          ]
        },
        {
          "output_type": "stream",
          "name": "stderr",
          "text": [
            "\r"
          ]
        },
        {
          "output_type": "execute_result",
          "data": {
            "text/plain": [
              "37350377"
            ]
          },
          "metadata": {},
          "execution_count": 36
        }
      ],
      "source": [
        "Test(load_model, test_DL, criterion) # test data에 모델 학습 당시의 train 문장이 껴들어가 있어서 낮게 나옴\n",
        "                                     # (random_split으로 코드 전체 돌릴 때마다 test_DS 를 새로 만들다보니..)\n",
        "count_params(load_model)"
      ]
    },
    {
      "cell_type": "code",
      "execution_count": 37,
      "metadata": {
        "id": "A18nz1o-mpF7",
        "colab": {
          "base_uri": "https://localhost:8080/"
        },
        "outputId": "3b889f34-df4a-4be9-e4e8-a2e8427a279d"
      },
      "outputs": [
        {
          "output_type": "stream",
          "name": "stdout",
          "text": [
            "torch.Size([4, 1, 3])\n",
            "tensor([3.5257])\n",
            "torch.Size([4, 3, 1])\n",
            "torch.Size([4, 1])\n",
            "tensor(3.5257)\n"
          ]
        }
      ],
      "source": [
        "# Perplxity 구하기\n",
        "y_hat = torch.tensor([[[0.3659, 0.7025, 0.3104]], [[0.0097, 0.6577, 0.1947]],[[0.5659, 0.0025, 0.0104]], [[0.9097, 0.0577, 0.7947]]])\n",
        "target = torch.tensor([[2],  [1], [2],  [1]])\n",
        "\n",
        "soft = nn.Softmax(dim=-1)\n",
        "y_hat_soft = soft(y_hat)\n",
        "print(y_hat_soft.shape)\n",
        "v=1\n",
        "for i, val in enumerate(y_hat_soft):\n",
        "    v*=val[0,target[i]]\n",
        "print(v**(-1/target.shape[0]))\n",
        "# 3.5257\n",
        "\n",
        "criterion_test = nn.CrossEntropyLoss()\n",
        "print(y_hat.permute(0,2,1).shape)\n",
        "print(target.shape)\n",
        "print(torch.exp(criterion_test(y_hat.permute(0,2,1), target))) # 결론: loss에 torch.exp 취하셈\n",
        "# 3.5257"
      ]
    },
    {
      "cell_type": "markdown",
      "metadata": {
        "id": "ZqzZvCENIXcj"
      },
      "source": [
        "## 번역 함수, 어텐션 map 그리는 함수"
      ]
    },
    {
      "cell_type": "code",
      "execution_count": 38,
      "metadata": {
        "id": "kEWhBsifvLUw"
      },
      "outputs": [],
      "source": [
        "def translation(model, src_text, atten_map_save = False):\n",
        "    model.eval()\n",
        "    with torch.no_grad():\n",
        "        src = tokenizer.encode(src_text, return_tensors='pt', add_special_tokens=False).to(DEVICE) # 1x단\n",
        "        enc_mask = model.make_enc_mask(src)\n",
        "        enc_out, atten_encs = model.encoder(src, enc_mask, atten_map_save)\n",
        "\n",
        "        pred = tokenizer.encode('</s>', return_tensors='pt', add_special_tokens=False).to(DEVICE) # 1x1\n",
        "        for _ in range(max_len-1): # <sos> 가 한 토큰이기 때문에 최대 99 번까지만 loop을 돌아야 함\n",
        "            dec_mask = model.make_dec_mask(pred)\n",
        "            enc_dec_mask = model.make_enc_dec_mask(src, pred)\n",
        "            out, atten_decs, atten_enc_decs = model.decoder(pred, enc_out, dec_mask, enc_dec_mask, atten_map_save)\n",
        "            # out.shape = (개=1,단,차)\n",
        "\n",
        "            pred_word = out[:,-1,:].argmax(dim=1).unsqueeze(0) # 마지막 단어에 대해 argmax해서 prediction 하고 shape = (1,1)로\n",
        "            pred = torch.cat([pred, pred_word], dim=1) # 1x단 (단은 하나씩 늘면서)\n",
        "\n",
        "            if tokenizer.decode(pred_word.item()) == '</s>':\n",
        "                break\n",
        "\n",
        "        translated_text = tokenizer.decode(pred[0])\n",
        "\n",
        "    return translated_text, atten_encs, atten_decs, atten_enc_decs\n",
        "\n",
        "def show_attention(atten, Query, Key, n):\n",
        "    atten = atten.cpu()\n",
        "\n",
        "    fig, ax = plt.subplots(nrows=1, ncols=3, figsize=[atten.shape[3]*1.5,atten.shape[2]])\n",
        "    for i in range(3):\n",
        "        ax[i].set_yticks(range(atten.shape[2]))\n",
        "        ax[i].set_yticklabels(Query, rotation=45)\n",
        "        ax[i].set_xticks(range(atten.shape[3]))\n",
        "        ax[i].set_xticklabels(Key, rotation=60)\n",
        "        ax[i].imshow(atten[n][i], cmap='bone') # n 번째 layer, 앞 세 개의 헤드만 plot\n",
        "        # ax[i].xaxis.tick_top()  # x축 레이블을 위쪽으로 이동"
      ]
    },
    {
      "cell_type": "code",
      "execution_count": 39,
      "metadata": {
        "id": "fy3e9yXVKToo",
        "colab": {
          "base_uri": "https://localhost:8080/"
        },
        "outputId": "fa8e4760-5c27-4f87-f94b-13abdbcd7bcb"
      },
      "outputs": [
        {
          "output_type": "stream",
          "name": "stdout",
          "text": [
            "입력: 저는 해산물을 좋아하는데, 초밥 먹으러 가실래요?\n",
            "정답: I like seafood, do you want to go eat sushi?\n",
            "AI의 번역: </s> I like seafood, so would you like to go eat sushi?</s>\n"
          ]
        }
      ],
      "source": [
        "# 번역해보기\n",
        "i = 21\n",
        "idx = test_DS.indices[i]\n",
        "src_text, trg_text = custom_DS.__getitem__(idx)\n",
        "print(f\"입력: {src_text}\")\n",
        "print(f\"정답: {trg_text}\")\n",
        "\n",
        "translated_text, atten_encs, atten_decs, atten_enc_decs = translation(load_model, src_text, atten_map_save = True)\n",
        "print(f\"AI의 번역: {translated_text}\")"
      ]
    },
    {
      "cell_type": "code",
      "source": [
        "# # teacher forcing 으로 넣어본다면?\n",
        "\n",
        "# src = tokenizer.encode(src_text, return_tensors='pt').to(DEVICE)\n",
        "# trg_text = '</s> ' + trg_text\n",
        "# trg = tokenizer.encode(trg_text, return_tensors='pt').to(DEVICE)\n",
        "\n",
        "# load_model.eval()\n",
        "# with torch.no_grad():\n",
        "#     y_hat = load_model(src, trg[:,:-1])[0]\n",
        "#     loss = criterion(y_hat.permute(0,2,1), trg[:,1:])\n",
        "#     out_token = y_hat.argmax(-1).squeeze()\n",
        "#     out_text = tokenizer.decode(out_token)\n",
        "\n",
        "# print('loss =', loss)\n",
        "# print('정답 =', [tokenizer.decode(i) for i in trg[0,1:]])\n",
        "# print('예측 =', [tokenizer.decode(i) for i in out_token])"
      ],
      "metadata": {
        "id": "BqEWgiIbHOwF"
      },
      "execution_count": 40,
      "outputs": []
    },
    {
      "cell_type": "code",
      "execution_count": null,
      "metadata": {
        "id": "vQaSRui-0YDK"
      },
      "outputs": [],
      "source": [
        "enc_input = tokenizer.tokenize(src_text)\n",
        "dec_tokens = tokenizer.tokenize(translated_text)\n",
        "dec_input = dec_tokens[:-1] # 디코더 입력으로 들어가는 문장(sos 는 있고 eos는 없고)\n",
        "dec_output = dec_tokens[1:] # 디코더 출력으로 나간 문장\n",
        "\n",
        "# print(dec_input)\n",
        "# print(atten_enc_dec.shape)\n",
        "# print(len(dec_input))\n",
        "# print(len(enc_input))\n",
        "\n",
        "show_attention(atten_encs, enc_input, enc_input, n = 2) # 백화점 1층은 사원 헤드 (두루두루) 2층은 부장 헤드 3층은 임원 헤드\n",
        "show_attention(atten_decs, dec_input, dec_input, n = 2)\n",
        "show_attention(atten_enc_decs, dec_output, enc_input, n = 2) # 이 map을 해석할 때는 \"이 단어가 나오게끔 뭘 주목했느냐\" 로 해석해줘야 함 (ytick에 들어가는 단어가 아닌 예측한 단어를 썼기 때문)"
      ]
    },
    {
      "cell_type": "markdown",
      "metadata": {
        "id": "r2fr0zAdIiVZ"
      },
      "source": [
        "## BLEU score 구하기"
      ]
    },
    {
      "cell_type": "code",
      "execution_count": 42,
      "metadata": {
        "id": "F_sJXs2UAscq",
        "colab": {
          "base_uri": "https://localhost:8080/"
        },
        "outputId": "1ba78d37-754d-43a0-971f-3bacc5a3b699"
      },
      "outputs": [
        {
          "output_type": "execute_result",
          "data": {
            "text/plain": [
              "0.32921006485865717"
            ]
          },
          "metadata": {},
          "execution_count": 42
        }
      ],
      "source": [
        "from torchtext.data.metrics import bleu_score\n",
        "\n",
        "# trgs = [[['훌륭한', '강사와', '훌륭한', '수강생이','만나면','명강의가', '탄생한다']]]\n",
        "# preds = [['훌륭한', '강사와', '훌륭한', '수강생이','함께라면','명강의가','만들어진다']]\n",
        "# preds = [['만들어진다', '강사와', '훌륭한', '명강의가','훌륭한','수강생이','함께라면']]\n",
        "# preds = [['훌륭한', '강사와', '훌륭한', '수강생이','훌륭한','강사와','훌륭한','강의를', '만든다']]\n",
        "# preds = [['수강생이', '만나면', '명강의가', '탄생한다']]\n",
        "\n",
        "trgs = [[['훌륭한', '강사와', '훌륭한', '수강생이','만나면','명강의가', '탄생한다']], [['이것은', '두','번째','문장입니다']]]\n",
        "preds = [['훌륭한', '강사와', '훌륭한', '수강생이','훌륭한','강의를','만든다'], ['이것은','문장입니다']]\n",
        "\n",
        "bleu_score(preds, trgs, max_n = 4, weights = [0.25,0.25,0.25,0.25]) # default\n",
        "# bleu_score(preds, trgs, max_n = 1, weights = [1])"
      ]
    },
    {
      "cell_type": "code",
      "execution_count": 43,
      "metadata": {
        "id": "PpmFWKwsbe9a"
      },
      "outputs": [],
      "source": [
        "def calc_bleu_score(model, DS):\n",
        "    trgs = []\n",
        "    preds = []\n",
        "\n",
        "    for i, (src_text, trg_text) in enumerate(DS):\n",
        "\n",
        "        translated_text, _, _, _ = translation(load_model, src_text)\n",
        "\n",
        "        trg = tokenizer.tokenize(trg_text)\n",
        "        translated_tok = tokenizer.tokenize(translated_text)[1:-1] # <sos> & <eos> 제외\n",
        "\n",
        "        trgs += [[trg]]\n",
        "        preds += [translated_tok]\n",
        "\n",
        "        if (i + 1) % 100 == 0:\n",
        "            print(f\"[{i + 1}/{len(DS)}]\")\n",
        "            print(f\"입력: {src_text}\")\n",
        "            print(f\"정답: {trg_text}\")\n",
        "            print(f\"AI의 번역: {translated_text[5:-4]}\") # 문자열에서 </s> 안보이게 하려고..\n",
        "\n",
        "    bleu = bleu_score(preds, trgs)\n",
        "    print()\n",
        "    print(f'Total BLEU Score = {bleu*100:.2f}')"
      ]
    },
    {
      "cell_type": "code",
      "execution_count": null,
      "metadata": {
        "id": "rue6FzjvULLG"
      },
      "outputs": [],
      "source": [
        "calc_bleu_score(load_model, test_DS)"
      ]
    },
    {
      "cell_type": "code",
      "execution_count": 45,
      "metadata": {
        "id": "A29-xf4IUy4G",
        "colab": {
          "base_uri": "https://localhost:8080/"
        },
        "outputId": "25200611-aff8-4a7d-8576-c39f183f89f9"
      },
      "outputs": [
        {
          "output_type": "stream",
          "name": "stdout",
          "text": [
            "입력: 안녕하세요? 오늘 저녁은 치킨입니다.\n",
            "AI의 번역: </s> Hello? This is a chicken tonight.</s>\n"
          ]
        }
      ],
      "source": [
        "# 내 번역기 써보기!\n",
        "src_text = \"안녕하세요? 오늘 저녁은 치킨입니다.\"\n",
        "print(f\"입력: {src_text}\")\n",
        "\n",
        "translated_text = translation(load_model, src_text)[0]\n",
        "print(f\"AI의 번역: {translated_text}\")"
      ]
    }
  ],
  "metadata": {
    "colab": {
      "provenance": [],
      "gpuClass": "premium"
    },
    "kernelspec": {
      "display_name": "Python 3",
      "name": "python3"
    },
    "language_info": {
      "name": "python"
    },
    "widgets": {
      "application/vnd.jupyter.widget-state+json": {
        "a794d449b9e54d58afc4a00cc2805d67": {
          "model_module": "@jupyter-widgets/controls",
          "model_name": "HBoxModel",
          "model_module_version": "1.5.0",
          "state": {
            "_dom_classes": [],
            "_model_module": "@jupyter-widgets/controls",
            "_model_module_version": "1.5.0",
            "_model_name": "HBoxModel",
            "_view_count": null,
            "_view_module": "@jupyter-widgets/controls",
            "_view_module_version": "1.5.0",
            "_view_name": "HBoxView",
            "box_style": "",
            "children": [
              "IPY_MODEL_aaf61747d0f548deb208e3e8fb13b1b2",
              "IPY_MODEL_291e750963694ff39bd72eb158f845e1",
              "IPY_MODEL_fe701fb75ae743fe9b13786b92ee91f2"
            ],
            "layout": "IPY_MODEL_59bd78336fe84d8387462f84b3de4a91"
          }
        },
        "aaf61747d0f548deb208e3e8fb13b1b2": {
          "model_module": "@jupyter-widgets/controls",
          "model_name": "HTMLModel",
          "model_module_version": "1.5.0",
          "state": {
            "_dom_classes": [],
            "_model_module": "@jupyter-widgets/controls",
            "_model_module_version": "1.5.0",
            "_model_name": "HTMLModel",
            "_view_count": null,
            "_view_module": "@jupyter-widgets/controls",
            "_view_module_version": "1.5.0",
            "_view_name": "HTMLView",
            "description": "",
            "description_tooltip": null,
            "layout": "IPY_MODEL_28971cf55b594588a131b2392087c962",
            "placeholder": "​",
            "style": "IPY_MODEL_2b29dccb54c3449dbcbed47cd7dd6d5d",
            "value": "tokenizer_config.json: 100%"
          }
        },
        "291e750963694ff39bd72eb158f845e1": {
          "model_module": "@jupyter-widgets/controls",
          "model_name": "FloatProgressModel",
          "model_module_version": "1.5.0",
          "state": {
            "_dom_classes": [],
            "_model_module": "@jupyter-widgets/controls",
            "_model_module_version": "1.5.0",
            "_model_name": "FloatProgressModel",
            "_view_count": null,
            "_view_module": "@jupyter-widgets/controls",
            "_view_module_version": "1.5.0",
            "_view_name": "ProgressView",
            "bar_style": "success",
            "description": "",
            "description_tooltip": null,
            "layout": "IPY_MODEL_0b7dab5002994480ab111fd7f7cc9f2c",
            "max": 44,
            "min": 0,
            "orientation": "horizontal",
            "style": "IPY_MODEL_3ccbdb440ccf4c7ba15f5340ba3132ee",
            "value": 44
          }
        },
        "fe701fb75ae743fe9b13786b92ee91f2": {
          "model_module": "@jupyter-widgets/controls",
          "model_name": "HTMLModel",
          "model_module_version": "1.5.0",
          "state": {
            "_dom_classes": [],
            "_model_module": "@jupyter-widgets/controls",
            "_model_module_version": "1.5.0",
            "_model_name": "HTMLModel",
            "_view_count": null,
            "_view_module": "@jupyter-widgets/controls",
            "_view_module_version": "1.5.0",
            "_view_name": "HTMLView",
            "description": "",
            "description_tooltip": null,
            "layout": "IPY_MODEL_892d8125687740ee85a6ee722624b63a",
            "placeholder": "​",
            "style": "IPY_MODEL_e3f12a2e6f8d4e07865ea99d8685bbf1",
            "value": " 44.0/44.0 [00:00&lt;00:00, 2.33kB/s]"
          }
        },
        "59bd78336fe84d8387462f84b3de4a91": {
          "model_module": "@jupyter-widgets/base",
          "model_name": "LayoutModel",
          "model_module_version": "1.2.0",
          "state": {
            "_model_module": "@jupyter-widgets/base",
            "_model_module_version": "1.2.0",
            "_model_name": "LayoutModel",
            "_view_count": null,
            "_view_module": "@jupyter-widgets/base",
            "_view_module_version": "1.2.0",
            "_view_name": "LayoutView",
            "align_content": null,
            "align_items": null,
            "align_self": null,
            "border": null,
            "bottom": null,
            "display": null,
            "flex": null,
            "flex_flow": null,
            "grid_area": null,
            "grid_auto_columns": null,
            "grid_auto_flow": null,
            "grid_auto_rows": null,
            "grid_column": null,
            "grid_gap": null,
            "grid_row": null,
            "grid_template_areas": null,
            "grid_template_columns": null,
            "grid_template_rows": null,
            "height": null,
            "justify_content": null,
            "justify_items": null,
            "left": null,
            "margin": null,
            "max_height": null,
            "max_width": null,
            "min_height": null,
            "min_width": null,
            "object_fit": null,
            "object_position": null,
            "order": null,
            "overflow": null,
            "overflow_x": null,
            "overflow_y": null,
            "padding": null,
            "right": null,
            "top": null,
            "visibility": null,
            "width": null
          }
        },
        "28971cf55b594588a131b2392087c962": {
          "model_module": "@jupyter-widgets/base",
          "model_name": "LayoutModel",
          "model_module_version": "1.2.0",
          "state": {
            "_model_module": "@jupyter-widgets/base",
            "_model_module_version": "1.2.0",
            "_model_name": "LayoutModel",
            "_view_count": null,
            "_view_module": "@jupyter-widgets/base",
            "_view_module_version": "1.2.0",
            "_view_name": "LayoutView",
            "align_content": null,
            "align_items": null,
            "align_self": null,
            "border": null,
            "bottom": null,
            "display": null,
            "flex": null,
            "flex_flow": null,
            "grid_area": null,
            "grid_auto_columns": null,
            "grid_auto_flow": null,
            "grid_auto_rows": null,
            "grid_column": null,
            "grid_gap": null,
            "grid_row": null,
            "grid_template_areas": null,
            "grid_template_columns": null,
            "grid_template_rows": null,
            "height": null,
            "justify_content": null,
            "justify_items": null,
            "left": null,
            "margin": null,
            "max_height": null,
            "max_width": null,
            "min_height": null,
            "min_width": null,
            "object_fit": null,
            "object_position": null,
            "order": null,
            "overflow": null,
            "overflow_x": null,
            "overflow_y": null,
            "padding": null,
            "right": null,
            "top": null,
            "visibility": null,
            "width": null
          }
        },
        "2b29dccb54c3449dbcbed47cd7dd6d5d": {
          "model_module": "@jupyter-widgets/controls",
          "model_name": "DescriptionStyleModel",
          "model_module_version": "1.5.0",
          "state": {
            "_model_module": "@jupyter-widgets/controls",
            "_model_module_version": "1.5.0",
            "_model_name": "DescriptionStyleModel",
            "_view_count": null,
            "_view_module": "@jupyter-widgets/base",
            "_view_module_version": "1.2.0",
            "_view_name": "StyleView",
            "description_width": ""
          }
        },
        "0b7dab5002994480ab111fd7f7cc9f2c": {
          "model_module": "@jupyter-widgets/base",
          "model_name": "LayoutModel",
          "model_module_version": "1.2.0",
          "state": {
            "_model_module": "@jupyter-widgets/base",
            "_model_module_version": "1.2.0",
            "_model_name": "LayoutModel",
            "_view_count": null,
            "_view_module": "@jupyter-widgets/base",
            "_view_module_version": "1.2.0",
            "_view_name": "LayoutView",
            "align_content": null,
            "align_items": null,
            "align_self": null,
            "border": null,
            "bottom": null,
            "display": null,
            "flex": null,
            "flex_flow": null,
            "grid_area": null,
            "grid_auto_columns": null,
            "grid_auto_flow": null,
            "grid_auto_rows": null,
            "grid_column": null,
            "grid_gap": null,
            "grid_row": null,
            "grid_template_areas": null,
            "grid_template_columns": null,
            "grid_template_rows": null,
            "height": null,
            "justify_content": null,
            "justify_items": null,
            "left": null,
            "margin": null,
            "max_height": null,
            "max_width": null,
            "min_height": null,
            "min_width": null,
            "object_fit": null,
            "object_position": null,
            "order": null,
            "overflow": null,
            "overflow_x": null,
            "overflow_y": null,
            "padding": null,
            "right": null,
            "top": null,
            "visibility": null,
            "width": null
          }
        },
        "3ccbdb440ccf4c7ba15f5340ba3132ee": {
          "model_module": "@jupyter-widgets/controls",
          "model_name": "ProgressStyleModel",
          "model_module_version": "1.5.0",
          "state": {
            "_model_module": "@jupyter-widgets/controls",
            "_model_module_version": "1.5.0",
            "_model_name": "ProgressStyleModel",
            "_view_count": null,
            "_view_module": "@jupyter-widgets/base",
            "_view_module_version": "1.2.0",
            "_view_name": "StyleView",
            "bar_color": null,
            "description_width": ""
          }
        },
        "892d8125687740ee85a6ee722624b63a": {
          "model_module": "@jupyter-widgets/base",
          "model_name": "LayoutModel",
          "model_module_version": "1.2.0",
          "state": {
            "_model_module": "@jupyter-widgets/base",
            "_model_module_version": "1.2.0",
            "_model_name": "LayoutModel",
            "_view_count": null,
            "_view_module": "@jupyter-widgets/base",
            "_view_module_version": "1.2.0",
            "_view_name": "LayoutView",
            "align_content": null,
            "align_items": null,
            "align_self": null,
            "border": null,
            "bottom": null,
            "display": null,
            "flex": null,
            "flex_flow": null,
            "grid_area": null,
            "grid_auto_columns": null,
            "grid_auto_flow": null,
            "grid_auto_rows": null,
            "grid_column": null,
            "grid_gap": null,
            "grid_row": null,
            "grid_template_areas": null,
            "grid_template_columns": null,
            "grid_template_rows": null,
            "height": null,
            "justify_content": null,
            "justify_items": null,
            "left": null,
            "margin": null,
            "max_height": null,
            "max_width": null,
            "min_height": null,
            "min_width": null,
            "object_fit": null,
            "object_position": null,
            "order": null,
            "overflow": null,
            "overflow_x": null,
            "overflow_y": null,
            "padding": null,
            "right": null,
            "top": null,
            "visibility": null,
            "width": null
          }
        },
        "e3f12a2e6f8d4e07865ea99d8685bbf1": {
          "model_module": "@jupyter-widgets/controls",
          "model_name": "DescriptionStyleModel",
          "model_module_version": "1.5.0",
          "state": {
            "_model_module": "@jupyter-widgets/controls",
            "_model_module_version": "1.5.0",
            "_model_name": "DescriptionStyleModel",
            "_view_count": null,
            "_view_module": "@jupyter-widgets/base",
            "_view_module_version": "1.2.0",
            "_view_name": "StyleView",
            "description_width": ""
          }
        },
        "1d95920c293c4c6ca407eae90d0dcee2": {
          "model_module": "@jupyter-widgets/controls",
          "model_name": "HBoxModel",
          "model_module_version": "1.5.0",
          "state": {
            "_dom_classes": [],
            "_model_module": "@jupyter-widgets/controls",
            "_model_module_version": "1.5.0",
            "_model_name": "HBoxModel",
            "_view_count": null,
            "_view_module": "@jupyter-widgets/controls",
            "_view_module_version": "1.5.0",
            "_view_name": "HBoxView",
            "box_style": "",
            "children": [
              "IPY_MODEL_d84fbb0172de4b54a302e87a0fcdca2c",
              "IPY_MODEL_79262e254d5d4bb1a0cb482aca15455e",
              "IPY_MODEL_15dcf25a31a8486f8a31414a166619c8"
            ],
            "layout": "IPY_MODEL_13ba1f819a3c4275af6b00668c918d6a"
          }
        },
        "d84fbb0172de4b54a302e87a0fcdca2c": {
          "model_module": "@jupyter-widgets/controls",
          "model_name": "HTMLModel",
          "model_module_version": "1.5.0",
          "state": {
            "_dom_classes": [],
            "_model_module": "@jupyter-widgets/controls",
            "_model_module_version": "1.5.0",
            "_model_name": "HTMLModel",
            "_view_count": null,
            "_view_module": "@jupyter-widgets/controls",
            "_view_module_version": "1.5.0",
            "_view_name": "HTMLView",
            "description": "",
            "description_tooltip": null,
            "layout": "IPY_MODEL_ee5ddcc6d5f248a9828e257346e864cc",
            "placeholder": "​",
            "style": "IPY_MODEL_70db29a0a7e6439dbf1944a9a7d49ec4",
            "value": "source.spm: 100%"
          }
        },
        "79262e254d5d4bb1a0cb482aca15455e": {
          "model_module": "@jupyter-widgets/controls",
          "model_name": "FloatProgressModel",
          "model_module_version": "1.5.0",
          "state": {
            "_dom_classes": [],
            "_model_module": "@jupyter-widgets/controls",
            "_model_module_version": "1.5.0",
            "_model_name": "FloatProgressModel",
            "_view_count": null,
            "_view_module": "@jupyter-widgets/controls",
            "_view_module_version": "1.5.0",
            "_view_name": "ProgressView",
            "bar_style": "success",
            "description": "",
            "description_tooltip": null,
            "layout": "IPY_MODEL_0bc97a684e9946dda826943eeebbd183",
            "max": 841805,
            "min": 0,
            "orientation": "horizontal",
            "style": "IPY_MODEL_98cd23cc6c574c04b90c8938c6d05825",
            "value": 841805
          }
        },
        "15dcf25a31a8486f8a31414a166619c8": {
          "model_module": "@jupyter-widgets/controls",
          "model_name": "HTMLModel",
          "model_module_version": "1.5.0",
          "state": {
            "_dom_classes": [],
            "_model_module": "@jupyter-widgets/controls",
            "_model_module_version": "1.5.0",
            "_model_name": "HTMLModel",
            "_view_count": null,
            "_view_module": "@jupyter-widgets/controls",
            "_view_module_version": "1.5.0",
            "_view_name": "HTMLView",
            "description": "",
            "description_tooltip": null,
            "layout": "IPY_MODEL_46d3abc9f5a44aee830f88b59ba75f2e",
            "placeholder": "​",
            "style": "IPY_MODEL_eb0eb9ce54e444e697ff7daeb6546aec",
            "value": " 842k/842k [00:00&lt;00:00, 8.04MB/s]"
          }
        },
        "13ba1f819a3c4275af6b00668c918d6a": {
          "model_module": "@jupyter-widgets/base",
          "model_name": "LayoutModel",
          "model_module_version": "1.2.0",
          "state": {
            "_model_module": "@jupyter-widgets/base",
            "_model_module_version": "1.2.0",
            "_model_name": "LayoutModel",
            "_view_count": null,
            "_view_module": "@jupyter-widgets/base",
            "_view_module_version": "1.2.0",
            "_view_name": "LayoutView",
            "align_content": null,
            "align_items": null,
            "align_self": null,
            "border": null,
            "bottom": null,
            "display": null,
            "flex": null,
            "flex_flow": null,
            "grid_area": null,
            "grid_auto_columns": null,
            "grid_auto_flow": null,
            "grid_auto_rows": null,
            "grid_column": null,
            "grid_gap": null,
            "grid_row": null,
            "grid_template_areas": null,
            "grid_template_columns": null,
            "grid_template_rows": null,
            "height": null,
            "justify_content": null,
            "justify_items": null,
            "left": null,
            "margin": null,
            "max_height": null,
            "max_width": null,
            "min_height": null,
            "min_width": null,
            "object_fit": null,
            "object_position": null,
            "order": null,
            "overflow": null,
            "overflow_x": null,
            "overflow_y": null,
            "padding": null,
            "right": null,
            "top": null,
            "visibility": null,
            "width": null
          }
        },
        "ee5ddcc6d5f248a9828e257346e864cc": {
          "model_module": "@jupyter-widgets/base",
          "model_name": "LayoutModel",
          "model_module_version": "1.2.0",
          "state": {
            "_model_module": "@jupyter-widgets/base",
            "_model_module_version": "1.2.0",
            "_model_name": "LayoutModel",
            "_view_count": null,
            "_view_module": "@jupyter-widgets/base",
            "_view_module_version": "1.2.0",
            "_view_name": "LayoutView",
            "align_content": null,
            "align_items": null,
            "align_self": null,
            "border": null,
            "bottom": null,
            "display": null,
            "flex": null,
            "flex_flow": null,
            "grid_area": null,
            "grid_auto_columns": null,
            "grid_auto_flow": null,
            "grid_auto_rows": null,
            "grid_column": null,
            "grid_gap": null,
            "grid_row": null,
            "grid_template_areas": null,
            "grid_template_columns": null,
            "grid_template_rows": null,
            "height": null,
            "justify_content": null,
            "justify_items": null,
            "left": null,
            "margin": null,
            "max_height": null,
            "max_width": null,
            "min_height": null,
            "min_width": null,
            "object_fit": null,
            "object_position": null,
            "order": null,
            "overflow": null,
            "overflow_x": null,
            "overflow_y": null,
            "padding": null,
            "right": null,
            "top": null,
            "visibility": null,
            "width": null
          }
        },
        "70db29a0a7e6439dbf1944a9a7d49ec4": {
          "model_module": "@jupyter-widgets/controls",
          "model_name": "DescriptionStyleModel",
          "model_module_version": "1.5.0",
          "state": {
            "_model_module": "@jupyter-widgets/controls",
            "_model_module_version": "1.5.0",
            "_model_name": "DescriptionStyleModel",
            "_view_count": null,
            "_view_module": "@jupyter-widgets/base",
            "_view_module_version": "1.2.0",
            "_view_name": "StyleView",
            "description_width": ""
          }
        },
        "0bc97a684e9946dda826943eeebbd183": {
          "model_module": "@jupyter-widgets/base",
          "model_name": "LayoutModel",
          "model_module_version": "1.2.0",
          "state": {
            "_model_module": "@jupyter-widgets/base",
            "_model_module_version": "1.2.0",
            "_model_name": "LayoutModel",
            "_view_count": null,
            "_view_module": "@jupyter-widgets/base",
            "_view_module_version": "1.2.0",
            "_view_name": "LayoutView",
            "align_content": null,
            "align_items": null,
            "align_self": null,
            "border": null,
            "bottom": null,
            "display": null,
            "flex": null,
            "flex_flow": null,
            "grid_area": null,
            "grid_auto_columns": null,
            "grid_auto_flow": null,
            "grid_auto_rows": null,
            "grid_column": null,
            "grid_gap": null,
            "grid_row": null,
            "grid_template_areas": null,
            "grid_template_columns": null,
            "grid_template_rows": null,
            "height": null,
            "justify_content": null,
            "justify_items": null,
            "left": null,
            "margin": null,
            "max_height": null,
            "max_width": null,
            "min_height": null,
            "min_width": null,
            "object_fit": null,
            "object_position": null,
            "order": null,
            "overflow": null,
            "overflow_x": null,
            "overflow_y": null,
            "padding": null,
            "right": null,
            "top": null,
            "visibility": null,
            "width": null
          }
        },
        "98cd23cc6c574c04b90c8938c6d05825": {
          "model_module": "@jupyter-widgets/controls",
          "model_name": "ProgressStyleModel",
          "model_module_version": "1.5.0",
          "state": {
            "_model_module": "@jupyter-widgets/controls",
            "_model_module_version": "1.5.0",
            "_model_name": "ProgressStyleModel",
            "_view_count": null,
            "_view_module": "@jupyter-widgets/base",
            "_view_module_version": "1.2.0",
            "_view_name": "StyleView",
            "bar_color": null,
            "description_width": ""
          }
        },
        "46d3abc9f5a44aee830f88b59ba75f2e": {
          "model_module": "@jupyter-widgets/base",
          "model_name": "LayoutModel",
          "model_module_version": "1.2.0",
          "state": {
            "_model_module": "@jupyter-widgets/base",
            "_model_module_version": "1.2.0",
            "_model_name": "LayoutModel",
            "_view_count": null,
            "_view_module": "@jupyter-widgets/base",
            "_view_module_version": "1.2.0",
            "_view_name": "LayoutView",
            "align_content": null,
            "align_items": null,
            "align_self": null,
            "border": null,
            "bottom": null,
            "display": null,
            "flex": null,
            "flex_flow": null,
            "grid_area": null,
            "grid_auto_columns": null,
            "grid_auto_flow": null,
            "grid_auto_rows": null,
            "grid_column": null,
            "grid_gap": null,
            "grid_row": null,
            "grid_template_areas": null,
            "grid_template_columns": null,
            "grid_template_rows": null,
            "height": null,
            "justify_content": null,
            "justify_items": null,
            "left": null,
            "margin": null,
            "max_height": null,
            "max_width": null,
            "min_height": null,
            "min_width": null,
            "object_fit": null,
            "object_position": null,
            "order": null,
            "overflow": null,
            "overflow_x": null,
            "overflow_y": null,
            "padding": null,
            "right": null,
            "top": null,
            "visibility": null,
            "width": null
          }
        },
        "eb0eb9ce54e444e697ff7daeb6546aec": {
          "model_module": "@jupyter-widgets/controls",
          "model_name": "DescriptionStyleModel",
          "model_module_version": "1.5.0",
          "state": {
            "_model_module": "@jupyter-widgets/controls",
            "_model_module_version": "1.5.0",
            "_model_name": "DescriptionStyleModel",
            "_view_count": null,
            "_view_module": "@jupyter-widgets/base",
            "_view_module_version": "1.2.0",
            "_view_name": "StyleView",
            "description_width": ""
          }
        },
        "439a41c66cdd423cb86c95d5f964e5d7": {
          "model_module": "@jupyter-widgets/controls",
          "model_name": "HBoxModel",
          "model_module_version": "1.5.0",
          "state": {
            "_dom_classes": [],
            "_model_module": "@jupyter-widgets/controls",
            "_model_module_version": "1.5.0",
            "_model_name": "HBoxModel",
            "_view_count": null,
            "_view_module": "@jupyter-widgets/controls",
            "_view_module_version": "1.5.0",
            "_view_name": "HBoxView",
            "box_style": "",
            "children": [
              "IPY_MODEL_6d6f7cfbd20c4c8f9328028fda2f3317",
              "IPY_MODEL_cde9bd8b85204d989f2904125bbe74dd",
              "IPY_MODEL_90abbc7a91c3463db02723d2c325e730"
            ],
            "layout": "IPY_MODEL_611cd4c529a843509b2f2c6db2d6714d"
          }
        },
        "6d6f7cfbd20c4c8f9328028fda2f3317": {
          "model_module": "@jupyter-widgets/controls",
          "model_name": "HTMLModel",
          "model_module_version": "1.5.0",
          "state": {
            "_dom_classes": [],
            "_model_module": "@jupyter-widgets/controls",
            "_model_module_version": "1.5.0",
            "_model_name": "HTMLModel",
            "_view_count": null,
            "_view_module": "@jupyter-widgets/controls",
            "_view_module_version": "1.5.0",
            "_view_name": "HTMLView",
            "description": "",
            "description_tooltip": null,
            "layout": "IPY_MODEL_b00aa340e25a4ab4bd6653bce49c028c",
            "placeholder": "​",
            "style": "IPY_MODEL_804111ecd71c456b8d5259288ba57d44",
            "value": "target.spm: 100%"
          }
        },
        "cde9bd8b85204d989f2904125bbe74dd": {
          "model_module": "@jupyter-widgets/controls",
          "model_name": "FloatProgressModel",
          "model_module_version": "1.5.0",
          "state": {
            "_dom_classes": [],
            "_model_module": "@jupyter-widgets/controls",
            "_model_module_version": "1.5.0",
            "_model_name": "FloatProgressModel",
            "_view_count": null,
            "_view_module": "@jupyter-widgets/controls",
            "_view_module_version": "1.5.0",
            "_view_name": "ProgressView",
            "bar_style": "success",
            "description": "",
            "description_tooltip": null,
            "layout": "IPY_MODEL_c22d2f06f7b64d508f9d869ff51f412d",
            "max": 813126,
            "min": 0,
            "orientation": "horizontal",
            "style": "IPY_MODEL_2c79a67e49e54961bb7b3ca03f8bf4a8",
            "value": 813126
          }
        },
        "90abbc7a91c3463db02723d2c325e730": {
          "model_module": "@jupyter-widgets/controls",
          "model_name": "HTMLModel",
          "model_module_version": "1.5.0",
          "state": {
            "_dom_classes": [],
            "_model_module": "@jupyter-widgets/controls",
            "_model_module_version": "1.5.0",
            "_model_name": "HTMLModel",
            "_view_count": null,
            "_view_module": "@jupyter-widgets/controls",
            "_view_module_version": "1.5.0",
            "_view_name": "HTMLView",
            "description": "",
            "description_tooltip": null,
            "layout": "IPY_MODEL_7dc6939796944d2e9d47e41eba7948f8",
            "placeholder": "​",
            "style": "IPY_MODEL_cd94f16a539841ab86eb5df98091ffa3",
            "value": " 813k/813k [00:00&lt;00:00, 7.93MB/s]"
          }
        },
        "611cd4c529a843509b2f2c6db2d6714d": {
          "model_module": "@jupyter-widgets/base",
          "model_name": "LayoutModel",
          "model_module_version": "1.2.0",
          "state": {
            "_model_module": "@jupyter-widgets/base",
            "_model_module_version": "1.2.0",
            "_model_name": "LayoutModel",
            "_view_count": null,
            "_view_module": "@jupyter-widgets/base",
            "_view_module_version": "1.2.0",
            "_view_name": "LayoutView",
            "align_content": null,
            "align_items": null,
            "align_self": null,
            "border": null,
            "bottom": null,
            "display": null,
            "flex": null,
            "flex_flow": null,
            "grid_area": null,
            "grid_auto_columns": null,
            "grid_auto_flow": null,
            "grid_auto_rows": null,
            "grid_column": null,
            "grid_gap": null,
            "grid_row": null,
            "grid_template_areas": null,
            "grid_template_columns": null,
            "grid_template_rows": null,
            "height": null,
            "justify_content": null,
            "justify_items": null,
            "left": null,
            "margin": null,
            "max_height": null,
            "max_width": null,
            "min_height": null,
            "min_width": null,
            "object_fit": null,
            "object_position": null,
            "order": null,
            "overflow": null,
            "overflow_x": null,
            "overflow_y": null,
            "padding": null,
            "right": null,
            "top": null,
            "visibility": null,
            "width": null
          }
        },
        "b00aa340e25a4ab4bd6653bce49c028c": {
          "model_module": "@jupyter-widgets/base",
          "model_name": "LayoutModel",
          "model_module_version": "1.2.0",
          "state": {
            "_model_module": "@jupyter-widgets/base",
            "_model_module_version": "1.2.0",
            "_model_name": "LayoutModel",
            "_view_count": null,
            "_view_module": "@jupyter-widgets/base",
            "_view_module_version": "1.2.0",
            "_view_name": "LayoutView",
            "align_content": null,
            "align_items": null,
            "align_self": null,
            "border": null,
            "bottom": null,
            "display": null,
            "flex": null,
            "flex_flow": null,
            "grid_area": null,
            "grid_auto_columns": null,
            "grid_auto_flow": null,
            "grid_auto_rows": null,
            "grid_column": null,
            "grid_gap": null,
            "grid_row": null,
            "grid_template_areas": null,
            "grid_template_columns": null,
            "grid_template_rows": null,
            "height": null,
            "justify_content": null,
            "justify_items": null,
            "left": null,
            "margin": null,
            "max_height": null,
            "max_width": null,
            "min_height": null,
            "min_width": null,
            "object_fit": null,
            "object_position": null,
            "order": null,
            "overflow": null,
            "overflow_x": null,
            "overflow_y": null,
            "padding": null,
            "right": null,
            "top": null,
            "visibility": null,
            "width": null
          }
        },
        "804111ecd71c456b8d5259288ba57d44": {
          "model_module": "@jupyter-widgets/controls",
          "model_name": "DescriptionStyleModel",
          "model_module_version": "1.5.0",
          "state": {
            "_model_module": "@jupyter-widgets/controls",
            "_model_module_version": "1.5.0",
            "_model_name": "DescriptionStyleModel",
            "_view_count": null,
            "_view_module": "@jupyter-widgets/base",
            "_view_module_version": "1.2.0",
            "_view_name": "StyleView",
            "description_width": ""
          }
        },
        "c22d2f06f7b64d508f9d869ff51f412d": {
          "model_module": "@jupyter-widgets/base",
          "model_name": "LayoutModel",
          "model_module_version": "1.2.0",
          "state": {
            "_model_module": "@jupyter-widgets/base",
            "_model_module_version": "1.2.0",
            "_model_name": "LayoutModel",
            "_view_count": null,
            "_view_module": "@jupyter-widgets/base",
            "_view_module_version": "1.2.0",
            "_view_name": "LayoutView",
            "align_content": null,
            "align_items": null,
            "align_self": null,
            "border": null,
            "bottom": null,
            "display": null,
            "flex": null,
            "flex_flow": null,
            "grid_area": null,
            "grid_auto_columns": null,
            "grid_auto_flow": null,
            "grid_auto_rows": null,
            "grid_column": null,
            "grid_gap": null,
            "grid_row": null,
            "grid_template_areas": null,
            "grid_template_columns": null,
            "grid_template_rows": null,
            "height": null,
            "justify_content": null,
            "justify_items": null,
            "left": null,
            "margin": null,
            "max_height": null,
            "max_width": null,
            "min_height": null,
            "min_width": null,
            "object_fit": null,
            "object_position": null,
            "order": null,
            "overflow": null,
            "overflow_x": null,
            "overflow_y": null,
            "padding": null,
            "right": null,
            "top": null,
            "visibility": null,
            "width": null
          }
        },
        "2c79a67e49e54961bb7b3ca03f8bf4a8": {
          "model_module": "@jupyter-widgets/controls",
          "model_name": "ProgressStyleModel",
          "model_module_version": "1.5.0",
          "state": {
            "_model_module": "@jupyter-widgets/controls",
            "_model_module_version": "1.5.0",
            "_model_name": "ProgressStyleModel",
            "_view_count": null,
            "_view_module": "@jupyter-widgets/base",
            "_view_module_version": "1.2.0",
            "_view_name": "StyleView",
            "bar_color": null,
            "description_width": ""
          }
        },
        "7dc6939796944d2e9d47e41eba7948f8": {
          "model_module": "@jupyter-widgets/base",
          "model_name": "LayoutModel",
          "model_module_version": "1.2.0",
          "state": {
            "_model_module": "@jupyter-widgets/base",
            "_model_module_version": "1.2.0",
            "_model_name": "LayoutModel",
            "_view_count": null,
            "_view_module": "@jupyter-widgets/base",
            "_view_module_version": "1.2.0",
            "_view_name": "LayoutView",
            "align_content": null,
            "align_items": null,
            "align_self": null,
            "border": null,
            "bottom": null,
            "display": null,
            "flex": null,
            "flex_flow": null,
            "grid_area": null,
            "grid_auto_columns": null,
            "grid_auto_flow": null,
            "grid_auto_rows": null,
            "grid_column": null,
            "grid_gap": null,
            "grid_row": null,
            "grid_template_areas": null,
            "grid_template_columns": null,
            "grid_template_rows": null,
            "height": null,
            "justify_content": null,
            "justify_items": null,
            "left": null,
            "margin": null,
            "max_height": null,
            "max_width": null,
            "min_height": null,
            "min_width": null,
            "object_fit": null,
            "object_position": null,
            "order": null,
            "overflow": null,
            "overflow_x": null,
            "overflow_y": null,
            "padding": null,
            "right": null,
            "top": null,
            "visibility": null,
            "width": null
          }
        },
        "cd94f16a539841ab86eb5df98091ffa3": {
          "model_module": "@jupyter-widgets/controls",
          "model_name": "DescriptionStyleModel",
          "model_module_version": "1.5.0",
          "state": {
            "_model_module": "@jupyter-widgets/controls",
            "_model_module_version": "1.5.0",
            "_model_name": "DescriptionStyleModel",
            "_view_count": null,
            "_view_module": "@jupyter-widgets/base",
            "_view_module_version": "1.2.0",
            "_view_name": "StyleView",
            "description_width": ""
          }
        },
        "337cf59a7e0e4b4680f55f877c819916": {
          "model_module": "@jupyter-widgets/controls",
          "model_name": "HBoxModel",
          "model_module_version": "1.5.0",
          "state": {
            "_dom_classes": [],
            "_model_module": "@jupyter-widgets/controls",
            "_model_module_version": "1.5.0",
            "_model_name": "HBoxModel",
            "_view_count": null,
            "_view_module": "@jupyter-widgets/controls",
            "_view_module_version": "1.5.0",
            "_view_name": "HBoxView",
            "box_style": "",
            "children": [
              "IPY_MODEL_ae629a8b25b24a63891972718e9e8d3d",
              "IPY_MODEL_3108fff33cb044d5963bc8ee788bd251",
              "IPY_MODEL_459e5564102c4385b83798f731fd281a"
            ],
            "layout": "IPY_MODEL_f8433edd4c204167b5c78160fac6ac92"
          }
        },
        "ae629a8b25b24a63891972718e9e8d3d": {
          "model_module": "@jupyter-widgets/controls",
          "model_name": "HTMLModel",
          "model_module_version": "1.5.0",
          "state": {
            "_dom_classes": [],
            "_model_module": "@jupyter-widgets/controls",
            "_model_module_version": "1.5.0",
            "_model_name": "HTMLModel",
            "_view_count": null,
            "_view_module": "@jupyter-widgets/controls",
            "_view_module_version": "1.5.0",
            "_view_name": "HTMLView",
            "description": "",
            "description_tooltip": null,
            "layout": "IPY_MODEL_a0158d2667024242b9c8ba099976cfc8",
            "placeholder": "​",
            "style": "IPY_MODEL_b8f91b6ab42744ccb88f4a09f1987dc0",
            "value": "vocab.json: 100%"
          }
        },
        "3108fff33cb044d5963bc8ee788bd251": {
          "model_module": "@jupyter-widgets/controls",
          "model_name": "FloatProgressModel",
          "model_module_version": "1.5.0",
          "state": {
            "_dom_classes": [],
            "_model_module": "@jupyter-widgets/controls",
            "_model_module_version": "1.5.0",
            "_model_name": "FloatProgressModel",
            "_view_count": null,
            "_view_module": "@jupyter-widgets/controls",
            "_view_module_version": "1.5.0",
            "_view_name": "ProgressView",
            "bar_style": "success",
            "description": "",
            "description_tooltip": null,
            "layout": "IPY_MODEL_15e88467a1e14df098c745630c8be6d4",
            "max": 1719866,
            "min": 0,
            "orientation": "horizontal",
            "style": "IPY_MODEL_675d5726b7244ecd820e012c9a5eb4e3",
            "value": 1719866
          }
        },
        "459e5564102c4385b83798f731fd281a": {
          "model_module": "@jupyter-widgets/controls",
          "model_name": "HTMLModel",
          "model_module_version": "1.5.0",
          "state": {
            "_dom_classes": [],
            "_model_module": "@jupyter-widgets/controls",
            "_model_module_version": "1.5.0",
            "_model_name": "HTMLModel",
            "_view_count": null,
            "_view_module": "@jupyter-widgets/controls",
            "_view_module_version": "1.5.0",
            "_view_name": "HTMLView",
            "description": "",
            "description_tooltip": null,
            "layout": "IPY_MODEL_b7c85f4978ec435fa31765610a96110b",
            "placeholder": "​",
            "style": "IPY_MODEL_b1ff6f4c6d9f43ff92a79658a1f8cb8f",
            "value": " 1.72M/1.72M [00:00&lt;00:00, 16.6MB/s]"
          }
        },
        "f8433edd4c204167b5c78160fac6ac92": {
          "model_module": "@jupyter-widgets/base",
          "model_name": "LayoutModel",
          "model_module_version": "1.2.0",
          "state": {
            "_model_module": "@jupyter-widgets/base",
            "_model_module_version": "1.2.0",
            "_model_name": "LayoutModel",
            "_view_count": null,
            "_view_module": "@jupyter-widgets/base",
            "_view_module_version": "1.2.0",
            "_view_name": "LayoutView",
            "align_content": null,
            "align_items": null,
            "align_self": null,
            "border": null,
            "bottom": null,
            "display": null,
            "flex": null,
            "flex_flow": null,
            "grid_area": null,
            "grid_auto_columns": null,
            "grid_auto_flow": null,
            "grid_auto_rows": null,
            "grid_column": null,
            "grid_gap": null,
            "grid_row": null,
            "grid_template_areas": null,
            "grid_template_columns": null,
            "grid_template_rows": null,
            "height": null,
            "justify_content": null,
            "justify_items": null,
            "left": null,
            "margin": null,
            "max_height": null,
            "max_width": null,
            "min_height": null,
            "min_width": null,
            "object_fit": null,
            "object_position": null,
            "order": null,
            "overflow": null,
            "overflow_x": null,
            "overflow_y": null,
            "padding": null,
            "right": null,
            "top": null,
            "visibility": null,
            "width": null
          }
        },
        "a0158d2667024242b9c8ba099976cfc8": {
          "model_module": "@jupyter-widgets/base",
          "model_name": "LayoutModel",
          "model_module_version": "1.2.0",
          "state": {
            "_model_module": "@jupyter-widgets/base",
            "_model_module_version": "1.2.0",
            "_model_name": "LayoutModel",
            "_view_count": null,
            "_view_module": "@jupyter-widgets/base",
            "_view_module_version": "1.2.0",
            "_view_name": "LayoutView",
            "align_content": null,
            "align_items": null,
            "align_self": null,
            "border": null,
            "bottom": null,
            "display": null,
            "flex": null,
            "flex_flow": null,
            "grid_area": null,
            "grid_auto_columns": null,
            "grid_auto_flow": null,
            "grid_auto_rows": null,
            "grid_column": null,
            "grid_gap": null,
            "grid_row": null,
            "grid_template_areas": null,
            "grid_template_columns": null,
            "grid_template_rows": null,
            "height": null,
            "justify_content": null,
            "justify_items": null,
            "left": null,
            "margin": null,
            "max_height": null,
            "max_width": null,
            "min_height": null,
            "min_width": null,
            "object_fit": null,
            "object_position": null,
            "order": null,
            "overflow": null,
            "overflow_x": null,
            "overflow_y": null,
            "padding": null,
            "right": null,
            "top": null,
            "visibility": null,
            "width": null
          }
        },
        "b8f91b6ab42744ccb88f4a09f1987dc0": {
          "model_module": "@jupyter-widgets/controls",
          "model_name": "DescriptionStyleModel",
          "model_module_version": "1.5.0",
          "state": {
            "_model_module": "@jupyter-widgets/controls",
            "_model_module_version": "1.5.0",
            "_model_name": "DescriptionStyleModel",
            "_view_count": null,
            "_view_module": "@jupyter-widgets/base",
            "_view_module_version": "1.2.0",
            "_view_name": "StyleView",
            "description_width": ""
          }
        },
        "15e88467a1e14df098c745630c8be6d4": {
          "model_module": "@jupyter-widgets/base",
          "model_name": "LayoutModel",
          "model_module_version": "1.2.0",
          "state": {
            "_model_module": "@jupyter-widgets/base",
            "_model_module_version": "1.2.0",
            "_model_name": "LayoutModel",
            "_view_count": null,
            "_view_module": "@jupyter-widgets/base",
            "_view_module_version": "1.2.0",
            "_view_name": "LayoutView",
            "align_content": null,
            "align_items": null,
            "align_self": null,
            "border": null,
            "bottom": null,
            "display": null,
            "flex": null,
            "flex_flow": null,
            "grid_area": null,
            "grid_auto_columns": null,
            "grid_auto_flow": null,
            "grid_auto_rows": null,
            "grid_column": null,
            "grid_gap": null,
            "grid_row": null,
            "grid_template_areas": null,
            "grid_template_columns": null,
            "grid_template_rows": null,
            "height": null,
            "justify_content": null,
            "justify_items": null,
            "left": null,
            "margin": null,
            "max_height": null,
            "max_width": null,
            "min_height": null,
            "min_width": null,
            "object_fit": null,
            "object_position": null,
            "order": null,
            "overflow": null,
            "overflow_x": null,
            "overflow_y": null,
            "padding": null,
            "right": null,
            "top": null,
            "visibility": null,
            "width": null
          }
        },
        "675d5726b7244ecd820e012c9a5eb4e3": {
          "model_module": "@jupyter-widgets/controls",
          "model_name": "ProgressStyleModel",
          "model_module_version": "1.5.0",
          "state": {
            "_model_module": "@jupyter-widgets/controls",
            "_model_module_version": "1.5.0",
            "_model_name": "ProgressStyleModel",
            "_view_count": null,
            "_view_module": "@jupyter-widgets/base",
            "_view_module_version": "1.2.0",
            "_view_name": "StyleView",
            "bar_color": null,
            "description_width": ""
          }
        },
        "b7c85f4978ec435fa31765610a96110b": {
          "model_module": "@jupyter-widgets/base",
          "model_name": "LayoutModel",
          "model_module_version": "1.2.0",
          "state": {
            "_model_module": "@jupyter-widgets/base",
            "_model_module_version": "1.2.0",
            "_model_name": "LayoutModel",
            "_view_count": null,
            "_view_module": "@jupyter-widgets/base",
            "_view_module_version": "1.2.0",
            "_view_name": "LayoutView",
            "align_content": null,
            "align_items": null,
            "align_self": null,
            "border": null,
            "bottom": null,
            "display": null,
            "flex": null,
            "flex_flow": null,
            "grid_area": null,
            "grid_auto_columns": null,
            "grid_auto_flow": null,
            "grid_auto_rows": null,
            "grid_column": null,
            "grid_gap": null,
            "grid_row": null,
            "grid_template_areas": null,
            "grid_template_columns": null,
            "grid_template_rows": null,
            "height": null,
            "justify_content": null,
            "justify_items": null,
            "left": null,
            "margin": null,
            "max_height": null,
            "max_width": null,
            "min_height": null,
            "min_width": null,
            "object_fit": null,
            "object_position": null,
            "order": null,
            "overflow": null,
            "overflow_x": null,
            "overflow_y": null,
            "padding": null,
            "right": null,
            "top": null,
            "visibility": null,
            "width": null
          }
        },
        "b1ff6f4c6d9f43ff92a79658a1f8cb8f": {
          "model_module": "@jupyter-widgets/controls",
          "model_name": "DescriptionStyleModel",
          "model_module_version": "1.5.0",
          "state": {
            "_model_module": "@jupyter-widgets/controls",
            "_model_module_version": "1.5.0",
            "_model_name": "DescriptionStyleModel",
            "_view_count": null,
            "_view_module": "@jupyter-widgets/base",
            "_view_module_version": "1.2.0",
            "_view_name": "StyleView",
            "description_width": ""
          }
        },
        "191b7d0e34d64d07b89bced4912c8f02": {
          "model_module": "@jupyter-widgets/controls",
          "model_name": "HBoxModel",
          "model_module_version": "1.5.0",
          "state": {
            "_dom_classes": [],
            "_model_module": "@jupyter-widgets/controls",
            "_model_module_version": "1.5.0",
            "_model_name": "HBoxModel",
            "_view_count": null,
            "_view_module": "@jupyter-widgets/controls",
            "_view_module_version": "1.5.0",
            "_view_name": "HBoxView",
            "box_style": "",
            "children": [
              "IPY_MODEL_3727333dc29f4003a97bcf03530569f9",
              "IPY_MODEL_16d0daef07af4b26add3fee18c4420a3",
              "IPY_MODEL_6f44ba11d3494b1083f60e15a0956252"
            ],
            "layout": "IPY_MODEL_b11a9db357724ee0af9e2d497ab4afc0"
          }
        },
        "3727333dc29f4003a97bcf03530569f9": {
          "model_module": "@jupyter-widgets/controls",
          "model_name": "HTMLModel",
          "model_module_version": "1.5.0",
          "state": {
            "_dom_classes": [],
            "_model_module": "@jupyter-widgets/controls",
            "_model_module_version": "1.5.0",
            "_model_name": "HTMLModel",
            "_view_count": null,
            "_view_module": "@jupyter-widgets/controls",
            "_view_module_version": "1.5.0",
            "_view_name": "HTMLView",
            "description": "",
            "description_tooltip": null,
            "layout": "IPY_MODEL_5bbd9d6ae8194c34ae33b8767734ffbe",
            "placeholder": "​",
            "style": "IPY_MODEL_dc4238c726e64227837d63a99f42d278",
            "value": "config.json: 100%"
          }
        },
        "16d0daef07af4b26add3fee18c4420a3": {
          "model_module": "@jupyter-widgets/controls",
          "model_name": "FloatProgressModel",
          "model_module_version": "1.5.0",
          "state": {
            "_dom_classes": [],
            "_model_module": "@jupyter-widgets/controls",
            "_model_module_version": "1.5.0",
            "_model_name": "FloatProgressModel",
            "_view_count": null,
            "_view_module": "@jupyter-widgets/controls",
            "_view_module_version": "1.5.0",
            "_view_name": "ProgressView",
            "bar_style": "success",
            "description": "",
            "description_tooltip": null,
            "layout": "IPY_MODEL_4bb391cbcc5f45c799991cf909133322",
            "max": 1394,
            "min": 0,
            "orientation": "horizontal",
            "style": "IPY_MODEL_ebb9cc6bec1e442bac264b7f50eeb075",
            "value": 1394
          }
        },
        "6f44ba11d3494b1083f60e15a0956252": {
          "model_module": "@jupyter-widgets/controls",
          "model_name": "HTMLModel",
          "model_module_version": "1.5.0",
          "state": {
            "_dom_classes": [],
            "_model_module": "@jupyter-widgets/controls",
            "_model_module_version": "1.5.0",
            "_model_name": "HTMLModel",
            "_view_count": null,
            "_view_module": "@jupyter-widgets/controls",
            "_view_module_version": "1.5.0",
            "_view_name": "HTMLView",
            "description": "",
            "description_tooltip": null,
            "layout": "IPY_MODEL_abb0a565fa6b401589cd4e8fe62bfffc",
            "placeholder": "​",
            "style": "IPY_MODEL_e6988fd7a22f4a3d8ef2f050aea654e9",
            "value": " 1.39k/1.39k [00:00&lt;00:00, 29.9kB/s]"
          }
        },
        "b11a9db357724ee0af9e2d497ab4afc0": {
          "model_module": "@jupyter-widgets/base",
          "model_name": "LayoutModel",
          "model_module_version": "1.2.0",
          "state": {
            "_model_module": "@jupyter-widgets/base",
            "_model_module_version": "1.2.0",
            "_model_name": "LayoutModel",
            "_view_count": null,
            "_view_module": "@jupyter-widgets/base",
            "_view_module_version": "1.2.0",
            "_view_name": "LayoutView",
            "align_content": null,
            "align_items": null,
            "align_self": null,
            "border": null,
            "bottom": null,
            "display": null,
            "flex": null,
            "flex_flow": null,
            "grid_area": null,
            "grid_auto_columns": null,
            "grid_auto_flow": null,
            "grid_auto_rows": null,
            "grid_column": null,
            "grid_gap": null,
            "grid_row": null,
            "grid_template_areas": null,
            "grid_template_columns": null,
            "grid_template_rows": null,
            "height": null,
            "justify_content": null,
            "justify_items": null,
            "left": null,
            "margin": null,
            "max_height": null,
            "max_width": null,
            "min_height": null,
            "min_width": null,
            "object_fit": null,
            "object_position": null,
            "order": null,
            "overflow": null,
            "overflow_x": null,
            "overflow_y": null,
            "padding": null,
            "right": null,
            "top": null,
            "visibility": null,
            "width": null
          }
        },
        "5bbd9d6ae8194c34ae33b8767734ffbe": {
          "model_module": "@jupyter-widgets/base",
          "model_name": "LayoutModel",
          "model_module_version": "1.2.0",
          "state": {
            "_model_module": "@jupyter-widgets/base",
            "_model_module_version": "1.2.0",
            "_model_name": "LayoutModel",
            "_view_count": null,
            "_view_module": "@jupyter-widgets/base",
            "_view_module_version": "1.2.0",
            "_view_name": "LayoutView",
            "align_content": null,
            "align_items": null,
            "align_self": null,
            "border": null,
            "bottom": null,
            "display": null,
            "flex": null,
            "flex_flow": null,
            "grid_area": null,
            "grid_auto_columns": null,
            "grid_auto_flow": null,
            "grid_auto_rows": null,
            "grid_column": null,
            "grid_gap": null,
            "grid_row": null,
            "grid_template_areas": null,
            "grid_template_columns": null,
            "grid_template_rows": null,
            "height": null,
            "justify_content": null,
            "justify_items": null,
            "left": null,
            "margin": null,
            "max_height": null,
            "max_width": null,
            "min_height": null,
            "min_width": null,
            "object_fit": null,
            "object_position": null,
            "order": null,
            "overflow": null,
            "overflow_x": null,
            "overflow_y": null,
            "padding": null,
            "right": null,
            "top": null,
            "visibility": null,
            "width": null
          }
        },
        "dc4238c726e64227837d63a99f42d278": {
          "model_module": "@jupyter-widgets/controls",
          "model_name": "DescriptionStyleModel",
          "model_module_version": "1.5.0",
          "state": {
            "_model_module": "@jupyter-widgets/controls",
            "_model_module_version": "1.5.0",
            "_model_name": "DescriptionStyleModel",
            "_view_count": null,
            "_view_module": "@jupyter-widgets/base",
            "_view_module_version": "1.2.0",
            "_view_name": "StyleView",
            "description_width": ""
          }
        },
        "4bb391cbcc5f45c799991cf909133322": {
          "model_module": "@jupyter-widgets/base",
          "model_name": "LayoutModel",
          "model_module_version": "1.2.0",
          "state": {
            "_model_module": "@jupyter-widgets/base",
            "_model_module_version": "1.2.0",
            "_model_name": "LayoutModel",
            "_view_count": null,
            "_view_module": "@jupyter-widgets/base",
            "_view_module_version": "1.2.0",
            "_view_name": "LayoutView",
            "align_content": null,
            "align_items": null,
            "align_self": null,
            "border": null,
            "bottom": null,
            "display": null,
            "flex": null,
            "flex_flow": null,
            "grid_area": null,
            "grid_auto_columns": null,
            "grid_auto_flow": null,
            "grid_auto_rows": null,
            "grid_column": null,
            "grid_gap": null,
            "grid_row": null,
            "grid_template_areas": null,
            "grid_template_columns": null,
            "grid_template_rows": null,
            "height": null,
            "justify_content": null,
            "justify_items": null,
            "left": null,
            "margin": null,
            "max_height": null,
            "max_width": null,
            "min_height": null,
            "min_width": null,
            "object_fit": null,
            "object_position": null,
            "order": null,
            "overflow": null,
            "overflow_x": null,
            "overflow_y": null,
            "padding": null,
            "right": null,
            "top": null,
            "visibility": null,
            "width": null
          }
        },
        "ebb9cc6bec1e442bac264b7f50eeb075": {
          "model_module": "@jupyter-widgets/controls",
          "model_name": "ProgressStyleModel",
          "model_module_version": "1.5.0",
          "state": {
            "_model_module": "@jupyter-widgets/controls",
            "_model_module_version": "1.5.0",
            "_model_name": "ProgressStyleModel",
            "_view_count": null,
            "_view_module": "@jupyter-widgets/base",
            "_view_module_version": "1.2.0",
            "_view_name": "StyleView",
            "bar_color": null,
            "description_width": ""
          }
        },
        "abb0a565fa6b401589cd4e8fe62bfffc": {
          "model_module": "@jupyter-widgets/base",
          "model_name": "LayoutModel",
          "model_module_version": "1.2.0",
          "state": {
            "_model_module": "@jupyter-widgets/base",
            "_model_module_version": "1.2.0",
            "_model_name": "LayoutModel",
            "_view_count": null,
            "_view_module": "@jupyter-widgets/base",
            "_view_module_version": "1.2.0",
            "_view_name": "LayoutView",
            "align_content": null,
            "align_items": null,
            "align_self": null,
            "border": null,
            "bottom": null,
            "display": null,
            "flex": null,
            "flex_flow": null,
            "grid_area": null,
            "grid_auto_columns": null,
            "grid_auto_flow": null,
            "grid_auto_rows": null,
            "grid_column": null,
            "grid_gap": null,
            "grid_row": null,
            "grid_template_areas": null,
            "grid_template_columns": null,
            "grid_template_rows": null,
            "height": null,
            "justify_content": null,
            "justify_items": null,
            "left": null,
            "margin": null,
            "max_height": null,
            "max_width": null,
            "min_height": null,
            "min_width": null,
            "object_fit": null,
            "object_position": null,
            "order": null,
            "overflow": null,
            "overflow_x": null,
            "overflow_y": null,
            "padding": null,
            "right": null,
            "top": null,
            "visibility": null,
            "width": null
          }
        },
        "e6988fd7a22f4a3d8ef2f050aea654e9": {
          "model_module": "@jupyter-widgets/controls",
          "model_name": "DescriptionStyleModel",
          "model_module_version": "1.5.0",
          "state": {
            "_model_module": "@jupyter-widgets/controls",
            "_model_module_version": "1.5.0",
            "_model_name": "DescriptionStyleModel",
            "_view_count": null,
            "_view_module": "@jupyter-widgets/base",
            "_view_module_version": "1.2.0",
            "_view_name": "StyleView",
            "description_width": ""
          }
        },
        "4d4bbd95807f438bb4bfc08ac5b355ed": {
          "model_module": "@jupyter-widgets/controls",
          "model_name": "HBoxModel",
          "model_module_version": "1.5.0",
          "state": {
            "_dom_classes": [],
            "_model_module": "@jupyter-widgets/controls",
            "_model_module_version": "1.5.0",
            "_model_name": "HBoxModel",
            "_view_count": null,
            "_view_module": "@jupyter-widgets/controls",
            "_view_module_version": "1.5.0",
            "_view_name": "HBoxView",
            "box_style": "",
            "children": [
              "IPY_MODEL_17a113568e1045e088c623f9deb3c9d7",
              "IPY_MODEL_08a29118acbc4e7bb523b10fb203f36a",
              "IPY_MODEL_726b417607c547939524bcf1872cfdcb"
            ],
            "layout": "IPY_MODEL_ea3a9431fdd24c17af9defb9891d1796"
          }
        },
        "17a113568e1045e088c623f9deb3c9d7": {
          "model_module": "@jupyter-widgets/controls",
          "model_name": "HTMLModel",
          "model_module_version": "1.5.0",
          "state": {
            "_dom_classes": [],
            "_model_module": "@jupyter-widgets/controls",
            "_model_module_version": "1.5.0",
            "_model_name": "HTMLModel",
            "_view_count": null,
            "_view_module": "@jupyter-widgets/controls",
            "_view_module_version": "1.5.0",
            "_view_name": "HTMLView",
            "description": "",
            "description_tooltip": null,
            "layout": "IPY_MODEL_68234c8930a746ea8ae89d35ae272e48",
            "placeholder": "​",
            "style": "IPY_MODEL_7bf3ff664c4b4d33a77542b8dccb43ef",
            "value": "pytorch_model.bin: 100%"
          }
        },
        "08a29118acbc4e7bb523b10fb203f36a": {
          "model_module": "@jupyter-widgets/controls",
          "model_name": "FloatProgressModel",
          "model_module_version": "1.5.0",
          "state": {
            "_dom_classes": [],
            "_model_module": "@jupyter-widgets/controls",
            "_model_module_version": "1.5.0",
            "_model_name": "FloatProgressModel",
            "_view_count": null,
            "_view_module": "@jupyter-widgets/controls",
            "_view_module_version": "1.5.0",
            "_view_name": "ProgressView",
            "bar_style": "success",
            "description": "",
            "description_tooltip": null,
            "layout": "IPY_MODEL_ab03331383d54a9ba5caa1a3f26b6bdf",
            "max": 312087009,
            "min": 0,
            "orientation": "horizontal",
            "style": "IPY_MODEL_da2a352f24f84da5b79e19a7b527bab7",
            "value": 312087009
          }
        },
        "726b417607c547939524bcf1872cfdcb": {
          "model_module": "@jupyter-widgets/controls",
          "model_name": "HTMLModel",
          "model_module_version": "1.5.0",
          "state": {
            "_dom_classes": [],
            "_model_module": "@jupyter-widgets/controls",
            "_model_module_version": "1.5.0",
            "_model_name": "HTMLModel",
            "_view_count": null,
            "_view_module": "@jupyter-widgets/controls",
            "_view_module_version": "1.5.0",
            "_view_name": "HTMLView",
            "description": "",
            "description_tooltip": null,
            "layout": "IPY_MODEL_c7be9f3d2ccf4eeeab6a6dd1ae7b3be0",
            "placeholder": "​",
            "style": "IPY_MODEL_ee7237e5664342be9e0500b0ad2878bb",
            "value": " 312M/312M [00:07&lt;00:00, 38.6MB/s]"
          }
        },
        "ea3a9431fdd24c17af9defb9891d1796": {
          "model_module": "@jupyter-widgets/base",
          "model_name": "LayoutModel",
          "model_module_version": "1.2.0",
          "state": {
            "_model_module": "@jupyter-widgets/base",
            "_model_module_version": "1.2.0",
            "_model_name": "LayoutModel",
            "_view_count": null,
            "_view_module": "@jupyter-widgets/base",
            "_view_module_version": "1.2.0",
            "_view_name": "LayoutView",
            "align_content": null,
            "align_items": null,
            "align_self": null,
            "border": null,
            "bottom": null,
            "display": null,
            "flex": null,
            "flex_flow": null,
            "grid_area": null,
            "grid_auto_columns": null,
            "grid_auto_flow": null,
            "grid_auto_rows": null,
            "grid_column": null,
            "grid_gap": null,
            "grid_row": null,
            "grid_template_areas": null,
            "grid_template_columns": null,
            "grid_template_rows": null,
            "height": null,
            "justify_content": null,
            "justify_items": null,
            "left": null,
            "margin": null,
            "max_height": null,
            "max_width": null,
            "min_height": null,
            "min_width": null,
            "object_fit": null,
            "object_position": null,
            "order": null,
            "overflow": null,
            "overflow_x": null,
            "overflow_y": null,
            "padding": null,
            "right": null,
            "top": null,
            "visibility": null,
            "width": null
          }
        },
        "68234c8930a746ea8ae89d35ae272e48": {
          "model_module": "@jupyter-widgets/base",
          "model_name": "LayoutModel",
          "model_module_version": "1.2.0",
          "state": {
            "_model_module": "@jupyter-widgets/base",
            "_model_module_version": "1.2.0",
            "_model_name": "LayoutModel",
            "_view_count": null,
            "_view_module": "@jupyter-widgets/base",
            "_view_module_version": "1.2.0",
            "_view_name": "LayoutView",
            "align_content": null,
            "align_items": null,
            "align_self": null,
            "border": null,
            "bottom": null,
            "display": null,
            "flex": null,
            "flex_flow": null,
            "grid_area": null,
            "grid_auto_columns": null,
            "grid_auto_flow": null,
            "grid_auto_rows": null,
            "grid_column": null,
            "grid_gap": null,
            "grid_row": null,
            "grid_template_areas": null,
            "grid_template_columns": null,
            "grid_template_rows": null,
            "height": null,
            "justify_content": null,
            "justify_items": null,
            "left": null,
            "margin": null,
            "max_height": null,
            "max_width": null,
            "min_height": null,
            "min_width": null,
            "object_fit": null,
            "object_position": null,
            "order": null,
            "overflow": null,
            "overflow_x": null,
            "overflow_y": null,
            "padding": null,
            "right": null,
            "top": null,
            "visibility": null,
            "width": null
          }
        },
        "7bf3ff664c4b4d33a77542b8dccb43ef": {
          "model_module": "@jupyter-widgets/controls",
          "model_name": "DescriptionStyleModel",
          "model_module_version": "1.5.0",
          "state": {
            "_model_module": "@jupyter-widgets/controls",
            "_model_module_version": "1.5.0",
            "_model_name": "DescriptionStyleModel",
            "_view_count": null,
            "_view_module": "@jupyter-widgets/base",
            "_view_module_version": "1.2.0",
            "_view_name": "StyleView",
            "description_width": ""
          }
        },
        "ab03331383d54a9ba5caa1a3f26b6bdf": {
          "model_module": "@jupyter-widgets/base",
          "model_name": "LayoutModel",
          "model_module_version": "1.2.0",
          "state": {
            "_model_module": "@jupyter-widgets/base",
            "_model_module_version": "1.2.0",
            "_model_name": "LayoutModel",
            "_view_count": null,
            "_view_module": "@jupyter-widgets/base",
            "_view_module_version": "1.2.0",
            "_view_name": "LayoutView",
            "align_content": null,
            "align_items": null,
            "align_self": null,
            "border": null,
            "bottom": null,
            "display": null,
            "flex": null,
            "flex_flow": null,
            "grid_area": null,
            "grid_auto_columns": null,
            "grid_auto_flow": null,
            "grid_auto_rows": null,
            "grid_column": null,
            "grid_gap": null,
            "grid_row": null,
            "grid_template_areas": null,
            "grid_template_columns": null,
            "grid_template_rows": null,
            "height": null,
            "justify_content": null,
            "justify_items": null,
            "left": null,
            "margin": null,
            "max_height": null,
            "max_width": null,
            "min_height": null,
            "min_width": null,
            "object_fit": null,
            "object_position": null,
            "order": null,
            "overflow": null,
            "overflow_x": null,
            "overflow_y": null,
            "padding": null,
            "right": null,
            "top": null,
            "visibility": null,
            "width": null
          }
        },
        "da2a352f24f84da5b79e19a7b527bab7": {
          "model_module": "@jupyter-widgets/controls",
          "model_name": "ProgressStyleModel",
          "model_module_version": "1.5.0",
          "state": {
            "_model_module": "@jupyter-widgets/controls",
            "_model_module_version": "1.5.0",
            "_model_name": "ProgressStyleModel",
            "_view_count": null,
            "_view_module": "@jupyter-widgets/base",
            "_view_module_version": "1.2.0",
            "_view_name": "StyleView",
            "bar_color": null,
            "description_width": ""
          }
        },
        "c7be9f3d2ccf4eeeab6a6dd1ae7b3be0": {
          "model_module": "@jupyter-widgets/base",
          "model_name": "LayoutModel",
          "model_module_version": "1.2.0",
          "state": {
            "_model_module": "@jupyter-widgets/base",
            "_model_module_version": "1.2.0",
            "_model_name": "LayoutModel",
            "_view_count": null,
            "_view_module": "@jupyter-widgets/base",
            "_view_module_version": "1.2.0",
            "_view_name": "LayoutView",
            "align_content": null,
            "align_items": null,
            "align_self": null,
            "border": null,
            "bottom": null,
            "display": null,
            "flex": null,
            "flex_flow": null,
            "grid_area": null,
            "grid_auto_columns": null,
            "grid_auto_flow": null,
            "grid_auto_rows": null,
            "grid_column": null,
            "grid_gap": null,
            "grid_row": null,
            "grid_template_areas": null,
            "grid_template_columns": null,
            "grid_template_rows": null,
            "height": null,
            "justify_content": null,
            "justify_items": null,
            "left": null,
            "margin": null,
            "max_height": null,
            "max_width": null,
            "min_height": null,
            "min_width": null,
            "object_fit": null,
            "object_position": null,
            "order": null,
            "overflow": null,
            "overflow_x": null,
            "overflow_y": null,
            "padding": null,
            "right": null,
            "top": null,
            "visibility": null,
            "width": null
          }
        },
        "ee7237e5664342be9e0500b0ad2878bb": {
          "model_module": "@jupyter-widgets/controls",
          "model_name": "DescriptionStyleModel",
          "model_module_version": "1.5.0",
          "state": {
            "_model_module": "@jupyter-widgets/controls",
            "_model_module_version": "1.5.0",
            "_model_name": "DescriptionStyleModel",
            "_view_count": null,
            "_view_module": "@jupyter-widgets/base",
            "_view_module_version": "1.2.0",
            "_view_name": "StyleView",
            "description_width": ""
          }
        },
        "64768e4bcf6a4c0f9d9e4d8d8b0d77fd": {
          "model_module": "@jupyter-widgets/controls",
          "model_name": "HBoxModel",
          "model_module_version": "1.5.0",
          "state": {
            "_dom_classes": [],
            "_model_module": "@jupyter-widgets/controls",
            "_model_module_version": "1.5.0",
            "_model_name": "HBoxModel",
            "_view_count": null,
            "_view_module": "@jupyter-widgets/controls",
            "_view_module_version": "1.5.0",
            "_view_name": "HBoxView",
            "box_style": "",
            "children": [
              "IPY_MODEL_6a9dc94bc1514a1da706377a1555de4b",
              "IPY_MODEL_1074e2fae67c44b89bb5b280fd8f175b",
              "IPY_MODEL_b3505325b05e49bd995ae3a3eab3034b"
            ],
            "layout": "IPY_MODEL_12f97965c31f49ed98b8ef2a1c1fd9a0"
          }
        },
        "6a9dc94bc1514a1da706377a1555de4b": {
          "model_module": "@jupyter-widgets/controls",
          "model_name": "HTMLModel",
          "model_module_version": "1.5.0",
          "state": {
            "_dom_classes": [],
            "_model_module": "@jupyter-widgets/controls",
            "_model_module_version": "1.5.0",
            "_model_name": "HTMLModel",
            "_view_count": null,
            "_view_module": "@jupyter-widgets/controls",
            "_view_module_version": "1.5.0",
            "_view_name": "HTMLView",
            "description": "",
            "description_tooltip": null,
            "layout": "IPY_MODEL_774910aec387436cbce602dd0215c8d8",
            "placeholder": "​",
            "style": "IPY_MODEL_ec83dac865da4eabbe22afe5e4fcb99b",
            "value": "generation_config.json: 100%"
          }
        },
        "1074e2fae67c44b89bb5b280fd8f175b": {
          "model_module": "@jupyter-widgets/controls",
          "model_name": "FloatProgressModel",
          "model_module_version": "1.5.0",
          "state": {
            "_dom_classes": [],
            "_model_module": "@jupyter-widgets/controls",
            "_model_module_version": "1.5.0",
            "_model_name": "FloatProgressModel",
            "_view_count": null,
            "_view_module": "@jupyter-widgets/controls",
            "_view_module_version": "1.5.0",
            "_view_name": "ProgressView",
            "bar_style": "success",
            "description": "",
            "description_tooltip": null,
            "layout": "IPY_MODEL_62fe461c6dcc40939d309108e7fb6567",
            "max": 293,
            "min": 0,
            "orientation": "horizontal",
            "style": "IPY_MODEL_b8a531a20d584526a317b29e8a9f7fa6",
            "value": 293
          }
        },
        "b3505325b05e49bd995ae3a3eab3034b": {
          "model_module": "@jupyter-widgets/controls",
          "model_name": "HTMLModel",
          "model_module_version": "1.5.0",
          "state": {
            "_dom_classes": [],
            "_model_module": "@jupyter-widgets/controls",
            "_model_module_version": "1.5.0",
            "_model_name": "HTMLModel",
            "_view_count": null,
            "_view_module": "@jupyter-widgets/controls",
            "_view_module_version": "1.5.0",
            "_view_name": "HTMLView",
            "description": "",
            "description_tooltip": null,
            "layout": "IPY_MODEL_4594e838329348c484a8d4059c4c5ae1",
            "placeholder": "​",
            "style": "IPY_MODEL_ea7acefda3e3456795e5f6a27452bdfe",
            "value": " 293/293 [00:00&lt;00:00, 4.66kB/s]"
          }
        },
        "12f97965c31f49ed98b8ef2a1c1fd9a0": {
          "model_module": "@jupyter-widgets/base",
          "model_name": "LayoutModel",
          "model_module_version": "1.2.0",
          "state": {
            "_model_module": "@jupyter-widgets/base",
            "_model_module_version": "1.2.0",
            "_model_name": "LayoutModel",
            "_view_count": null,
            "_view_module": "@jupyter-widgets/base",
            "_view_module_version": "1.2.0",
            "_view_name": "LayoutView",
            "align_content": null,
            "align_items": null,
            "align_self": null,
            "border": null,
            "bottom": null,
            "display": null,
            "flex": null,
            "flex_flow": null,
            "grid_area": null,
            "grid_auto_columns": null,
            "grid_auto_flow": null,
            "grid_auto_rows": null,
            "grid_column": null,
            "grid_gap": null,
            "grid_row": null,
            "grid_template_areas": null,
            "grid_template_columns": null,
            "grid_template_rows": null,
            "height": null,
            "justify_content": null,
            "justify_items": null,
            "left": null,
            "margin": null,
            "max_height": null,
            "max_width": null,
            "min_height": null,
            "min_width": null,
            "object_fit": null,
            "object_position": null,
            "order": null,
            "overflow": null,
            "overflow_x": null,
            "overflow_y": null,
            "padding": null,
            "right": null,
            "top": null,
            "visibility": null,
            "width": null
          }
        },
        "774910aec387436cbce602dd0215c8d8": {
          "model_module": "@jupyter-widgets/base",
          "model_name": "LayoutModel",
          "model_module_version": "1.2.0",
          "state": {
            "_model_module": "@jupyter-widgets/base",
            "_model_module_version": "1.2.0",
            "_model_name": "LayoutModel",
            "_view_count": null,
            "_view_module": "@jupyter-widgets/base",
            "_view_module_version": "1.2.0",
            "_view_name": "LayoutView",
            "align_content": null,
            "align_items": null,
            "align_self": null,
            "border": null,
            "bottom": null,
            "display": null,
            "flex": null,
            "flex_flow": null,
            "grid_area": null,
            "grid_auto_columns": null,
            "grid_auto_flow": null,
            "grid_auto_rows": null,
            "grid_column": null,
            "grid_gap": null,
            "grid_row": null,
            "grid_template_areas": null,
            "grid_template_columns": null,
            "grid_template_rows": null,
            "height": null,
            "justify_content": null,
            "justify_items": null,
            "left": null,
            "margin": null,
            "max_height": null,
            "max_width": null,
            "min_height": null,
            "min_width": null,
            "object_fit": null,
            "object_position": null,
            "order": null,
            "overflow": null,
            "overflow_x": null,
            "overflow_y": null,
            "padding": null,
            "right": null,
            "top": null,
            "visibility": null,
            "width": null
          }
        },
        "ec83dac865da4eabbe22afe5e4fcb99b": {
          "model_module": "@jupyter-widgets/controls",
          "model_name": "DescriptionStyleModel",
          "model_module_version": "1.5.0",
          "state": {
            "_model_module": "@jupyter-widgets/controls",
            "_model_module_version": "1.5.0",
            "_model_name": "DescriptionStyleModel",
            "_view_count": null,
            "_view_module": "@jupyter-widgets/base",
            "_view_module_version": "1.2.0",
            "_view_name": "StyleView",
            "description_width": ""
          }
        },
        "62fe461c6dcc40939d309108e7fb6567": {
          "model_module": "@jupyter-widgets/base",
          "model_name": "LayoutModel",
          "model_module_version": "1.2.0",
          "state": {
            "_model_module": "@jupyter-widgets/base",
            "_model_module_version": "1.2.0",
            "_model_name": "LayoutModel",
            "_view_count": null,
            "_view_module": "@jupyter-widgets/base",
            "_view_module_version": "1.2.0",
            "_view_name": "LayoutView",
            "align_content": null,
            "align_items": null,
            "align_self": null,
            "border": null,
            "bottom": null,
            "display": null,
            "flex": null,
            "flex_flow": null,
            "grid_area": null,
            "grid_auto_columns": null,
            "grid_auto_flow": null,
            "grid_auto_rows": null,
            "grid_column": null,
            "grid_gap": null,
            "grid_row": null,
            "grid_template_areas": null,
            "grid_template_columns": null,
            "grid_template_rows": null,
            "height": null,
            "justify_content": null,
            "justify_items": null,
            "left": null,
            "margin": null,
            "max_height": null,
            "max_width": null,
            "min_height": null,
            "min_width": null,
            "object_fit": null,
            "object_position": null,
            "order": null,
            "overflow": null,
            "overflow_x": null,
            "overflow_y": null,
            "padding": null,
            "right": null,
            "top": null,
            "visibility": null,
            "width": null
          }
        },
        "b8a531a20d584526a317b29e8a9f7fa6": {
          "model_module": "@jupyter-widgets/controls",
          "model_name": "ProgressStyleModel",
          "model_module_version": "1.5.0",
          "state": {
            "_model_module": "@jupyter-widgets/controls",
            "_model_module_version": "1.5.0",
            "_model_name": "ProgressStyleModel",
            "_view_count": null,
            "_view_module": "@jupyter-widgets/base",
            "_view_module_version": "1.2.0",
            "_view_name": "StyleView",
            "bar_color": null,
            "description_width": ""
          }
        },
        "4594e838329348c484a8d4059c4c5ae1": {
          "model_module": "@jupyter-widgets/base",
          "model_name": "LayoutModel",
          "model_module_version": "1.2.0",
          "state": {
            "_model_module": "@jupyter-widgets/base",
            "_model_module_version": "1.2.0",
            "_model_name": "LayoutModel",
            "_view_count": null,
            "_view_module": "@jupyter-widgets/base",
            "_view_module_version": "1.2.0",
            "_view_name": "LayoutView",
            "align_content": null,
            "align_items": null,
            "align_self": null,
            "border": null,
            "bottom": null,
            "display": null,
            "flex": null,
            "flex_flow": null,
            "grid_area": null,
            "grid_auto_columns": null,
            "grid_auto_flow": null,
            "grid_auto_rows": null,
            "grid_column": null,
            "grid_gap": null,
            "grid_row": null,
            "grid_template_areas": null,
            "grid_template_columns": null,
            "grid_template_rows": null,
            "height": null,
            "justify_content": null,
            "justify_items": null,
            "left": null,
            "margin": null,
            "max_height": null,
            "max_width": null,
            "min_height": null,
            "min_width": null,
            "object_fit": null,
            "object_position": null,
            "order": null,
            "overflow": null,
            "overflow_x": null,
            "overflow_y": null,
            "padding": null,
            "right": null,
            "top": null,
            "visibility": null,
            "width": null
          }
        },
        "ea7acefda3e3456795e5f6a27452bdfe": {
          "model_module": "@jupyter-widgets/controls",
          "model_name": "DescriptionStyleModel",
          "model_module_version": "1.5.0",
          "state": {
            "_model_module": "@jupyter-widgets/controls",
            "_model_module_version": "1.5.0",
            "_model_name": "DescriptionStyleModel",
            "_view_count": null,
            "_view_module": "@jupyter-widgets/base",
            "_view_module_version": "1.2.0",
            "_view_name": "StyleView",
            "description_width": ""
          }
        }
      }
    }
  },
  "nbformat": 4,
  "nbformat_minor": 0
}